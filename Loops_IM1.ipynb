{
 "cells": [
  {
   "cell_type": "markdown",
   "id": "eb0b3ee4",
   "metadata": {},
   "source": [
    "# Loops"
   ]
  },
  {
   "cell_type": "markdown",
   "id": "9b9fd986",
   "metadata": {},
   "source": [
    "\n",
    "    FOR loop\n",
    "    While loop\n"
   ]
  },
  {
   "cell_type": "code",
   "execution_count": 1,
   "id": "508db5d5",
   "metadata": {},
   "outputs": [
    {
     "name": "stdout",
     "output_type": "stream",
     "text": [
      "[0, 1, 2, 3, 4, 5, 45, 786]\n"
     ]
    }
   ],
   "source": [
    "simple_list=[0,1,2,3,4,5,45,786]\n",
    "print(simple_list)"
   ]
  },
  {
   "cell_type": "code",
   "execution_count": 2,
   "id": "3af63a95",
   "metadata": {},
   "outputs": [
    {
     "name": "stdout",
     "output_type": "stream",
     "text": [
      "0\n",
      "1\n",
      "2\n",
      "3\n",
      "4\n",
      "5\n",
      "45\n",
      "786\n"
     ]
    }
   ],
   "source": [
    "for i in simple_list:\n",
    "    print(i)"
   ]
  },
  {
   "cell_type": "code",
   "execution_count": 5,
   "id": "2be5bce3",
   "metadata": {},
   "outputs": [
    {
     "name": "stdout",
     "output_type": "stream",
     "text": [
      "4\n",
      "5\n",
      "45\n",
      "786\n",
      "8\n",
      "10\n",
      "90\n",
      "1572\n",
      "12\n",
      "15\n",
      "135\n",
      "2358\n",
      "16\n",
      "20\n",
      "180\n",
      "3144\n"
     ]
    }
   ],
   "source": [
    "for i in simple_list[1:5]:\n",
    "    for j in simple_list[4:8]:\n",
    "        print(i*j)"
   ]
  },
  {
   "cell_type": "code",
   "execution_count": 6,
   "id": "3c33033c",
   "metadata": {},
   "outputs": [
    {
     "name": "stdout",
     "output_type": "stream",
     "text": [
      "range(0, 6)\n"
     ]
    }
   ],
   "source": [
    "# looping over a range of values\n",
    "print(range(6))"
   ]
  },
  {
   "cell_type": "code",
   "execution_count": 8,
   "id": "1edbb72d",
   "metadata": {},
   "outputs": [
    {
     "name": "stdout",
     "output_type": "stream",
     "text": [
      "0\n",
      "1\n",
      "2\n",
      "3\n",
      "4\n",
      "5\n"
     ]
    }
   ],
   "source": [
    "for i in range (6):\n",
    "    print(i)"
   ]
  },
  {
   "cell_type": "code",
   "execution_count": 9,
   "id": "aa772857",
   "metadata": {},
   "outputs": [
    {
     "name": "stdout",
     "output_type": "stream",
     "text": [
      "5\n",
      "6\n",
      "7\n",
      "8\n",
      "9\n"
     ]
    }
   ],
   "source": [
    "for i in range(5,10):\n",
    "    print(i)\n"
   ]
  },
  {
   "cell_type": "code",
   "execution_count": 10,
   "id": "9dfa998a",
   "metadata": {},
   "outputs": [
    {
     "name": "stdout",
     "output_type": "stream",
     "text": [
      "4\n",
      "6\n",
      "8\n",
      "10\n",
      "12\n",
      "14\n",
      "16\n",
      "18\n"
     ]
    }
   ],
   "source": [
    "for i in range(4,20,2):\n",
    "    print(i)"
   ]
  },
  {
   "cell_type": "code",
   "execution_count": 3,
   "id": "7ccfb6bc",
   "metadata": {},
   "outputs": [],
   "source": [
    "#Printing square from 1 to 10 using a for loop"
   ]
  },
  {
   "cell_type": "code",
   "execution_count": 13,
   "id": "f1d900d7",
   "metadata": {},
   "outputs": [
    {
     "name": "stdout",
     "output_type": "stream",
     "text": [
      "1\n",
      "4\n",
      "9\n",
      "16\n",
      "25\n",
      "36\n",
      "49\n",
      "64\n",
      "81\n",
      "100\n"
     ]
    }
   ],
   "source": [
    "for i in range(1,11):\n",
    "    print(i*i)"
   ]
  },
  {
   "cell_type": "code",
   "execution_count": 14,
   "id": "42c0a5b1",
   "metadata": {},
   "outputs": [
    {
     "name": "stdout",
     "output_type": "stream",
     "text": [
      "square of 1 is 1\n",
      "square of 2 is 4\n",
      "square of 3 is 9\n",
      "square of 4 is 16\n",
      "square of 5 is 25\n",
      "square of 6 is 36\n",
      "square of 7 is 49\n",
      "square of 8 is 64\n",
      "square of 9 is 81\n",
      "square of 10 is 100\n"
     ]
    }
   ],
   "source": [
    "x=[1,2,3,4,5,6,7,8,9,10]\n",
    "for i in x:\n",
    "    print('square of {} is {}'.format(i,i*i))"
   ]
  },
  {
   "cell_type": "code",
   "execution_count": 1,
   "id": "288944ef",
   "metadata": {},
   "outputs": [
    {
     "name": "stdout",
     "output_type": "stream",
     "text": [
      "square of 0 is 0\n",
      "square of 1 is 1\n",
      "square of 2 is 4\n",
      "square of 3 is 9\n",
      "square of 4 is 16\n",
      "square of 5 is 25\n",
      "square of 6 is 36\n",
      "square of 7 is 49\n",
      "square of 8 is 64\n",
      "square of 9 is 81\n",
      "square of 10 is 100\n"
     ]
    }
   ],
   "source": [
    "x=range(11)\n",
    "for i in x:\n",
    "    print(f'square of {i} is {i*i}')"
   ]
  },
  {
   "cell_type": "markdown",
   "id": "0886ef62",
   "metadata": {},
   "source": [
    "### Using IF-ELSE with for Loop"
   ]
  },
  {
   "cell_type": "code",
   "execution_count": 2,
   "id": "824e73e8",
   "metadata": {},
   "outputs": [
    {
     "name": "stdout",
     "output_type": "stream",
     "text": [
      "square of 0 is 0\n",
      "square of 2 is 4\n",
      "square of 4 is 16\n",
      "square of 6 is 36\n",
      "square of 8 is 64\n",
      "square of 10 is 100\n",
      "square of 12 is 144\n",
      "square of 14 is 196\n",
      "square of 16 is 256\n",
      "square of 18 is 324\n",
      "square of 20 is 400\n",
      "square of 22 is 484\n",
      "square of 24 is 576\n",
      "square of 26 is 676\n",
      "square of 28 is 784\n",
      "square of 30 is 900\n",
      "square of 32 is 1024\n",
      "square of 34 is 1156\n",
      "square of 36 is 1296\n",
      "square of 38 is 1444\n",
      "square of 40 is 1600\n",
      "square of 42 is 1764\n",
      "square of 44 is 1936\n",
      "square of 46 is 2116\n",
      "square of 48 is 2304\n",
      "square of 50 is 2500\n",
      "square of 52 is 2704\n",
      "square of 54 is 2916\n",
      "square of 56 is 3136\n",
      "square of 58 is 3364\n",
      "square of 60 is 3600\n",
      "square of 62 is 3844\n",
      "square of 64 is 4096\n",
      "square of 66 is 4356\n",
      "square of 68 is 4624\n",
      "square of 70 is 4900\n",
      "square of 72 is 5184\n",
      "square of 74 is 5476\n",
      "square of 76 is 5776\n",
      "square of 78 is 6084\n",
      "square of 80 is 6400\n",
      "square of 82 is 6724\n",
      "square of 84 is 7056\n",
      "square of 86 is 7396\n",
      "square of 88 is 7744\n",
      "square of 90 is 8100\n",
      "square of 92 is 8464\n",
      "square of 94 is 8836\n",
      "square of 96 is 9216\n",
      "square of 98 is 9604\n",
      "square of 100 is 10000\n"
     ]
    }
   ],
   "source": [
    "#Printing squares of even numbers from 1 to 100\n",
    "x=range(101)\n",
    "for i in x:\n",
    "    if i%2==0:\n",
    "        print(f'square of {i} is {i*i}')"
   ]
  },
  {
   "cell_type": "code",
   "execution_count": 3,
   "id": "4c473b9a",
   "metadata": {},
   "outputs": [
    {
     "name": "stdout",
     "output_type": "stream",
     "text": [
      "square of 1 is 1\n",
      "square of 3 is 9\n",
      "square of 5 is 25\n",
      "square of 7 is 49\n",
      "square of 9 is 81\n",
      "square of 11 is 121\n",
      "square of 13 is 169\n",
      "square of 15 is 225\n",
      "square of 17 is 289\n",
      "square of 19 is 361\n",
      "square of 21 is 441\n",
      "square of 23 is 529\n",
      "square of 25 is 625\n",
      "square of 27 is 729\n",
      "square of 29 is 841\n",
      "square of 31 is 961\n",
      "square of 33 is 1089\n",
      "square of 35 is 1225\n",
      "square of 37 is 1369\n",
      "square of 39 is 1521\n",
      "square of 41 is 1681\n",
      "square of 43 is 1849\n",
      "square of 45 is 2025\n",
      "square of 47 is 2209\n",
      "square of 49 is 2401\n",
      "square of 51 is 2601\n",
      "square of 53 is 2809\n",
      "square of 55 is 3025\n",
      "square of 57 is 3249\n",
      "square of 59 is 3481\n",
      "square of 61 is 3721\n",
      "square of 63 is 3969\n",
      "square of 65 is 4225\n",
      "square of 67 is 4489\n",
      "square of 69 is 4761\n",
      "square of 71 is 5041\n",
      "square of 73 is 5329\n",
      "square of 75 is 5625\n",
      "square of 77 is 5929\n",
      "square of 79 is 6241\n",
      "square of 81 is 6561\n",
      "square of 83 is 6889\n",
      "square of 85 is 7225\n",
      "square of 87 is 7569\n",
      "square of 89 is 7921\n",
      "square of 91 is 8281\n",
      "square of 93 is 8649\n",
      "square of 95 is 9025\n",
      "square of 97 is 9409\n",
      "square of 99 is 9801\n"
     ]
    }
   ],
   "source": [
    "# odd number\n",
    "x=range(101)\n",
    "for i in x:\n",
    "    if i%2==1:\n",
    "        print(f'square of {i} is {i*i}')"
   ]
  },
  {
   "cell_type": "markdown",
   "id": "fa3a1f0f",
   "metadata": {},
   "source": [
    "## While Loop"
   ]
  },
  {
   "cell_type": "code",
   "execution_count": 20,
   "id": "62386fd1",
   "metadata": {},
   "outputs": [
    {
     "name": "stdout",
     "output_type": "stream",
     "text": [
      "5\n",
      "6\n",
      "7\n",
      "8\n",
      "9\n"
     ]
    }
   ],
   "source": [
    "i=5\n",
    "while i<10:\n",
    "    print(i)\n",
    "    i=i+1"
   ]
  },
  {
   "cell_type": "code",
   "execution_count": null,
   "id": "ed5b20f7",
   "metadata": {},
   "outputs": [],
   "source": []
  },
  {
   "cell_type": "code",
   "execution_count": 22,
   "id": "212cfa11",
   "metadata": {},
   "outputs": [
    {
     "name": "stdout",
     "output_type": "stream",
     "text": [
      "square of 0 is 0\n",
      "square of 1 is 1\n",
      "square of 2 is 4\n",
      "square of 3 is 9\n",
      "square of 4 is 16\n",
      "square of 5 is 25\n",
      "square of 6 is 36\n",
      "square of 7 is 49\n",
      "square of 8 is 64\n",
      "square of 9 is 81\n",
      "square of 10 is 100\n"
     ]
    }
   ],
   "source": [
    "#Printing square from 1 to 10\n",
    "i=0\n",
    "while i<=10:\n",
    "    print(f'square of {i} is {i*i}')\n",
    "    i=i+1"
   ]
  },
  {
   "cell_type": "code",
   "execution_count": 27,
   "id": "05abeab2",
   "metadata": {},
   "outputs": [
    {
     "name": "stdout",
     "output_type": "stream",
     "text": [
      "square of 0 is 0\n",
      "square of 2 is 4\n",
      "square of 4 is 16\n",
      "square of 6 is 36\n",
      "square of 8 is 64\n",
      "square of 10 is 100\n"
     ]
    }
   ],
   "source": [
    "i=0\n",
    "while i<=10:\n",
    "    if i%2==0:\n",
    "        print(f'square of {i} is {i*i}')\n",
    "    i=i+1"
   ]
  },
  {
   "cell_type": "markdown",
   "id": "bed1279e",
   "metadata": {},
   "source": [
    "### Using IF-ELSE with `while` Loop"
   ]
  },
  {
   "cell_type": "code",
   "execution_count": 7,
   "id": "bcb0965e",
   "metadata": {},
   "outputs": [
    {
     "ename": "KeyboardInterrupt",
     "evalue": "Interrupted by user",
     "output_type": "error",
     "traceback": [
      "\u001b[1;31m---------------------------------------------------------------------------\u001b[0m",
      "\u001b[1;31mKeyboardInterrupt\u001b[0m                         Traceback (most recent call last)",
      "\u001b[1;32m~\\AppData\\Local\\Temp/ipykernel_10812/4265382337.py\u001b[0m in \u001b[0;36m<module>\u001b[1;34m\u001b[0m\n\u001b[0;32m      1\u001b[0m \u001b[1;31m# while loop for access permission\u001b[0m\u001b[1;33m\u001b[0m\u001b[1;33m\u001b[0m\u001b[0m\n\u001b[0;32m      2\u001b[0m \u001b[1;32mwhile\u001b[0m \u001b[1;32mTrue\u001b[0m\u001b[1;33m:\u001b[0m\u001b[1;33m\u001b[0m\u001b[1;33m\u001b[0m\u001b[0m\n\u001b[1;32m----> 3\u001b[1;33m     \u001b[0muser_id\u001b[0m\u001b[1;33m=\u001b[0m\u001b[0minput\u001b[0m\u001b[1;33m(\u001b[0m\u001b[1;34m'Enter user name'\u001b[0m\u001b[1;33m)\u001b[0m\u001b[1;33m\u001b[0m\u001b[1;33m\u001b[0m\u001b[0m\n\u001b[0m\u001b[0;32m      4\u001b[0m     \u001b[0mpassword\u001b[0m\u001b[1;33m=\u001b[0m\u001b[0mint\u001b[0m\u001b[1;33m(\u001b[0m\u001b[0minput\u001b[0m\u001b[1;33m(\u001b[0m\u001b[1;34m'Enter password'\u001b[0m\u001b[1;33m)\u001b[0m\u001b[1;33m)\u001b[0m\u001b[1;33m\u001b[0m\u001b[1;33m\u001b[0m\u001b[0m\n\u001b[0;32m      5\u001b[0m     \u001b[1;32mif\u001b[0m \u001b[0muser_id\u001b[0m\u001b[1;33m==\u001b[0m\u001b[1;34m'abcd'\u001b[0m \u001b[1;32mand\u001b[0m \u001b[0mpassword\u001b[0m\u001b[1;33m==\u001b[0m\u001b[1;36m1234\u001b[0m\u001b[1;33m:\u001b[0m\u001b[1;33m\u001b[0m\u001b[1;33m\u001b[0m\u001b[0m\n",
      "\u001b[1;32m~\\anaconda3\\lib\\site-packages\\ipykernel\\kernelbase.py\u001b[0m in \u001b[0;36mraw_input\u001b[1;34m(self, prompt)\u001b[0m\n\u001b[0;32m   1004\u001b[0m                 \u001b[1;34m\"raw_input was called, but this frontend does not support input requests.\"\u001b[0m\u001b[1;33m\u001b[0m\u001b[1;33m\u001b[0m\u001b[0m\n\u001b[0;32m   1005\u001b[0m             )\n\u001b[1;32m-> 1006\u001b[1;33m         return self._input_request(\n\u001b[0m\u001b[0;32m   1007\u001b[0m             \u001b[0mstr\u001b[0m\u001b[1;33m(\u001b[0m\u001b[0mprompt\u001b[0m\u001b[1;33m)\u001b[0m\u001b[1;33m,\u001b[0m\u001b[1;33m\u001b[0m\u001b[1;33m\u001b[0m\u001b[0m\n\u001b[0;32m   1008\u001b[0m             \u001b[0mself\u001b[0m\u001b[1;33m.\u001b[0m\u001b[0m_parent_ident\u001b[0m\u001b[1;33m[\u001b[0m\u001b[1;34m\"shell\"\u001b[0m\u001b[1;33m]\u001b[0m\u001b[1;33m,\u001b[0m\u001b[1;33m\u001b[0m\u001b[1;33m\u001b[0m\u001b[0m\n",
      "\u001b[1;32m~\\anaconda3\\lib\\site-packages\\ipykernel\\kernelbase.py\u001b[0m in \u001b[0;36m_input_request\u001b[1;34m(self, prompt, ident, parent, password)\u001b[0m\n\u001b[0;32m   1049\u001b[0m             \u001b[1;32mexcept\u001b[0m \u001b[0mKeyboardInterrupt\u001b[0m\u001b[1;33m:\u001b[0m\u001b[1;33m\u001b[0m\u001b[1;33m\u001b[0m\u001b[0m\n\u001b[0;32m   1050\u001b[0m                 \u001b[1;31m# re-raise KeyboardInterrupt, to truncate traceback\u001b[0m\u001b[1;33m\u001b[0m\u001b[1;33m\u001b[0m\u001b[0m\n\u001b[1;32m-> 1051\u001b[1;33m                 \u001b[1;32mraise\u001b[0m \u001b[0mKeyboardInterrupt\u001b[0m\u001b[1;33m(\u001b[0m\u001b[1;34m\"Interrupted by user\"\u001b[0m\u001b[1;33m)\u001b[0m \u001b[1;32mfrom\u001b[0m \u001b[1;32mNone\u001b[0m\u001b[1;33m\u001b[0m\u001b[1;33m\u001b[0m\u001b[0m\n\u001b[0m\u001b[0;32m   1052\u001b[0m             \u001b[1;32mexcept\u001b[0m \u001b[0mException\u001b[0m\u001b[1;33m:\u001b[0m\u001b[1;33m\u001b[0m\u001b[1;33m\u001b[0m\u001b[0m\n\u001b[0;32m   1053\u001b[0m                 \u001b[0mself\u001b[0m\u001b[1;33m.\u001b[0m\u001b[0mlog\u001b[0m\u001b[1;33m.\u001b[0m\u001b[0mwarning\u001b[0m\u001b[1;33m(\u001b[0m\u001b[1;34m\"Invalid Message:\"\u001b[0m\u001b[1;33m,\u001b[0m \u001b[0mexc_info\u001b[0m\u001b[1;33m=\u001b[0m\u001b[1;32mTrue\u001b[0m\u001b[1;33m)\u001b[0m\u001b[1;33m\u001b[0m\u001b[1;33m\u001b[0m\u001b[0m\n",
      "\u001b[1;31mKeyboardInterrupt\u001b[0m: Interrupted by user"
     ]
    }
   ],
   "source": [
    "# while loop for access permission\n",
    "while True:\n",
    "    user_id=input('Enter user name')\n",
    "    password=int(input('Enter password'))\n",
    "    if user_id=='abcd' and password==1234:\n",
    "        print('Login Sucess')\n",
    "    else:\n",
    "        print('Login Failure')"
   ]
  },
  {
   "cell_type": "code",
   "execution_count": 8,
   "id": "9276ea3f",
   "metadata": {},
   "outputs": [
    {
     "ename": "KeyboardInterrupt",
     "evalue": "Interrupted by user",
     "output_type": "error",
     "traceback": [
      "\u001b[1;31m---------------------------------------------------------------------------\u001b[0m",
      "\u001b[1;31mKeyboardInterrupt\u001b[0m                         Traceback (most recent call last)",
      "\u001b[1;32m~\\AppData\\Local\\Temp/ipykernel_10812/4030179470.py\u001b[0m in \u001b[0;36m<module>\u001b[1;34m\u001b[0m\n\u001b[1;32m----> 1\u001b[1;33m \u001b[0muser_id\u001b[0m\u001b[1;33m=\u001b[0m\u001b[0minput\u001b[0m\u001b[1;33m(\u001b[0m\u001b[1;34m'Enter user name'\u001b[0m\u001b[1;33m)\u001b[0m\u001b[1;33m\u001b[0m\u001b[1;33m\u001b[0m\u001b[0m\n\u001b[0m\u001b[0;32m      2\u001b[0m \u001b[0mpassword\u001b[0m\u001b[1;33m=\u001b[0m\u001b[0mint\u001b[0m\u001b[1;33m(\u001b[0m\u001b[0minput\u001b[0m\u001b[1;33m(\u001b[0m\u001b[1;34m'Enter password'\u001b[0m\u001b[1;33m)\u001b[0m\u001b[1;33m)\u001b[0m\u001b[1;33m\u001b[0m\u001b[1;33m\u001b[0m\u001b[0m\n\u001b[0;32m      3\u001b[0m \u001b[1;32mif\u001b[0m \u001b[0muser_id\u001b[0m\u001b[1;33m==\u001b[0m\u001b[1;34m'abcd'\u001b[0m \u001b[1;32mand\u001b[0m \u001b[0mpassword\u001b[0m\u001b[1;33m==\u001b[0m\u001b[1;36m1234\u001b[0m\u001b[1;33m:\u001b[0m\u001b[1;33m\u001b[0m\u001b[1;33m\u001b[0m\u001b[0m\n\u001b[0;32m      4\u001b[0m     \u001b[0mprint\u001b[0m\u001b[1;33m(\u001b[0m\u001b[1;34m'Login Sucess'\u001b[0m\u001b[1;33m)\u001b[0m\u001b[1;33m\u001b[0m\u001b[1;33m\u001b[0m\u001b[0m\n\u001b[0;32m      5\u001b[0m \u001b[1;32melse\u001b[0m\u001b[1;33m:\u001b[0m\u001b[1;33m\u001b[0m\u001b[1;33m\u001b[0m\u001b[0m\n",
      "\u001b[1;32m~\\anaconda3\\lib\\site-packages\\ipykernel\\kernelbase.py\u001b[0m in \u001b[0;36mraw_input\u001b[1;34m(self, prompt)\u001b[0m\n\u001b[0;32m   1004\u001b[0m                 \u001b[1;34m\"raw_input was called, but this frontend does not support input requests.\"\u001b[0m\u001b[1;33m\u001b[0m\u001b[1;33m\u001b[0m\u001b[0m\n\u001b[0;32m   1005\u001b[0m             )\n\u001b[1;32m-> 1006\u001b[1;33m         return self._input_request(\n\u001b[0m\u001b[0;32m   1007\u001b[0m             \u001b[0mstr\u001b[0m\u001b[1;33m(\u001b[0m\u001b[0mprompt\u001b[0m\u001b[1;33m)\u001b[0m\u001b[1;33m,\u001b[0m\u001b[1;33m\u001b[0m\u001b[1;33m\u001b[0m\u001b[0m\n\u001b[0;32m   1008\u001b[0m             \u001b[0mself\u001b[0m\u001b[1;33m.\u001b[0m\u001b[0m_parent_ident\u001b[0m\u001b[1;33m[\u001b[0m\u001b[1;34m\"shell\"\u001b[0m\u001b[1;33m]\u001b[0m\u001b[1;33m,\u001b[0m\u001b[1;33m\u001b[0m\u001b[1;33m\u001b[0m\u001b[0m\n",
      "\u001b[1;32m~\\anaconda3\\lib\\site-packages\\ipykernel\\kernelbase.py\u001b[0m in \u001b[0;36m_input_request\u001b[1;34m(self, prompt, ident, parent, password)\u001b[0m\n\u001b[0;32m   1049\u001b[0m             \u001b[1;32mexcept\u001b[0m \u001b[0mKeyboardInterrupt\u001b[0m\u001b[1;33m:\u001b[0m\u001b[1;33m\u001b[0m\u001b[1;33m\u001b[0m\u001b[0m\n\u001b[0;32m   1050\u001b[0m                 \u001b[1;31m# re-raise KeyboardInterrupt, to truncate traceback\u001b[0m\u001b[1;33m\u001b[0m\u001b[1;33m\u001b[0m\u001b[0m\n\u001b[1;32m-> 1051\u001b[1;33m                 \u001b[1;32mraise\u001b[0m \u001b[0mKeyboardInterrupt\u001b[0m\u001b[1;33m(\u001b[0m\u001b[1;34m\"Interrupted by user\"\u001b[0m\u001b[1;33m)\u001b[0m \u001b[1;32mfrom\u001b[0m \u001b[1;32mNone\u001b[0m\u001b[1;33m\u001b[0m\u001b[1;33m\u001b[0m\u001b[0m\n\u001b[0m\u001b[0;32m   1052\u001b[0m             \u001b[1;32mexcept\u001b[0m \u001b[0mException\u001b[0m\u001b[1;33m:\u001b[0m\u001b[1;33m\u001b[0m\u001b[1;33m\u001b[0m\u001b[0m\n\u001b[0;32m   1053\u001b[0m                 \u001b[0mself\u001b[0m\u001b[1;33m.\u001b[0m\u001b[0mlog\u001b[0m\u001b[1;33m.\u001b[0m\u001b[0mwarning\u001b[0m\u001b[1;33m(\u001b[0m\u001b[1;34m\"Invalid Message:\"\u001b[0m\u001b[1;33m,\u001b[0m \u001b[0mexc_info\u001b[0m\u001b[1;33m=\u001b[0m\u001b[1;32mTrue\u001b[0m\u001b[1;33m)\u001b[0m\u001b[1;33m\u001b[0m\u001b[1;33m\u001b[0m\u001b[0m\n",
      "\u001b[1;31mKeyboardInterrupt\u001b[0m: Interrupted by user"
     ]
    }
   ],
   "source": [
    "user_id=input('Enter user name')\n",
    "password=int(input('Enter password'))\n",
    "if user_id=='abcd' and password==1234:\n",
    "    print('Login Sucess')\n",
    "else:\n",
    "    print('Login Failure')"
   ]
  },
  {
   "cell_type": "markdown",
   "id": "53762d80",
   "metadata": {},
   "source": [
    "## You gotta use your python skills to help your local shopkeeper calculate the Net Price for his shop's product provided below along with it's respective GST slab"
   ]
  },
  {
   "cell_type": "markdown",
   "id": "42dbc08f",
   "metadata": {},
   "source": [
    "GST Amount = ( Original Cost * GST ) / 100\n",
    "\n",
    "Net Price = Original Cost + GST Amount"
   ]
  },
  {
   "cell_type": "markdown",
   "id": "a2e948d2",
   "metadata": {},
   "source": [
    "Product Cost / GST Slab\n",
    "\n",
    "Product1- 1000 / 18%\n",
    "\n",
    "Product2- 250 / 18%\n",
    "\n",
    "Product3- 125 / 5%\n",
    "\n",
    "Product4- 345 / 18%\n",
    "\n",
    "Product5- 820 / 12%\n",
    "\n",
    "Product6- 980 / 5%\n",
    "\n",
    "Product7- 500 / 12%"
   ]
  },
  {
   "cell_type": "code",
   "execution_count": 4,
   "id": "cfbe8fdf",
   "metadata": {},
   "outputs": [],
   "source": [
    "# Hint Create a dictionary and loop"
   ]
  },
  {
   "cell_type": "code",
   "execution_count": 31,
   "id": "1fb8cfd5",
   "metadata": {},
   "outputs": [],
   "source": [
    "product_gst_slab={'Product1':18,'Product2':18,'Product3':5,'Product4':18,'Product5':12,'Product6':5,'Product7':12}\n",
    "product_original_cost={'Product1':1000,'Product2':250,'Product3':125,'Product4':345,'Product5':820,'Product6':980,'Product7':500}"
   ]
  },
  {
   "cell_type": "code",
   "execution_count": 32,
   "id": "aa59997c",
   "metadata": {},
   "outputs": [
    {
     "data": {
      "text/plain": [
       "dict_keys(['Product1', 'Product2', 'Product3', 'Product4', 'Product5', 'Product6', 'Product7'])"
      ]
     },
     "execution_count": 32,
     "metadata": {},
     "output_type": "execute_result"
    }
   ],
   "source": [
    "product_gst_slab.keys()"
   ]
  },
  {
   "cell_type": "code",
   "execution_count": 34,
   "id": "c9c5d654",
   "metadata": {},
   "outputs": [
    {
     "name": "stdout",
     "output_type": "stream",
     "text": [
      "The Net Price of Product1 at gst18 is 1180.0\n",
      "The Net Price of Product2 at gst18 is 295.0\n",
      "The Net Price of Product3 at gst5 is 131.25\n",
      "The Net Price of Product4 at gst18 is 407.1\n",
      "The Net Price of Product5 at gst12 is 918.4\n",
      "The Net Price of Product6 at gst5 is 1029.0\n",
      "The Net Price of Product7 at gst12 is 560.0\n"
     ]
    }
   ],
   "source": [
    "for i in product_gst_slab.keys():\n",
    "    gst_amount=(product_original_cost[i]*product_gst_slab[i])/100\n",
    "    Net_price=(product_original_cost[i]+gst_amount)\n",
    "    print('The Net Price of {} at gst{} is {}'.format(i,product_gst_slab[i],Net_price))"
   ]
  },
  {
   "cell_type": "markdown",
   "id": "7f6ff590",
   "metadata": {},
   "source": [
    "# User defined functions"
   ]
  },
  {
   "cell_type": "code",
   "execution_count": null,
   "id": "535e89b8",
   "metadata": {},
   "outputs": [],
   "source": [
    "# # define a function that takes an input, squares it, adds 7, then returns the answer"
   ]
  },
  {
   "cell_type": "code",
   "execution_count": 35,
   "id": "dd391669",
   "metadata": {},
   "outputs": [],
   "source": [
    "def x2p7(x):\n",
    "    y=x*x\n",
    "    z=y+7\n",
    "    return(z)"
   ]
  },
  {
   "cell_type": "code",
   "execution_count": 36,
   "id": "b586b0ce",
   "metadata": {},
   "outputs": [
    {
     "data": {
      "text/plain": [
       "56"
      ]
     },
     "execution_count": 36,
     "metadata": {},
     "output_type": "execute_result"
    }
   ],
   "source": [
    "x2p7(7)"
   ]
  },
  {
   "cell_type": "code",
   "execution_count": null,
   "id": "1f62ab18",
   "metadata": {},
   "outputs": [],
   "source": [
    "# Write a function to add and subtract two variables"
   ]
  },
  {
   "cell_type": "code",
   "execution_count": 37,
   "id": "df529143",
   "metadata": {},
   "outputs": [],
   "source": [
    "def math_fun(x,y):\n",
    "    add=x+y\n",
    "    sub=x-y\n",
    "    return(add,sub)"
   ]
  },
  {
   "cell_type": "code",
   "execution_count": 38,
   "id": "943c3e45",
   "metadata": {},
   "outputs": [
    {
     "data": {
      "text/plain": [
       "(10, 2)"
      ]
     },
     "execution_count": 38,
     "metadata": {},
     "output_type": "execute_result"
    }
   ],
   "source": [
    "math_fun(6,4)"
   ]
  },
  {
   "cell_type": "code",
   "execution_count": 40,
   "id": "c8858997",
   "metadata": {},
   "outputs": [
    {
     "name": "stdout",
     "output_type": "stream",
     "text": [
      "Odd Number\n"
     ]
    }
   ],
   "source": [
    "def evenodd(x):\n",
    "    if x%2==0:\n",
    "        print(\"Even Number\")\n",
    "    else:\n",
    "        print(\"Odd Number\")\n",
    "evenodd(65)"
   ]
  },
  {
   "cell_type": "code",
   "execution_count": 6,
   "id": "f716e77f",
   "metadata": {},
   "outputs": [],
   "source": [
    "### Write a UDF that returns true if the input is a prime number and False otherwise."
   ]
  },
  {
   "cell_type": "code",
   "execution_count": 41,
   "id": "d55f8a11",
   "metadata": {},
   "outputs": [],
   "source": [
    "def is_prime(n):\n",
    "    if n <= 1:\n",
    "        return False\n",
    "    elif n <= 3:\n",
    "        return True\n",
    "    elif n % 2 == 0 or n % 3 == 0:\n",
    "        return False\n",
    "    i = 5\n",
    "    while i * i <= n:\n",
    "        if n % i == 0 or n % (i + 2) == 0:\n",
    "            return False\n",
    "        i += 6\n",
    "    return True"
   ]
  },
  {
   "cell_type": "code",
   "execution_count": 44,
   "id": "c68aee60",
   "metadata": {},
   "outputs": [
    {
     "data": {
      "text/plain": [
       "True"
      ]
     },
     "execution_count": 44,
     "metadata": {},
     "output_type": "execute_result"
    }
   ],
   "source": [
    "is_prime(37)"
   ]
  },
  {
   "cell_type": "code",
   "execution_count": 43,
   "id": "1ab1fc0e",
   "metadata": {},
   "outputs": [
    {
     "data": {
      "text/plain": [
       "False"
      ]
     },
     "execution_count": 43,
     "metadata": {},
     "output_type": "execute_result"
    }
   ],
   "source": [
    "is_prime(12)"
   ]
  },
  {
   "cell_type": "code",
   "execution_count": 2,
   "id": "5894ec70",
   "metadata": {},
   "outputs": [
    {
     "data": {
      "text/plain": [
       "True"
      ]
     },
     "execution_count": 2,
     "metadata": {},
     "output_type": "execute_result"
    }
   ],
   "source": [
    "def prime(x):\n",
    "    if (x==1):\n",
    "        return False\n",
    "    elif (x==2):\n",
    "        return True\n",
    "    else:\n",
    "        for n in range(2,x):\n",
    "            if (x/n==0):\n",
    "                return False\n",
    "    return True\n",
    "prime(55)"
   ]
  },
  {
   "cell_type": "code",
   "execution_count": 56,
   "id": "b9761057",
   "metadata": {},
   "outputs": [],
   "source": [
    "def is_prime(n):\n",
    "    if n<2:\n",
    "        return False\n",
    "    for i in range(2,n//2+1):\n",
    "        if n%i==0:\n",
    "            return False\n",
    "    return True\n"
   ]
  },
  {
   "cell_type": "code",
   "execution_count": 63,
   "id": "75da4e75",
   "metadata": {},
   "outputs": [
    {
     "data": {
      "text/plain": [
       "False"
      ]
     },
     "execution_count": 63,
     "metadata": {},
     "output_type": "execute_result"
    }
   ],
   "source": [
    "is_prime(21)"
   ]
  },
  {
   "cell_type": "code",
   "execution_count": 7,
   "id": "04a1b3d4",
   "metadata": {},
   "outputs": [],
   "source": [
    "### Write a UDF that takes a list as input and returns the reverse list."
   ]
  },
  {
   "cell_type": "code",
   "execution_count": 64,
   "id": "fa68c070",
   "metadata": {},
   "outputs": [],
   "source": [
    "def Reversing(listing):\n",
    "    listing.reverse()\n",
    "    return lst"
   ]
  },
  {
   "cell_type": "code",
   "execution_count": 66,
   "id": "0a64ed6f",
   "metadata": {},
   "outputs": [],
   "source": [
    "lst=[45,87,23,12,8,657]"
   ]
  },
  {
   "cell_type": "code",
   "execution_count": 67,
   "id": "8c5d43bf",
   "metadata": {},
   "outputs": [
    {
     "data": {
      "text/plain": [
       "[657, 8, 12, 23, 87, 45]"
      ]
     },
     "execution_count": 67,
     "metadata": {},
     "output_type": "execute_result"
    }
   ],
   "source": [
    "Reversing(lst)"
   ]
  },
  {
   "cell_type": "code",
   "execution_count": 68,
   "id": "2a114f38",
   "metadata": {},
   "outputs": [
    {
     "name": "stdout",
     "output_type": "stream",
     "text": [
      "16\n"
     ]
    }
   ],
   "source": [
    "# lambda function\n",
    "lamx2p7=lambda x: x*x+7\n",
    "print(lamx2p7(3))"
   ]
  },
  {
   "cell_type": "code",
   "execution_count": 69,
   "id": "353ca0a9",
   "metadata": {},
   "outputs": [
    {
     "name": "stdout",
     "output_type": "stream",
     "text": [
      "90.5\n"
     ]
    }
   ],
   "source": [
    "lam1=lambda x,y,z: x*y+y*z+y/z\n",
    "print(lam1(3,6,12))"
   ]
  },
  {
   "cell_type": "markdown",
   "id": "3fa74b22",
   "metadata": {},
   "source": [
    "# ARRAY"
   ]
  },
  {
   "cell_type": "code",
   "execution_count": 4,
   "id": "50c544d7",
   "metadata": {},
   "outputs": [],
   "source": [
    "#Create an Array\n",
    "import numpy as np"
   ]
  },
  {
   "cell_type": "code",
   "execution_count": 71,
   "id": "46eb4c40",
   "metadata": {},
   "outputs": [
    {
     "name": "stdout",
     "output_type": "stream",
     "text": [
      "[1 2 3 4]\n"
     ]
    }
   ],
   "source": [
    "arr=np.array([1,2,3,4])\n",
    "print(arr)"
   ]
  },
  {
   "cell_type": "code",
   "execution_count": 72,
   "id": "7e8ed402",
   "metadata": {},
   "outputs": [
    {
     "name": "stdout",
     "output_type": "stream",
     "text": [
      "23\n"
     ]
    }
   ],
   "source": [
    "#0-dimensional array\n",
    "arr=np.array(23)\n",
    "print(arr)"
   ]
  },
  {
   "cell_type": "code",
   "execution_count": 73,
   "id": "46f459a8",
   "metadata": {},
   "outputs": [
    {
     "name": "stdout",
     "output_type": "stream",
     "text": [
      "[1 2 3 4]\n"
     ]
    }
   ],
   "source": [
    "#1-D array\n",
    "arr=np.array([1,2,3,4])\n",
    "print(arr)"
   ]
  },
  {
   "cell_type": "code",
   "execution_count": 74,
   "id": "de887f4d",
   "metadata": {},
   "outputs": [
    {
     "name": "stdout",
     "output_type": "stream",
     "text": [
      "[[1 2 3 4]\n",
      " [5 6 7 8]]\n"
     ]
    }
   ],
   "source": [
    "#2-D array\n",
    "arr=np.array([[1,2,3,4],[5,6,7,8]])\n",
    "print(arr)"
   ]
  },
  {
   "cell_type": "code",
   "execution_count": 11,
   "id": "63184aa2",
   "metadata": {},
   "outputs": [
    {
     "name": "stdout",
     "output_type": "stream",
     "text": [
      "[[[ 1  2  3  4]\n",
      "  [ 5  6  7  8]]\n",
      "\n",
      " [[ 9 10 11 12]\n",
      "  [13 14 15 16]]]\n"
     ]
    }
   ],
   "source": [
    "#3-D array\n",
    "arr=np.array([[[1,2,3,4],[5,6,7,8]],[[9,10,11,12],[13,14,15,16]]])\n",
    "print(arr)"
   ]
  },
  {
   "cell_type": "code",
   "execution_count": 15,
   "id": "76f69f79",
   "metadata": {},
   "outputs": [
    {
     "data": {
      "text/plain": [
       "3"
      ]
     },
     "execution_count": 15,
     "metadata": {},
     "output_type": "execute_result"
    }
   ],
   "source": [
    "arr.ndim"
   ]
  },
  {
   "cell_type": "code",
   "execution_count": 16,
   "id": "15ea0d3f",
   "metadata": {},
   "outputs": [
    {
     "name": "stdout",
     "output_type": "stream",
     "text": [
      "[[[[[1 2 3 4]]]]]\n"
     ]
    }
   ],
   "source": [
    "#Multi dimensional array\n",
    "my_array=np.array([1,2,3,4],ndmin=5)\n",
    "print(my_array)"
   ]
  },
  {
   "cell_type": "code",
   "execution_count": 17,
   "id": "bbbfa91e",
   "metadata": {},
   "outputs": [
    {
     "data": {
      "text/plain": [
       "5"
      ]
     },
     "execution_count": 17,
     "metadata": {},
     "output_type": "execute_result"
    }
   ],
   "source": [
    "my_array.ndim"
   ]
  },
  {
   "cell_type": "code",
   "execution_count": 84,
   "id": "b4d294ad",
   "metadata": {},
   "outputs": [
    {
     "name": "stdout",
     "output_type": "stream",
     "text": [
      "[1 2 3 4]\n"
     ]
    }
   ],
   "source": [
    "#accessing an array\n",
    "my_array=np.array([1,2,3,4])\n",
    "print(my_array)"
   ]
  },
  {
   "cell_type": "code",
   "execution_count": 85,
   "id": "b76c4998",
   "metadata": {},
   "outputs": [
    {
     "name": "stdout",
     "output_type": "stream",
     "text": [
      "['1' '2' '3' '4']\n"
     ]
    }
   ],
   "source": [
    "#upcasting data types\n",
    "my_array=np.array([1,2,3,'4'])\n",
    "print(my_array)"
   ]
  },
  {
   "cell_type": "code",
   "execution_count": 86,
   "id": "2b951268",
   "metadata": {},
   "outputs": [
    {
     "name": "stdout",
     "output_type": "stream",
     "text": [
      "[1.  2.  3.  4.5]\n"
     ]
    }
   ],
   "source": [
    "my_array=np.array([1,2,3,4.5])\n",
    "print(my_array)"
   ]
  },
  {
   "cell_type": "code",
   "execution_count": 87,
   "id": "5742342b",
   "metadata": {},
   "outputs": [
    {
     "name": "stdout",
     "output_type": "stream",
     "text": [
      "1\n"
     ]
    }
   ],
   "source": [
    "#indexing\n",
    "my_array=np.array([1,2,3,4])\n",
    "print(my_array[0])"
   ]
  },
  {
   "cell_type": "code",
   "execution_count": 88,
   "id": "d6c756d9",
   "metadata": {},
   "outputs": [
    {
     "name": "stdout",
     "output_type": "stream",
     "text": [
      "[1 2]\n"
     ]
    }
   ],
   "source": [
    "my_array=np.array([1,2,3,4])\n",
    "print(my_array[0:2])"
   ]
  },
  {
   "cell_type": "code",
   "execution_count": 89,
   "id": "bcb5c9c4",
   "metadata": {},
   "outputs": [
    {
     "name": "stdout",
     "output_type": "stream",
     "text": [
      "3\n"
     ]
    }
   ],
   "source": [
    "#Using index in 2-D array\n",
    "arr=np.array([[1,2,3,4],[5,6,7,8]])\n",
    "print(arr[0,2])"
   ]
  },
  {
   "cell_type": "code",
   "execution_count": 97,
   "id": "5b9ccbfc",
   "metadata": {},
   "outputs": [
    {
     "name": "stdout",
     "output_type": "stream",
     "text": [
      "7\n"
     ]
    }
   ],
   "source": [
    "arr=np.array([[1,2,3,4],[5,6,7,8]])\n",
    "print(arr[1,2])"
   ]
  },
  {
   "cell_type": "code",
   "execution_count": null,
   "id": "ff28b34a",
   "metadata": {},
   "outputs": [],
   "source": [
    "# Array vs List"
   ]
  },
  {
   "cell_type": "code",
   "execution_count": 100,
   "id": "bf3a72e7",
   "metadata": {},
   "outputs": [
    {
     "name": "stdout",
     "output_type": "stream",
     "text": [
      "LIST:[1, 2, 3, 4, 5, 6, 7, 8]\n"
     ]
    }
   ],
   "source": [
    "my_list1=[1,2,3,4]                #we can't +,-,*,/ in list but in array\n",
    "my_list2=[5,6,7,8]                #but we can add with position index in list as well as in array\n",
    "print(f'LIST:{my_list1+my_list2}')"
   ]
  },
  {
   "cell_type": "code",
   "execution_count": 105,
   "id": "4aaaac6f",
   "metadata": {},
   "outputs": [
    {
     "name": "stdout",
     "output_type": "stream",
     "text": [
      "ARRAY:[ 6  8 10 12]\n"
     ]
    }
   ],
   "source": [
    "my_array1=np.array([1,2,3,4])\n",
    "my_array2=np.array([5,6,7,8])\n",
    "print(f'ARRAY:{my_array1+my_array2}')"
   ]
  },
  {
   "cell_type": "code",
   "execution_count": 5,
   "id": "d7705038",
   "metadata": {},
   "outputs": [
    {
     "name": "stdout",
     "output_type": "stream",
     "text": [
      "ARRAY:[ 5 12 21 32]\n"
     ]
    }
   ],
   "source": [
    "my_array1=np.array([1,2,3,4])        \n",
    "my_array2=np.array([5,6,7,8])\n",
    "print(f'ARRAY:{my_array1*my_array2}')"
   ]
  },
  {
   "cell_type": "code",
   "execution_count": 6,
   "id": "383ee90d",
   "metadata": {},
   "outputs": [
    {
     "name": "stdout",
     "output_type": "stream",
     "text": [
      "[ 6  8 10 12]\n"
     ]
    }
   ],
   "source": [
    "print(my_array1+my_array2)"
   ]
  },
  {
   "cell_type": "code",
   "execution_count": 107,
   "id": "65717069",
   "metadata": {},
   "outputs": [
    {
     "name": "stdout",
     "output_type": "stream",
     "text": [
      "ARRAY:[0.2        0.33333333 0.42857143 0.5       ]\n"
     ]
    }
   ],
   "source": [
    "my_array1=np.array([1,2,3,4])\n",
    "my_array2=np.array([5,6,7,8])\n",
    "print(f'ARRAY:{my_array1/my_array2}')"
   ]
  },
  {
   "cell_type": "code",
   "execution_count": 108,
   "id": "640049fa",
   "metadata": {},
   "outputs": [
    {
     "name": "stdout",
     "output_type": "stream",
     "text": [
      "LIST:8\n"
     ]
    }
   ],
   "source": [
    "#Adding a single element\n",
    "my_list1=[1,2,3,4]\n",
    "my_list2=[5,6,7,8]\n",
    "print(f'LIST:{my_list1[1]+my_list2[1]}')"
   ]
  },
  {
   "cell_type": "code",
   "execution_count": 109,
   "id": "b0278892",
   "metadata": {},
   "outputs": [
    {
     "name": "stdout",
     "output_type": "stream",
     "text": [
      "ARRAY:8\n"
     ]
    }
   ],
   "source": [
    "my_array1=np.array([1,2,3,4])\n",
    "my_array2=np.array([5,6,7,8])\n",
    "print(f'ARRAY:{my_array1[1]+my_array2[1]}')"
   ]
  },
  {
   "cell_type": "code",
   "execution_count": 110,
   "id": "f74479c4",
   "metadata": {},
   "outputs": [
    {
     "ename": "TypeError",
     "evalue": "can't multiply sequence by non-int of type 'list'",
     "output_type": "error",
     "traceback": [
      "\u001b[1;31m---------------------------------------------------------------------------\u001b[0m",
      "\u001b[1;31mTypeError\u001b[0m                                 Traceback (most recent call last)",
      "\u001b[1;32m~\\AppData\\Local\\Temp/ipykernel_9516/2267636179.py\u001b[0m in \u001b[0;36m<module>\u001b[1;34m\u001b[0m\n\u001b[0;32m      1\u001b[0m \u001b[0mmy_list1\u001b[0m\u001b[1;33m=\u001b[0m\u001b[1;33m[\u001b[0m\u001b[1;36m1\u001b[0m\u001b[1;33m,\u001b[0m\u001b[1;36m2\u001b[0m\u001b[1;33m,\u001b[0m\u001b[1;36m3\u001b[0m\u001b[1;33m,\u001b[0m\u001b[1;36m4\u001b[0m\u001b[1;33m]\u001b[0m\u001b[1;33m\u001b[0m\u001b[1;33m\u001b[0m\u001b[0m\n\u001b[0;32m      2\u001b[0m \u001b[0mmy_list2\u001b[0m\u001b[1;33m=\u001b[0m\u001b[1;33m[\u001b[0m\u001b[1;36m5\u001b[0m\u001b[1;33m,\u001b[0m\u001b[1;36m6\u001b[0m\u001b[1;33m,\u001b[0m\u001b[1;36m7\u001b[0m\u001b[1;33m,\u001b[0m\u001b[1;36m8\u001b[0m\u001b[1;33m]\u001b[0m\u001b[1;33m\u001b[0m\u001b[1;33m\u001b[0m\u001b[0m\n\u001b[1;32m----> 3\u001b[1;33m \u001b[0mprint\u001b[0m\u001b[1;33m(\u001b[0m\u001b[1;34mf'LIST:{my_list1*my_list2}'\u001b[0m\u001b[1;33m)\u001b[0m\u001b[1;33m\u001b[0m\u001b[1;33m\u001b[0m\u001b[0m\n\u001b[0m",
      "\u001b[1;31mTypeError\u001b[0m: can't multiply sequence by non-int of type 'list'"
     ]
    }
   ],
   "source": [
    "my_list1=[1,2,3,4]\n",
    "my_list2=[5,6,7,8]\n",
    "print(f'LIST:{my_list1*my_list2}')"
   ]
  },
  {
   "cell_type": "code",
   "execution_count": 112,
   "id": "cc20ebf2",
   "metadata": {},
   "outputs": [
    {
     "name": "stdout",
     "output_type": "stream",
     "text": [
      "Original Array:[ 1 55  3  4]\n",
      "Copied Array:[1 2 3 4]\n"
     ]
    }
   ],
   "source": [
    "# Copy of array using .copy() \n",
    "my_array=np.array([1,2,3,4])\n",
    "array_copy=my_array.copy()\n",
    "my_array[1]=55\n",
    "print(f'Original Array:{my_array}')\n",
    "print(f'Copied Array:{array_copy}')"
   ]
  },
  {
   "cell_type": "code",
   "execution_count": 114,
   "id": "784f9897",
   "metadata": {},
   "outputs": [
    {
     "name": "stdout",
     "output_type": "stream",
     "text": [
      "Original Array:[ 1 55  3  4]\n",
      "Viewed Array:[ 1 55  3  4]\n"
     ]
    }
   ],
   "source": [
    "#View in an array\n",
    "my_array=np.array([1,2,3,4])\n",
    "viewed_copy=my_array.view()\n",
    "my_array[1]=55\n",
    "print(f'Original Array:{my_array}')\n",
    "print(f'Viewed Array:{viewed_copy}')"
   ]
  },
  {
   "cell_type": "code",
   "execution_count": 115,
   "id": "95d30479",
   "metadata": {},
   "outputs": [
    {
     "name": "stdout",
     "output_type": "stream",
     "text": [
      "1\n",
      "2\n",
      "3\n",
      "4\n"
     ]
    }
   ],
   "source": [
    "# Iterating an array\n",
    "my_array=np.array([1,2,3,4])\n",
    "for x in my_array:\n",
    "    print(x)"
   ]
  },
  {
   "cell_type": "code",
   "execution_count": 118,
   "id": "71824a70",
   "metadata": {},
   "outputs": [
    {
     "name": "stdout",
     "output_type": "stream",
     "text": [
      "1\n",
      "2\n",
      "3\n",
      "4\n",
      "5\n",
      "6\n",
      "7\n",
      "8\n"
     ]
    }
   ],
   "source": [
    "#iterating on a 2D array\n",
    "my_array1=np.array([[1,2,3,4],[5,6,7,8]])   \n",
    "for x in my_array1:\n",
    "    for i in x:\n",
    "        print(i)"
   ]
  },
  {
   "cell_type": "code",
   "execution_count": 25,
   "id": "343d8be5",
   "metadata": {},
   "outputs": [
    {
     "name": "stdout",
     "output_type": "stream",
     "text": [
      "[1 2 3 4 5 6 7 8]\n"
     ]
    }
   ],
   "source": [
    "#Joining 2 Arrays\n",
    "my_array1=np.array([1,2,3,4])\n",
    "my_array2=np.array([5,6,7,8])\n",
    "print(np.concatenate([my_array1,my_array2],axis=0))"
   ]
  },
  {
   "cell_type": "code",
   "execution_count": 27,
   "id": "84e360f4",
   "metadata": {},
   "outputs": [
    {
     "name": "stdout",
     "output_type": "stream",
     "text": [
      "[[ 1  2  3  4  9 10 11 12]\n",
      " [ 5  6  7  8 13 14 15 16]]\n"
     ]
    }
   ],
   "source": [
    "# Joining 2Arrays\n",
    "my_array1=np.array([[1,2,3,4],[5,6,7,8]])\n",
    "my_array2=np.array([[9,10,11,12],[13,14,15,16]])\n",
    "print(np.concatenate([my_array1,my_array2],axis=1))"
   ]
  },
  {
   "cell_type": "code",
   "execution_count": 7,
   "id": "010fbb8f",
   "metadata": {},
   "outputs": [
    {
     "name": "stdout",
     "output_type": "stream",
     "text": [
      "[[[ 1  2  3  4]\n",
      "  [ 9 10 11 12]]\n",
      "\n",
      " [[ 5  6  7  8]\n",
      "  [13 14 15 16]]]\n"
     ]
    }
   ],
   "source": [
    "#Joining using stack\n",
    "my_array1=np.array([[1,2,3,4],[5,6,7,8]])\n",
    "my_array2=np.array([[9,10,11,12],[13,14,15,16]])\n",
    "print(np.stack([my_array1,my_array2],axis=1))"
   ]
  },
  {
   "cell_type": "code",
   "execution_count": 22,
   "id": "69bc2917",
   "metadata": {},
   "outputs": [
    {
     "name": "stdout",
     "output_type": "stream",
     "text": [
      "[[1 2 3 4]\n",
      " [5 6 7 8]]\n"
     ]
    }
   ],
   "source": [
    "my_array1=np.array([1,2,3,4])\n",
    "my_array2=np.array([5,6,7,8])\n",
    "print(np.stack([my_array1,my_array2],axis=0))"
   ]
  },
  {
   "cell_type": "code",
   "execution_count": 146,
   "id": "951646ae",
   "metadata": {},
   "outputs": [
    {
     "name": "stdout",
     "output_type": "stream",
     "text": [
      "[array([1, 2]), array([3, 4])]\n"
     ]
    }
   ],
   "source": [
    "#Spliting an array\n",
    "my_array=np.array([1,2,3,4])\n",
    "print(np.array_split(my_array,2))"
   ]
  },
  {
   "cell_type": "code",
   "execution_count": 147,
   "id": "64ba1f45",
   "metadata": {},
   "outputs": [
    {
     "name": "stdout",
     "output_type": "stream",
     "text": [
      "(array([2], dtype=int64),)\n"
     ]
    }
   ],
   "source": [
    "#searching for a value in an array using where() returns an index position\n",
    "my_array=np.array([1,2,3,4])\n",
    "print(np.where(my_array==3))"
   ]
  },
  {
   "cell_type": "code",
   "execution_count": 149,
   "id": "945dc232",
   "metadata": {},
   "outputs": [
    {
     "name": "stdout",
     "output_type": "stream",
     "text": [
      "[ 2  4 10 13 32 56]\n"
     ]
    }
   ],
   "source": [
    "# Sorting the array using the sort()\n",
    "my_array=np.array([10,2,32,4,56,13])\n",
    "print(np.sort(my_array))"
   ]
  },
  {
   "cell_type": "code",
   "execution_count": 150,
   "id": "8440cf16",
   "metadata": {},
   "outputs": [
    {
     "name": "stdout",
     "output_type": "stream",
     "text": [
      "[56 32 13 10  4  2]\n"
     ]
    }
   ],
   "source": [
    "# sorting in descending\n",
    "my_array=np.array([10,2,32,4,56,13])\n",
    "print(np.sort(my_array)[::-1])"
   ]
  },
  {
   "cell_type": "code",
   "execution_count": 151,
   "id": "806b0644",
   "metadata": {},
   "outputs": [],
   "source": [
    "# Filtering an array\n",
    "my_array=np.array([10,2,32,4,56,13])\n",
    "filtered_array=my_array>5"
   ]
  },
  {
   "cell_type": "code",
   "execution_count": 152,
   "id": "3d478515",
   "metadata": {},
   "outputs": [
    {
     "data": {
      "text/plain": [
       "array([ True, False,  True, False,  True,  True])"
      ]
     },
     "execution_count": 152,
     "metadata": {},
     "output_type": "execute_result"
    }
   ],
   "source": [
    "filtered_array"
   ]
  },
  {
   "cell_type": "code",
   "execution_count": 154,
   "id": "f6e98193",
   "metadata": {},
   "outputs": [
    {
     "name": "stdout",
     "output_type": "stream",
     "text": [
      "[10 32 56 13]\n"
     ]
    }
   ],
   "source": [
    "print(my_array[filtered_array])"
   ]
  },
  {
   "cell_type": "code",
   "execution_count": 164,
   "id": "aee1c5f2",
   "metadata": {},
   "outputs": [
    {
     "name": "stdout",
     "output_type": "stream",
     "text": [
      "(6,)\n"
     ]
    }
   ],
   "source": [
    "my_array=np.array([10,2,32,4,56,13])\n",
    "my_array[my_array>5]\n",
    "print(my_array.shape)"
   ]
  },
  {
   "cell_type": "code",
   "execution_count": 156,
   "id": "1ae738b6",
   "metadata": {},
   "outputs": [
    {
     "data": {
      "text/plain": [
       "array([[0.27466345, 0.21786875, 0.28734241, 0.56515521, 0.58171115],\n",
       "       [0.07769668, 0.99985385, 0.43635618, 0.02776223, 0.29496171],\n",
       "       [0.58485088, 0.44462206, 0.26304134, 0.44670916, 0.62671785],\n",
       "       [0.4261068 , 0.78140709, 0.59638928, 0.16369703, 0.38323979],\n",
       "       [0.45732464, 0.38579871, 0.61977374, 0.41023364, 0.43577876]])"
      ]
     },
     "execution_count": 156,
     "metadata": {},
     "output_type": "execute_result"
    }
   ],
   "source": [
    "# Create an array of 5*5(Generate random numbers)\n",
    "np.random.rand(5,5)"
   ]
  },
  {
   "cell_type": "code",
   "execution_count": 10,
   "id": "4a00981e",
   "metadata": {},
   "outputs": [
    {
     "data": {
      "text/plain": [
       "array([[0.65556544, 0.82317223],\n",
       "       [0.4100055 , 0.15844675]])"
      ]
     },
     "execution_count": 10,
     "metadata": {},
     "output_type": "execute_result"
    }
   ],
   "source": [
    "np.random.rand(2,2)"
   ]
  },
  {
   "cell_type": "code",
   "execution_count": 162,
   "id": "cd6606f2",
   "metadata": {},
   "outputs": [
    {
     "name": "stdout",
     "output_type": "stream",
     "text": [
      "[[-1.63699583 -0.3090443   0.15788809 -1.77357965  1.16902344]\n",
      " [ 0.82434138 -0.49292842 -0.40309183 -2.4944081   0.33413762]\n",
      " [ 0.54470365 -0.29875324 -0.09461598  2.01602117  0.1605309 ]\n",
      " [-0.68940954 -1.21606668 -0.19282822  2.22510949  0.47737888]\n",
      " [ 0.28085602  0.71428726  0.57176427  1.4125346  -0.74892954]]\n"
     ]
    }
   ],
   "source": [
    "n=np.random.randn(5,5)\n",
    "print(n)"
   ]
  },
  {
   "cell_type": "code",
   "execution_count": 161,
   "id": "f326530f",
   "metadata": {},
   "outputs": [
    {
     "name": "stdout",
     "output_type": "stream",
     "text": [
      "(5, 5)\n"
     ]
    }
   ],
   "source": [
    "#checking shape\n",
    "print(n.shape)"
   ]
  },
  {
   "cell_type": "code",
   "execution_count": 165,
   "id": "3ed236a6",
   "metadata": {},
   "outputs": [
    {
     "name": "stdout",
     "output_type": "stream",
     "text": [
      "(2, 4)\n"
     ]
    }
   ],
   "source": [
    "my_array1=np.array([[1,2,3,4],[5,6,7,8]])\n",
    "print(my_array1.shape)"
   ]
  },
  {
   "cell_type": "code",
   "execution_count": 166,
   "id": "0fb40e88",
   "metadata": {},
   "outputs": [
    {
     "name": "stdout",
     "output_type": "stream",
     "text": [
      "[[1 2]\n",
      " [3 4]]\n"
     ]
    }
   ],
   "source": [
    "#Reshaping an array\n",
    "my_array=np.array([1,2,3,4])\n",
    "print(my_array.reshape(2,2))"
   ]
  },
  {
   "cell_type": "code",
   "execution_count": 168,
   "id": "f4399732",
   "metadata": {},
   "outputs": [
    {
     "name": "stdout",
     "output_type": "stream",
     "text": [
      "[[1 2 3 4 5 6 7 8]]\n"
     ]
    }
   ],
   "source": [
    "#reshaping a multidim into a single array\n",
    "my_array=np.array([[1,2,3,4],[5,6,7,8]])\n",
    "print(my_array.reshape(1,8))"
   ]
  },
  {
   "cell_type": "code",
   "execution_count": null,
   "id": "9289811e",
   "metadata": {},
   "outputs": [],
   "source": []
  }
 ],
 "metadata": {
  "kernelspec": {
   "display_name": "Python 3 (ipykernel)",
   "language": "python",
   "name": "python3"
  },
  "language_info": {
   "codemirror_mode": {
    "name": "ipython",
    "version": 3
   },
   "file_extension": ".py",
   "mimetype": "text/x-python",
   "name": "python",
   "nbconvert_exporter": "python",
   "pygments_lexer": "ipython3",
   "version": "3.9.7"
  }
 },
 "nbformat": 4,
 "nbformat_minor": 5
}
