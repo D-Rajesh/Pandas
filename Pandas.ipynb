{
 "cells": [
  {
   "cell_type": "code",
   "execution_count": 1,
   "id": "3d2478a4",
   "metadata": {},
   "outputs": [],
   "source": [
    "import numpy as np\n",
    "import pandas as pd"
   ]
  },
  {
   "cell_type": "code",
   "execution_count": 2,
   "id": "c623ce59",
   "metadata": {},
   "outputs": [],
   "source": [
    "x=[1,2,3,4,88]\n",
    "arr=np.array(x)"
   ]
  },
  {
   "cell_type": "code",
   "execution_count": 3,
   "id": "24c2cce8",
   "metadata": {},
   "outputs": [
    {
     "name": "stdout",
     "output_type": "stream",
     "text": [
      "[ 1  2  3  4 88]\n"
     ]
    }
   ],
   "source": [
    "print(arr)"
   ]
  },
  {
   "cell_type": "code",
   "execution_count": 4,
   "id": "296a090d",
   "metadata": {},
   "outputs": [
    {
     "data": {
      "text/plain": [
       "numpy.ndarray"
      ]
     },
     "execution_count": 4,
     "metadata": {},
     "output_type": "execute_result"
    }
   ],
   "source": [
    "type(arr)"
   ]
  },
  {
   "cell_type": "code",
   "execution_count": 5,
   "id": "1af87c4d",
   "metadata": {},
   "outputs": [],
   "source": [
    "y=[5,9.5,78,60,54]"
   ]
  },
  {
   "cell_type": "code",
   "execution_count": 6,
   "id": "244194ce",
   "metadata": {},
   "outputs": [
    {
     "name": "stdout",
     "output_type": "stream",
     "text": [
      "0     1\n",
      "1     2\n",
      "2     3\n",
      "3     4\n",
      "4    88\n",
      "dtype: int64\n",
      "0     5.0\n",
      "1     9.5\n",
      "2    78.0\n",
      "3    60.0\n",
      "4    54.0\n",
      "dtype: float64\n"
     ]
    }
   ],
   "source": [
    "m1=pd.Series(x)\n",
    "print(m1)\n",
    "m2=pd.Series(y)\n",
    "print(m2)"
   ]
  },
  {
   "cell_type": "code",
   "execution_count": 7,
   "id": "79a104dd",
   "metadata": {},
   "outputs": [
    {
     "name": "stdout",
     "output_type": "stream",
     "text": [
      "  name  Mark  City\n",
      "0    D    80  bbsr\n",
      "1    S    65   ctc\n",
      "2    P    85    jk\n"
     ]
    }
   ],
   "source": [
    "d1={\"name\":[\"D\",\"S\",\"P\"],\n",
    "   \"Mark\":[80,65,85],\n",
    "   \"City\":[\"bbsr\",\"ctc\",\"jk\"]}\n",
    "s1=pd.DataFrame(d1)\n",
    "print(s1)"
   ]
  },
  {
   "cell_type": "code",
   "execution_count": 8,
   "id": "a1c506e1",
   "metadata": {},
   "outputs": [
    {
     "name": "stdout",
     "output_type": "stream",
     "text": [
      "0      1.0\n",
      "1      4.5\n",
      "2      8.0\n",
      "3     11.5\n",
      "4     15.0\n",
      "5     18.5\n",
      "6     22.0\n",
      "7     25.5\n",
      "8     29.0\n",
      "9     32.5\n",
      "10    36.0\n",
      "11    39.5\n",
      "12    43.0\n",
      "13    46.5\n",
      "14    50.0\n",
      "dtype: float64\n"
     ]
    }
   ],
   "source": [
    "#series with numpy linspace()\n",
    "s2=pd.Series(np.linspace(1,50,15))\n",
    "print(s2)"
   ]
  },
  {
   "cell_type": "code",
   "execution_count": 9,
   "id": "5bbb27ec",
   "metadata": {},
   "outputs": [
    {
     "data": {
      "text/plain": [
       "0    0\n",
       "1    1\n",
       "2    2\n",
       "3    3\n",
       "4    4\n",
       "5    5\n",
       "6    6\n",
       "7    7\n",
       "8    8\n",
       "9    9\n",
       "dtype: int64"
      ]
     },
     "execution_count": 9,
     "metadata": {},
     "output_type": "execute_result"
    }
   ],
   "source": [
    "pd.Series(range(10))"
   ]
  },
  {
   "cell_type": "code",
   "execution_count": 10,
   "id": "6a414258",
   "metadata": {},
   "outputs": [
    {
     "name": "stdout",
     "output_type": "stream",
     "text": [
      "g    1\n",
      "h    4\n",
      "d    7\n",
      "dtype: int64\n"
     ]
    }
   ],
   "source": [
    "s3=pd.Series(range(1,10,3),index=[x for x in \"ghd\"])\n",
    "print(s3)"
   ]
  },
  {
   "cell_type": "code",
   "execution_count": 11,
   "id": "67c1e80d",
   "metadata": {},
   "outputs": [
    {
     "name": "stdout",
     "output_type": "stream",
     "text": [
      "a    1\n",
      "b    4\n",
      "c    7\n",
      "dtype: int64\n"
     ]
    }
   ],
   "source": [
    "s3.index=['a','b','c']\n",
    "print(s3)"
   ]
  },
  {
   "cell_type": "code",
   "execution_count": 12,
   "id": "86a3cffa",
   "metadata": {},
   "outputs": [
    {
     "name": "stdout",
     "output_type": "stream",
     "text": [
      "a    1\n",
      "b    4\n",
      "c    7\n",
      "dtype: int64\n"
     ]
    }
   ],
   "source": [
    "s3.column=['A','B']\n",
    "print(s3)"
   ]
  },
  {
   "cell_type": "code",
   "execution_count": 13,
   "id": "c85f36fa",
   "metadata": {},
   "outputs": [
    {
     "data": {
      "text/plain": [
       "4"
      ]
     },
     "execution_count": 13,
     "metadata": {},
     "output_type": "execute_result"
    }
   ],
   "source": [
    "s3['b']"
   ]
  },
  {
   "cell_type": "code",
   "execution_count": 14,
   "id": "59e03c8e",
   "metadata": {},
   "outputs": [
    {
     "data": {
      "text/plain": [
       "7"
      ]
     },
     "execution_count": 14,
     "metadata": {},
     "output_type": "execute_result"
    }
   ],
   "source": [
    "s3[2]"
   ]
  },
  {
   "cell_type": "code",
   "execution_count": 15,
   "id": "c2391e93",
   "metadata": {},
   "outputs": [
    {
     "name": "stdout",
     "output_type": "stream",
     "text": [
      "10    30\n",
      "11    33\n",
      "12    36\n",
      "13    39\n",
      "14    42\n",
      "dtype: int32\n"
     ]
    }
   ],
   "source": [
    "s4=np.arange(10,15)\n",
    "s5=pd.Series(data=s4*3,index=s4)\n",
    "print(s5)"
   ]
  },
  {
   "cell_type": "code",
   "execution_count": 16,
   "id": "4e521af8",
   "metadata": {},
   "outputs": [
    {
     "name": "stdout",
     "output_type": "stream",
     "text": [
      "a    1\n",
      "b    4\n",
      "c    7\n",
      "dtype: int64\n",
      "\n",
      "10    30\n",
      "11    33\n",
      "12    36\n",
      "13    39\n",
      "14    42\n",
      "dtype: int32\n"
     ]
    }
   ],
   "source": [
    "print(s3)\n",
    "print('')\n",
    "print(s5)"
   ]
  },
  {
   "cell_type": "code",
   "execution_count": 17,
   "id": "d430c4d1",
   "metadata": {},
   "outputs": [
    {
     "data": {
      "text/plain": [
       "a      1\n",
       "b      4\n",
       "c      7\n",
       "10    30\n",
       "11    33\n",
       "12    36\n",
       "13    39\n",
       "14    42\n",
       "dtype: int64"
      ]
     },
     "execution_count": 17,
     "metadata": {},
     "output_type": "execute_result"
    }
   ],
   "source": [
    "s6 = pd.concat([s3,s5],axis=0)\n",
    "s6"
   ]
  },
  {
   "cell_type": "code",
   "execution_count": 18,
   "id": "191f43c3",
   "metadata": {},
   "outputs": [
    {
     "data": {
      "text/html": [
       "<div>\n",
       "<style scoped>\n",
       "    .dataframe tbody tr th:only-of-type {\n",
       "        vertical-align: middle;\n",
       "    }\n",
       "\n",
       "    .dataframe tbody tr th {\n",
       "        vertical-align: top;\n",
       "    }\n",
       "\n",
       "    .dataframe thead th {\n",
       "        text-align: right;\n",
       "    }\n",
       "</style>\n",
       "<table border=\"1\" class=\"dataframe\">\n",
       "  <thead>\n",
       "    <tr style=\"text-align: right;\">\n",
       "      <th></th>\n",
       "      <th>0</th>\n",
       "      <th>1</th>\n",
       "      <th>2</th>\n",
       "      <th>3</th>\n",
       "      <th>4</th>\n",
       "    </tr>\n",
       "  </thead>\n",
       "  <tbody>\n",
       "    <tr>\n",
       "      <th>0</th>\n",
       "      <td>-1.413760</td>\n",
       "      <td>0.655396</td>\n",
       "      <td>0.778566</td>\n",
       "      <td>1.186812</td>\n",
       "      <td>-0.719104</td>\n",
       "    </tr>\n",
       "    <tr>\n",
       "      <th>1</th>\n",
       "      <td>1.676194</td>\n",
       "      <td>-0.514657</td>\n",
       "      <td>-0.535633</td>\n",
       "      <td>-0.795980</td>\n",
       "      <td>-0.142100</td>\n",
       "    </tr>\n",
       "    <tr>\n",
       "      <th>2</th>\n",
       "      <td>0.685473</td>\n",
       "      <td>-1.174357</td>\n",
       "      <td>0.513260</td>\n",
       "      <td>-1.405683</td>\n",
       "      <td>-0.355050</td>\n",
       "    </tr>\n",
       "    <tr>\n",
       "      <th>3</th>\n",
       "      <td>0.499918</td>\n",
       "      <td>-0.919483</td>\n",
       "      <td>1.360061</td>\n",
       "      <td>-1.302164</td>\n",
       "      <td>1.198081</td>\n",
       "    </tr>\n",
       "    <tr>\n",
       "      <th>4</th>\n",
       "      <td>-0.511595</td>\n",
       "      <td>1.156419</td>\n",
       "      <td>1.442561</td>\n",
       "      <td>-0.233049</td>\n",
       "      <td>0.555625</td>\n",
       "    </tr>\n",
       "  </tbody>\n",
       "</table>\n",
       "</div>"
      ],
      "text/plain": [
       "          0         1         2         3         4\n",
       "0 -1.413760  0.655396  0.778566  1.186812 -0.719104\n",
       "1  1.676194 -0.514657 -0.535633 -0.795980 -0.142100\n",
       "2  0.685473 -1.174357  0.513260 -1.405683 -0.355050\n",
       "3  0.499918 -0.919483  1.360061 -1.302164  1.198081\n",
       "4 -0.511595  1.156419  1.442561 -0.233049  0.555625"
      ]
     },
     "execution_count": 18,
     "metadata": {},
     "output_type": "execute_result"
    }
   ],
   "source": [
    "df1=pd.DataFrame(np.random.randn(5,5))\n",
    "df1"
   ]
  },
  {
   "cell_type": "code",
   "execution_count": 19,
   "id": "2ab1f250",
   "metadata": {},
   "outputs": [
    {
     "data": {
      "text/html": [
       "<div>\n",
       "<style scoped>\n",
       "    .dataframe tbody tr th:only-of-type {\n",
       "        vertical-align: middle;\n",
       "    }\n",
       "\n",
       "    .dataframe tbody tr th {\n",
       "        vertical-align: top;\n",
       "    }\n",
       "\n",
       "    .dataframe thead th {\n",
       "        text-align: right;\n",
       "    }\n",
       "</style>\n",
       "<table border=\"1\" class=\"dataframe\">\n",
       "  <thead>\n",
       "    <tr style=\"text-align: right;\">\n",
       "      <th></th>\n",
       "      <th>name</th>\n",
       "      <th>Mark</th>\n",
       "      <th>City</th>\n",
       "    </tr>\n",
       "  </thead>\n",
       "  <tbody>\n",
       "    <tr>\n",
       "      <th>0</th>\n",
       "      <td>D</td>\n",
       "      <td>80</td>\n",
       "      <td>bbsr</td>\n",
       "    </tr>\n",
       "    <tr>\n",
       "      <th>1</th>\n",
       "      <td>S</td>\n",
       "      <td>65</td>\n",
       "      <td>ctc</td>\n",
       "    </tr>\n",
       "    <tr>\n",
       "      <th>2</th>\n",
       "      <td>P</td>\n",
       "      <td>85</td>\n",
       "      <td>jk</td>\n",
       "    </tr>\n",
       "  </tbody>\n",
       "</table>\n",
       "</div>"
      ],
      "text/plain": [
       "  name  Mark  City\n",
       "0    D    80  bbsr\n",
       "1    S    65   ctc\n",
       "2    P    85    jk"
      ]
     },
     "execution_count": 19,
     "metadata": {},
     "output_type": "execute_result"
    }
   ],
   "source": [
    "s1"
   ]
  },
  {
   "cell_type": "code",
   "execution_count": 20,
   "id": "05f24f89",
   "metadata": {},
   "outputs": [
    {
     "name": "stderr",
     "output_type": "stream",
     "text": [
      "C:\\Users\\Dell\\AppData\\Local\\Temp/ipykernel_1420/1774479608.py:2: UserWarning: Pandas doesn't allow columns to be created via a new attribute name - see https://pandas.pydata.org/pandas-docs/stable/indexing.html#attribute-access\n",
      "  df1.column=[1,2,3,4,5]\n"
     ]
    },
    {
     "data": {
      "text/html": [
       "<div>\n",
       "<style scoped>\n",
       "    .dataframe tbody tr th:only-of-type {\n",
       "        vertical-align: middle;\n",
       "    }\n",
       "\n",
       "    .dataframe tbody tr th {\n",
       "        vertical-align: top;\n",
       "    }\n",
       "\n",
       "    .dataframe thead th {\n",
       "        text-align: right;\n",
       "    }\n",
       "</style>\n",
       "<table border=\"1\" class=\"dataframe\">\n",
       "  <thead>\n",
       "    <tr style=\"text-align: right;\">\n",
       "      <th></th>\n",
       "      <th>0</th>\n",
       "      <th>1</th>\n",
       "      <th>2</th>\n",
       "      <th>3</th>\n",
       "      <th>4</th>\n",
       "    </tr>\n",
       "  </thead>\n",
       "  <tbody>\n",
       "    <tr>\n",
       "      <th>a</th>\n",
       "      <td>-1.413760</td>\n",
       "      <td>0.655396</td>\n",
       "      <td>0.778566</td>\n",
       "      <td>1.186812</td>\n",
       "      <td>-0.719104</td>\n",
       "    </tr>\n",
       "    <tr>\n",
       "      <th>b</th>\n",
       "      <td>1.676194</td>\n",
       "      <td>-0.514657</td>\n",
       "      <td>-0.535633</td>\n",
       "      <td>-0.795980</td>\n",
       "      <td>-0.142100</td>\n",
       "    </tr>\n",
       "    <tr>\n",
       "      <th>c</th>\n",
       "      <td>0.685473</td>\n",
       "      <td>-1.174357</td>\n",
       "      <td>0.513260</td>\n",
       "      <td>-1.405683</td>\n",
       "      <td>-0.355050</td>\n",
       "    </tr>\n",
       "    <tr>\n",
       "      <th>d</th>\n",
       "      <td>0.499918</td>\n",
       "      <td>-0.919483</td>\n",
       "      <td>1.360061</td>\n",
       "      <td>-1.302164</td>\n",
       "      <td>1.198081</td>\n",
       "    </tr>\n",
       "    <tr>\n",
       "      <th>e</th>\n",
       "      <td>-0.511595</td>\n",
       "      <td>1.156419</td>\n",
       "      <td>1.442561</td>\n",
       "      <td>-0.233049</td>\n",
       "      <td>0.555625</td>\n",
       "    </tr>\n",
       "  </tbody>\n",
       "</table>\n",
       "</div>"
      ],
      "text/plain": [
       "          0         1         2         3         4\n",
       "a -1.413760  0.655396  0.778566  1.186812 -0.719104\n",
       "b  1.676194 -0.514657 -0.535633 -0.795980 -0.142100\n",
       "c  0.685473 -1.174357  0.513260 -1.405683 -0.355050\n",
       "d  0.499918 -0.919483  1.360061 -1.302164  1.198081\n",
       "e -0.511595  1.156419  1.442561 -0.233049  0.555625"
      ]
     },
     "execution_count": 20,
     "metadata": {},
     "output_type": "execute_result"
    }
   ],
   "source": [
    "df1.index=['a','b','c','d','e']\n",
    "df1.column=[1,2,3,4,5]\n",
    "\n",
    "df1"
   ]
  },
  {
   "cell_type": "code",
   "execution_count": 21,
   "id": "f297e72d",
   "metadata": {},
   "outputs": [
    {
     "data": {
      "text/html": [
       "<div>\n",
       "<style scoped>\n",
       "    .dataframe tbody tr th:only-of-type {\n",
       "        vertical-align: middle;\n",
       "    }\n",
       "\n",
       "    .dataframe tbody tr th {\n",
       "        vertical-align: top;\n",
       "    }\n",
       "\n",
       "    .dataframe thead th {\n",
       "        text-align: right;\n",
       "    }\n",
       "</style>\n",
       "<table border=\"1\" class=\"dataframe\">\n",
       "  <thead>\n",
       "    <tr style=\"text-align: right;\">\n",
       "      <th></th>\n",
       "      <th>0</th>\n",
       "      <th>1</th>\n",
       "      <th>2</th>\n",
       "      <th>3</th>\n",
       "      <th>4</th>\n",
       "    </tr>\n",
       "  </thead>\n",
       "  <tbody>\n",
       "    <tr>\n",
       "      <th>a</th>\n",
       "      <td>-1.413760</td>\n",
       "      <td>0.655396</td>\n",
       "      <td>0.778566</td>\n",
       "      <td>1.186812</td>\n",
       "      <td>-0.719104</td>\n",
       "    </tr>\n",
       "    <tr>\n",
       "      <th>b</th>\n",
       "      <td>1.676194</td>\n",
       "      <td>-0.514657</td>\n",
       "      <td>-0.535633</td>\n",
       "      <td>-0.795980</td>\n",
       "      <td>-0.142100</td>\n",
       "    </tr>\n",
       "    <tr>\n",
       "      <th>c</th>\n",
       "      <td>0.685473</td>\n",
       "      <td>-1.174357</td>\n",
       "      <td>0.513260</td>\n",
       "      <td>-1.405683</td>\n",
       "      <td>-0.355050</td>\n",
       "    </tr>\n",
       "    <tr>\n",
       "      <th>d</th>\n",
       "      <td>0.499918</td>\n",
       "      <td>-0.919483</td>\n",
       "      <td>1.360061</td>\n",
       "      <td>-1.302164</td>\n",
       "      <td>1.198081</td>\n",
       "    </tr>\n",
       "    <tr>\n",
       "      <th>e</th>\n",
       "      <td>-0.511595</td>\n",
       "      <td>1.156419</td>\n",
       "      <td>1.442561</td>\n",
       "      <td>-0.233049</td>\n",
       "      <td>0.555625</td>\n",
       "    </tr>\n",
       "  </tbody>\n",
       "</table>\n",
       "</div>"
      ],
      "text/plain": [
       "          0         1         2         3         4\n",
       "a -1.413760  0.655396  0.778566  1.186812 -0.719104\n",
       "b  1.676194 -0.514657 -0.535633 -0.795980 -0.142100\n",
       "c  0.685473 -1.174357  0.513260 -1.405683 -0.355050\n",
       "d  0.499918 -0.919483  1.360061 -1.302164  1.198081\n",
       "e -0.511595  1.156419  1.442561 -0.233049  0.555625"
      ]
     },
     "execution_count": 21,
     "metadata": {},
     "output_type": "execute_result"
    }
   ],
   "source": [
    "df1"
   ]
  },
  {
   "cell_type": "code",
   "execution_count": 22,
   "id": "95733115",
   "metadata": {},
   "outputs": [
    {
     "data": {
      "text/plain": [
       "-1.1743573670921437"
      ]
     },
     "execution_count": 22,
     "metadata": {},
     "output_type": "execute_result"
    }
   ],
   "source": [
    "df1[1][2]"
   ]
  },
  {
   "cell_type": "code",
   "execution_count": 23,
   "id": "c1e9cf80",
   "metadata": {},
   "outputs": [
    {
     "data": {
      "text/html": [
       "<div>\n",
       "<style scoped>\n",
       "    .dataframe tbody tr th:only-of-type {\n",
       "        vertical-align: middle;\n",
       "    }\n",
       "\n",
       "    .dataframe tbody tr th {\n",
       "        vertical-align: top;\n",
       "    }\n",
       "\n",
       "    .dataframe thead th {\n",
       "        text-align: right;\n",
       "    }\n",
       "</style>\n",
       "<table border=\"1\" class=\"dataframe\">\n",
       "  <thead>\n",
       "    <tr style=\"text-align: right;\">\n",
       "      <th></th>\n",
       "      <th>0</th>\n",
       "      <th>1</th>\n",
       "      <th>2</th>\n",
       "      <th>3</th>\n",
       "      <th>4</th>\n",
       "    </tr>\n",
       "  </thead>\n",
       "  <tbody>\n",
       "    <tr>\n",
       "      <th>a</th>\n",
       "      <td>-1.413760</td>\n",
       "      <td>0.655396</td>\n",
       "      <td>0.778566</td>\n",
       "      <td>8.870000</td>\n",
       "      <td>-0.719104</td>\n",
       "    </tr>\n",
       "    <tr>\n",
       "      <th>b</th>\n",
       "      <td>1.676194</td>\n",
       "      <td>-0.514657</td>\n",
       "      <td>-0.535633</td>\n",
       "      <td>-0.795980</td>\n",
       "      <td>-0.142100</td>\n",
       "    </tr>\n",
       "    <tr>\n",
       "      <th>c</th>\n",
       "      <td>0.685473</td>\n",
       "      <td>-1.174357</td>\n",
       "      <td>0.513260</td>\n",
       "      <td>-1.405683</td>\n",
       "      <td>-0.355050</td>\n",
       "    </tr>\n",
       "    <tr>\n",
       "      <th>d</th>\n",
       "      <td>0.499918</td>\n",
       "      <td>-0.919483</td>\n",
       "      <td>1.360061</td>\n",
       "      <td>-1.302164</td>\n",
       "      <td>1.198081</td>\n",
       "    </tr>\n",
       "    <tr>\n",
       "      <th>e</th>\n",
       "      <td>-0.511595</td>\n",
       "      <td>1.156419</td>\n",
       "      <td>1.442561</td>\n",
       "      <td>-0.233049</td>\n",
       "      <td>0.555625</td>\n",
       "    </tr>\n",
       "  </tbody>\n",
       "</table>\n",
       "</div>"
      ],
      "text/plain": [
       "          0         1         2         3         4\n",
       "a -1.413760  0.655396  0.778566  8.870000 -0.719104\n",
       "b  1.676194 -0.514657 -0.535633 -0.795980 -0.142100\n",
       "c  0.685473 -1.174357  0.513260 -1.405683 -0.355050\n",
       "d  0.499918 -0.919483  1.360061 -1.302164  1.198081\n",
       "e -0.511595  1.156419  1.442561 -0.233049  0.555625"
      ]
     },
     "execution_count": 23,
     "metadata": {},
     "output_type": "execute_result"
    }
   ],
   "source": [
    "df1[3][0]=8.87\n",
    "df1"
   ]
  },
  {
   "cell_type": "code",
   "execution_count": 24,
   "id": "58d9358b",
   "metadata": {},
   "outputs": [
    {
     "data": {
      "text/plain": [
       "a    0.655396\n",
       "b   -0.514657\n",
       "c   -1.174357\n",
       "d   -0.919483\n",
       "e    1.156419\n",
       "Name: 1, dtype: float64"
      ]
     },
     "execution_count": 24,
     "metadata": {},
     "output_type": "execute_result"
    }
   ],
   "source": [
    "df1[1]"
   ]
  },
  {
   "cell_type": "code",
   "execution_count": 25,
   "id": "43f8249f",
   "metadata": {},
   "outputs": [
    {
     "data": {
      "text/html": [
       "<div>\n",
       "<style scoped>\n",
       "    .dataframe tbody tr th:only-of-type {\n",
       "        vertical-align: middle;\n",
       "    }\n",
       "\n",
       "    .dataframe tbody tr th {\n",
       "        vertical-align: top;\n",
       "    }\n",
       "\n",
       "    .dataframe thead th {\n",
       "        text-align: right;\n",
       "    }\n",
       "</style>\n",
       "<table border=\"1\" class=\"dataframe\">\n",
       "  <thead>\n",
       "    <tr style=\"text-align: right;\">\n",
       "      <th></th>\n",
       "      <th>0</th>\n",
       "      <th>1</th>\n",
       "      <th>2</th>\n",
       "      <th>3</th>\n",
       "      <th>4</th>\n",
       "    </tr>\n",
       "  </thead>\n",
       "  <tbody>\n",
       "    <tr>\n",
       "      <th>a</th>\n",
       "      <td>-1.413760</td>\n",
       "      <td>0.655396</td>\n",
       "      <td>0.778566</td>\n",
       "      <td>8.87000</td>\n",
       "      <td>-0.719104</td>\n",
       "    </tr>\n",
       "    <tr>\n",
       "      <th>b</th>\n",
       "      <td>1.676194</td>\n",
       "      <td>-0.514657</td>\n",
       "      <td>-0.535633</td>\n",
       "      <td>-0.79598</td>\n",
       "      <td>-0.142100</td>\n",
       "    </tr>\n",
       "  </tbody>\n",
       "</table>\n",
       "</div>"
      ],
      "text/plain": [
       "          0         1         2        3         4\n",
       "a -1.413760  0.655396  0.778566  8.87000 -0.719104\n",
       "b  1.676194 -0.514657 -0.535633 -0.79598 -0.142100"
      ]
     },
     "execution_count": 25,
     "metadata": {},
     "output_type": "execute_result"
    }
   ],
   "source": [
    "df1.head(2)"
   ]
  },
  {
   "cell_type": "code",
   "execution_count": 26,
   "id": "c1233193",
   "metadata": {},
   "outputs": [
    {
     "data": {
      "text/html": [
       "<div>\n",
       "<style scoped>\n",
       "    .dataframe tbody tr th:only-of-type {\n",
       "        vertical-align: middle;\n",
       "    }\n",
       "\n",
       "    .dataframe tbody tr th {\n",
       "        vertical-align: top;\n",
       "    }\n",
       "\n",
       "    .dataframe thead th {\n",
       "        text-align: right;\n",
       "    }\n",
       "</style>\n",
       "<table border=\"1\" class=\"dataframe\">\n",
       "  <thead>\n",
       "    <tr style=\"text-align: right;\">\n",
       "      <th></th>\n",
       "      <th>0</th>\n",
       "      <th>1</th>\n",
       "      <th>2</th>\n",
       "      <th>3</th>\n",
       "      <th>4</th>\n",
       "    </tr>\n",
       "  </thead>\n",
       "  <tbody>\n",
       "    <tr>\n",
       "      <th>d</th>\n",
       "      <td>0.499918</td>\n",
       "      <td>-0.919483</td>\n",
       "      <td>1.360061</td>\n",
       "      <td>-1.302164</td>\n",
       "      <td>1.198081</td>\n",
       "    </tr>\n",
       "    <tr>\n",
       "      <th>e</th>\n",
       "      <td>-0.511595</td>\n",
       "      <td>1.156419</td>\n",
       "      <td>1.442561</td>\n",
       "      <td>-0.233049</td>\n",
       "      <td>0.555625</td>\n",
       "    </tr>\n",
       "  </tbody>\n",
       "</table>\n",
       "</div>"
      ],
      "text/plain": [
       "          0         1         2         3         4\n",
       "d  0.499918 -0.919483  1.360061 -1.302164  1.198081\n",
       "e -0.511595  1.156419  1.442561 -0.233049  0.555625"
      ]
     },
     "execution_count": 26,
     "metadata": {},
     "output_type": "execute_result"
    }
   ],
   "source": [
    "df1.tail(2)"
   ]
  },
  {
   "cell_type": "code",
   "execution_count": 27,
   "id": "f4c7a3d4",
   "metadata": {},
   "outputs": [
    {
     "data": {
      "text/html": [
       "<div>\n",
       "<style scoped>\n",
       "    .dataframe tbody tr th:only-of-type {\n",
       "        vertical-align: middle;\n",
       "    }\n",
       "\n",
       "    .dataframe tbody tr th {\n",
       "        vertical-align: top;\n",
       "    }\n",
       "\n",
       "    .dataframe thead th {\n",
       "        text-align: right;\n",
       "    }\n",
       "</style>\n",
       "<table border=\"1\" class=\"dataframe\">\n",
       "  <thead>\n",
       "    <tr style=\"text-align: right;\">\n",
       "      <th></th>\n",
       "      <th>0</th>\n",
       "      <th>1</th>\n",
       "      <th>2</th>\n",
       "      <th>3</th>\n",
       "      <th>4</th>\n",
       "    </tr>\n",
       "  </thead>\n",
       "  <tbody>\n",
       "    <tr>\n",
       "      <th>count</th>\n",
       "      <td>5.000000</td>\n",
       "      <td>5.000000</td>\n",
       "      <td>5.000000</td>\n",
       "      <td>5.000000</td>\n",
       "      <td>5.000000</td>\n",
       "    </tr>\n",
       "    <tr>\n",
       "      <th>mean</th>\n",
       "      <td>0.187246</td>\n",
       "      <td>-0.159336</td>\n",
       "      <td>0.711763</td>\n",
       "      <td>1.026625</td>\n",
       "      <td>0.107490</td>\n",
       "    </tr>\n",
       "    <tr>\n",
       "      <th>std</th>\n",
       "      <td>1.184753</td>\n",
       "      <td>1.016039</td>\n",
       "      <td>0.799096</td>\n",
       "      <td>4.409268</td>\n",
       "      <td>0.766438</td>\n",
       "    </tr>\n",
       "    <tr>\n",
       "      <th>min</th>\n",
       "      <td>-1.413760</td>\n",
       "      <td>-1.174357</td>\n",
       "      <td>-0.535633</td>\n",
       "      <td>-1.405683</td>\n",
       "      <td>-0.719104</td>\n",
       "    </tr>\n",
       "    <tr>\n",
       "      <th>25%</th>\n",
       "      <td>-0.511595</td>\n",
       "      <td>-0.919483</td>\n",
       "      <td>0.513260</td>\n",
       "      <td>-1.302164</td>\n",
       "      <td>-0.355050</td>\n",
       "    </tr>\n",
       "    <tr>\n",
       "      <th>50%</th>\n",
       "      <td>0.499918</td>\n",
       "      <td>-0.514657</td>\n",
       "      <td>0.778566</td>\n",
       "      <td>-0.795980</td>\n",
       "      <td>-0.142100</td>\n",
       "    </tr>\n",
       "    <tr>\n",
       "      <th>75%</th>\n",
       "      <td>0.685473</td>\n",
       "      <td>0.655396</td>\n",
       "      <td>1.360061</td>\n",
       "      <td>-0.233049</td>\n",
       "      <td>0.555625</td>\n",
       "    </tr>\n",
       "    <tr>\n",
       "      <th>max</th>\n",
       "      <td>1.676194</td>\n",
       "      <td>1.156419</td>\n",
       "      <td>1.442561</td>\n",
       "      <td>8.870000</td>\n",
       "      <td>1.198081</td>\n",
       "    </tr>\n",
       "  </tbody>\n",
       "</table>\n",
       "</div>"
      ],
      "text/plain": [
       "              0         1         2         3         4\n",
       "count  5.000000  5.000000  5.000000  5.000000  5.000000\n",
       "mean   0.187246 -0.159336  0.711763  1.026625  0.107490\n",
       "std    1.184753  1.016039  0.799096  4.409268  0.766438\n",
       "min   -1.413760 -1.174357 -0.535633 -1.405683 -0.719104\n",
       "25%   -0.511595 -0.919483  0.513260 -1.302164 -0.355050\n",
       "50%    0.499918 -0.514657  0.778566 -0.795980 -0.142100\n",
       "75%    0.685473  0.655396  1.360061 -0.233049  0.555625\n",
       "max    1.676194  1.156419  1.442561  8.870000  1.198081"
      ]
     },
     "execution_count": 27,
     "metadata": {},
     "output_type": "execute_result"
    }
   ],
   "source": [
    "df1.describe()"
   ]
  },
  {
   "cell_type": "code",
   "execution_count": 28,
   "id": "d6b6f6c9",
   "metadata": {},
   "outputs": [
    {
     "data": {
      "text/plain": [
       "pandas.core.frame.DataFrame"
      ]
     },
     "execution_count": 28,
     "metadata": {},
     "output_type": "execute_result"
    }
   ],
   "source": [
    "type(s1)"
   ]
  },
  {
   "cell_type": "code",
   "execution_count": 29,
   "id": "215210fe",
   "metadata": {},
   "outputs": [
    {
     "data": {
      "text/plain": [
       "pandas.core.series.Series"
      ]
     },
     "execution_count": 29,
     "metadata": {},
     "output_type": "execute_result"
    }
   ],
   "source": [
    "type(df1[1])"
   ]
  },
  {
   "cell_type": "code",
   "execution_count": 30,
   "id": "74cc053f",
   "metadata": {},
   "outputs": [
    {
     "data": {
      "text/plain": [
       "0    0.685473\n",
       "1   -1.174357\n",
       "2    0.513260\n",
       "3   -1.405683\n",
       "4   -0.355050\n",
       "Name: c, dtype: float64"
      ]
     },
     "execution_count": 30,
     "metadata": {},
     "output_type": "execute_result"
    }
   ],
   "source": [
    "df1.loc['c']"
   ]
  },
  {
   "cell_type": "code",
   "execution_count": 31,
   "id": "14671eba",
   "metadata": {},
   "outputs": [
    {
     "data": {
      "text/plain": [
       "0    0.685473\n",
       "1   -1.174357\n",
       "2    0.513260\n",
       "3   -1.405683\n",
       "4   -0.355050\n",
       "Name: c, dtype: float64"
      ]
     },
     "execution_count": 31,
     "metadata": {},
     "output_type": "execute_result"
    }
   ],
   "source": [
    "df1.iloc[2]"
   ]
  },
  {
   "cell_type": "code",
   "execution_count": 32,
   "id": "586dfaad",
   "metadata": {},
   "outputs": [
    {
     "data": {
      "text/html": [
       "<div>\n",
       "<style scoped>\n",
       "    .dataframe tbody tr th:only-of-type {\n",
       "        vertical-align: middle;\n",
       "    }\n",
       "\n",
       "    .dataframe tbody tr th {\n",
       "        vertical-align: top;\n",
       "    }\n",
       "\n",
       "    .dataframe thead th {\n",
       "        text-align: right;\n",
       "    }\n",
       "</style>\n",
       "<table border=\"1\" class=\"dataframe\">\n",
       "  <thead>\n",
       "    <tr style=\"text-align: right;\">\n",
       "      <th></th>\n",
       "      <th>0</th>\n",
       "      <th>1</th>\n",
       "      <th>2</th>\n",
       "      <th>3</th>\n",
       "      <th>4</th>\n",
       "    </tr>\n",
       "  </thead>\n",
       "  <tbody>\n",
       "    <tr>\n",
       "      <th>a</th>\n",
       "      <td>-1.413760</td>\n",
       "      <td>0.655396</td>\n",
       "      <td>0.778566</td>\n",
       "      <td>8.870000</td>\n",
       "      <td>-0.719104</td>\n",
       "    </tr>\n",
       "    <tr>\n",
       "      <th>b</th>\n",
       "      <td>1.676194</td>\n",
       "      <td>-0.514657</td>\n",
       "      <td>-0.535633</td>\n",
       "      <td>-0.795980</td>\n",
       "      <td>-0.142100</td>\n",
       "    </tr>\n",
       "    <tr>\n",
       "      <th>c</th>\n",
       "      <td>0.685473</td>\n",
       "      <td>-1.174357</td>\n",
       "      <td>0.513260</td>\n",
       "      <td>-1.405683</td>\n",
       "      <td>-0.355050</td>\n",
       "    </tr>\n",
       "    <tr>\n",
       "      <th>d</th>\n",
       "      <td>0.499918</td>\n",
       "      <td>-0.919483</td>\n",
       "      <td>1.360061</td>\n",
       "      <td>-1.302164</td>\n",
       "      <td>1.198081</td>\n",
       "    </tr>\n",
       "    <tr>\n",
       "      <th>e</th>\n",
       "      <td>-0.511595</td>\n",
       "      <td>1.156419</td>\n",
       "      <td>1.442561</td>\n",
       "      <td>-0.233049</td>\n",
       "      <td>0.555625</td>\n",
       "    </tr>\n",
       "  </tbody>\n",
       "</table>\n",
       "</div>"
      ],
      "text/plain": [
       "          0         1         2         3         4\n",
       "a -1.413760  0.655396  0.778566  8.870000 -0.719104\n",
       "b  1.676194 -0.514657 -0.535633 -0.795980 -0.142100\n",
       "c  0.685473 -1.174357  0.513260 -1.405683 -0.355050\n",
       "d  0.499918 -0.919483  1.360061 -1.302164  1.198081\n",
       "e -0.511595  1.156419  1.442561 -0.233049  0.555625"
      ]
     },
     "execution_count": 32,
     "metadata": {},
     "output_type": "execute_result"
    }
   ],
   "source": [
    "df1"
   ]
  },
  {
   "cell_type": "code",
   "execution_count": 33,
   "id": "c17bffcc",
   "metadata": {},
   "outputs": [
    {
     "data": {
      "text/html": [
       "<div>\n",
       "<style scoped>\n",
       "    .dataframe tbody tr th:only-of-type {\n",
       "        vertical-align: middle;\n",
       "    }\n",
       "\n",
       "    .dataframe tbody tr th {\n",
       "        vertical-align: top;\n",
       "    }\n",
       "\n",
       "    .dataframe thead th {\n",
       "        text-align: right;\n",
       "    }\n",
       "</style>\n",
       "<table border=\"1\" class=\"dataframe\">\n",
       "  <thead>\n",
       "    <tr style=\"text-align: right;\">\n",
       "      <th></th>\n",
       "      <th>2</th>\n",
       "      <th>3</th>\n",
       "    </tr>\n",
       "  </thead>\n",
       "  <tbody>\n",
       "    <tr>\n",
       "      <th>c</th>\n",
       "      <td>0.513260</td>\n",
       "      <td>-1.405683</td>\n",
       "    </tr>\n",
       "    <tr>\n",
       "      <th>d</th>\n",
       "      <td>1.360061</td>\n",
       "      <td>-1.302164</td>\n",
       "    </tr>\n",
       "  </tbody>\n",
       "</table>\n",
       "</div>"
      ],
      "text/plain": [
       "          2         3\n",
       "c  0.513260 -1.405683\n",
       "d  1.360061 -1.302164"
      ]
     },
     "execution_count": 33,
     "metadata": {},
     "output_type": "execute_result"
    }
   ],
   "source": [
    "df1.loc[['c','d'],[2,3]]"
   ]
  },
  {
   "cell_type": "code",
   "execution_count": 34,
   "id": "5a985693",
   "metadata": {},
   "outputs": [
    {
     "data": {
      "text/plain": [
       "Index(['a', 'b', 'c', 'd', 'e'], dtype='object')"
      ]
     },
     "execution_count": 34,
     "metadata": {},
     "output_type": "execute_result"
    }
   ],
   "source": [
    "df1.index"
   ]
  },
  {
   "cell_type": "code",
   "execution_count": 35,
   "id": "fc02c567",
   "metadata": {},
   "outputs": [
    {
     "data": {
      "text/plain": [
       "[1, 2, 3, 4, 5]"
      ]
     },
     "execution_count": 35,
     "metadata": {},
     "output_type": "execute_result"
    }
   ],
   "source": [
    "df1.column"
   ]
  },
  {
   "cell_type": "code",
   "execution_count": 36,
   "id": "0d7eef22",
   "metadata": {},
   "outputs": [
    {
     "data": {
      "text/html": [
       "<div>\n",
       "<style scoped>\n",
       "    .dataframe tbody tr th:only-of-type {\n",
       "        vertical-align: middle;\n",
       "    }\n",
       "\n",
       "    .dataframe tbody tr th {\n",
       "        vertical-align: top;\n",
       "    }\n",
       "\n",
       "    .dataframe thead th {\n",
       "        text-align: right;\n",
       "    }\n",
       "</style>\n",
       "<table border=\"1\" class=\"dataframe\">\n",
       "  <thead>\n",
       "    <tr style=\"text-align: right;\">\n",
       "      <th></th>\n",
       "      <th>a</th>\n",
       "      <th>b</th>\n",
       "      <th>c</th>\n",
       "      <th>d</th>\n",
       "      <th>e</th>\n",
       "    </tr>\n",
       "  </thead>\n",
       "  <tbody>\n",
       "    <tr>\n",
       "      <th>0</th>\n",
       "      <td>-1.413760</td>\n",
       "      <td>1.676194</td>\n",
       "      <td>0.685473</td>\n",
       "      <td>0.499918</td>\n",
       "      <td>-0.511595</td>\n",
       "    </tr>\n",
       "    <tr>\n",
       "      <th>1</th>\n",
       "      <td>0.655396</td>\n",
       "      <td>-0.514657</td>\n",
       "      <td>-1.174357</td>\n",
       "      <td>-0.919483</td>\n",
       "      <td>1.156419</td>\n",
       "    </tr>\n",
       "    <tr>\n",
       "      <th>2</th>\n",
       "      <td>0.778566</td>\n",
       "      <td>-0.535633</td>\n",
       "      <td>0.513260</td>\n",
       "      <td>1.360061</td>\n",
       "      <td>1.442561</td>\n",
       "    </tr>\n",
       "    <tr>\n",
       "      <th>3</th>\n",
       "      <td>8.870000</td>\n",
       "      <td>-0.795980</td>\n",
       "      <td>-1.405683</td>\n",
       "      <td>-1.302164</td>\n",
       "      <td>-0.233049</td>\n",
       "    </tr>\n",
       "    <tr>\n",
       "      <th>4</th>\n",
       "      <td>-0.719104</td>\n",
       "      <td>-0.142100</td>\n",
       "      <td>-0.355050</td>\n",
       "      <td>1.198081</td>\n",
       "      <td>0.555625</td>\n",
       "    </tr>\n",
       "  </tbody>\n",
       "</table>\n",
       "</div>"
      ],
      "text/plain": [
       "          a         b         c         d         e\n",
       "0 -1.413760  1.676194  0.685473  0.499918 -0.511595\n",
       "1  0.655396 -0.514657 -1.174357 -0.919483  1.156419\n",
       "2  0.778566 -0.535633  0.513260  1.360061  1.442561\n",
       "3  8.870000 -0.795980 -1.405683 -1.302164 -0.233049\n",
       "4 -0.719104 -0.142100 -0.355050  1.198081  0.555625"
      ]
     },
     "execution_count": 36,
     "metadata": {},
     "output_type": "execute_result"
    }
   ],
   "source": [
    "df1.T"
   ]
  },
  {
   "cell_type": "code",
   "execution_count": 37,
   "id": "0ad71648",
   "metadata": {},
   "outputs": [
    {
     "data": {
      "text/plain": [
       "array([[-1.4137596 ,  0.65539609,  0.77856604,  8.87      , -0.71910411],\n",
       "       [ 1.67619374, -0.51465676, -0.53563286, -0.79598   , -0.14210026],\n",
       "       [ 0.68547324, -1.17435737,  0.51325976, -1.40568343, -0.35504989],\n",
       "       [ 0.49991819, -0.9194826 ,  1.36006145, -1.30216371,  1.19808106],\n",
       "       [-0.51159476,  1.15641891,  1.44256121, -0.23304869,  0.55562496]])"
      ]
     },
     "execution_count": 37,
     "metadata": {},
     "output_type": "execute_result"
    }
   ],
   "source": [
    "df2=df1.to_numpy()\n",
    "df2"
   ]
  },
  {
   "cell_type": "code",
   "execution_count": 38,
   "id": "8a5aecca",
   "metadata": {},
   "outputs": [
    {
     "data": {
      "text/html": [
       "<div>\n",
       "<style scoped>\n",
       "    .dataframe tbody tr th:only-of-type {\n",
       "        vertical-align: middle;\n",
       "    }\n",
       "\n",
       "    .dataframe tbody tr th {\n",
       "        vertical-align: top;\n",
       "    }\n",
       "\n",
       "    .dataframe thead th {\n",
       "        text-align: right;\n",
       "    }\n",
       "</style>\n",
       "<table border=\"1\" class=\"dataframe\">\n",
       "  <thead>\n",
       "    <tr style=\"text-align: right;\">\n",
       "      <th></th>\n",
       "      <th>0</th>\n",
       "      <th>1</th>\n",
       "      <th>2</th>\n",
       "      <th>3</th>\n",
       "      <th>4</th>\n",
       "    </tr>\n",
       "  </thead>\n",
       "  <tbody>\n",
       "    <tr>\n",
       "      <th>a</th>\n",
       "      <td>-1.413760</td>\n",
       "      <td>0.655396</td>\n",
       "      <td>0.778566</td>\n",
       "      <td>8.870000</td>\n",
       "      <td>-0.719104</td>\n",
       "    </tr>\n",
       "    <tr>\n",
       "      <th>b</th>\n",
       "      <td>1.676194</td>\n",
       "      <td>-0.514657</td>\n",
       "      <td>-0.535633</td>\n",
       "      <td>-0.795980</td>\n",
       "      <td>-0.142100</td>\n",
       "    </tr>\n",
       "    <tr>\n",
       "      <th>c</th>\n",
       "      <td>0.685473</td>\n",
       "      <td>-1.174357</td>\n",
       "      <td>0.513260</td>\n",
       "      <td>-1.405683</td>\n",
       "      <td>-0.355050</td>\n",
       "    </tr>\n",
       "    <tr>\n",
       "      <th>d</th>\n",
       "      <td>0.499918</td>\n",
       "      <td>-0.919483</td>\n",
       "      <td>1.360061</td>\n",
       "      <td>-1.302164</td>\n",
       "      <td>1.198081</td>\n",
       "    </tr>\n",
       "    <tr>\n",
       "      <th>e</th>\n",
       "      <td>-0.511595</td>\n",
       "      <td>1.156419</td>\n",
       "      <td>1.442561</td>\n",
       "      <td>-0.233049</td>\n",
       "      <td>0.555625</td>\n",
       "    </tr>\n",
       "  </tbody>\n",
       "</table>\n",
       "</div>"
      ],
      "text/plain": [
       "          0         1         2         3         4\n",
       "a -1.413760  0.655396  0.778566  8.870000 -0.719104\n",
       "b  1.676194 -0.514657 -0.535633 -0.795980 -0.142100\n",
       "c  0.685473 -1.174357  0.513260 -1.405683 -0.355050\n",
       "d  0.499918 -0.919483  1.360061 -1.302164  1.198081\n",
       "e -0.511595  1.156419  1.442561 -0.233049  0.555625"
      ]
     },
     "execution_count": 38,
     "metadata": {},
     "output_type": "execute_result"
    }
   ],
   "source": [
    "df1"
   ]
  },
  {
   "cell_type": "code",
   "execution_count": 39,
   "id": "a79471d1",
   "metadata": {},
   "outputs": [
    {
     "data": {
      "text/html": [
       "<div>\n",
       "<style scoped>\n",
       "    .dataframe tbody tr th:only-of-type {\n",
       "        vertical-align: middle;\n",
       "    }\n",
       "\n",
       "    .dataframe tbody tr th {\n",
       "        vertical-align: top;\n",
       "    }\n",
       "\n",
       "    .dataframe thead th {\n",
       "        text-align: right;\n",
       "    }\n",
       "</style>\n",
       "<table border=\"1\" class=\"dataframe\">\n",
       "  <thead>\n",
       "    <tr style=\"text-align: right;\">\n",
       "      <th></th>\n",
       "      <th>4</th>\n",
       "      <th>3</th>\n",
       "      <th>2</th>\n",
       "      <th>1</th>\n",
       "      <th>0</th>\n",
       "    </tr>\n",
       "  </thead>\n",
       "  <tbody>\n",
       "    <tr>\n",
       "      <th>a</th>\n",
       "      <td>-0.719104</td>\n",
       "      <td>8.870000</td>\n",
       "      <td>0.778566</td>\n",
       "      <td>0.655396</td>\n",
       "      <td>-1.413760</td>\n",
       "    </tr>\n",
       "    <tr>\n",
       "      <th>b</th>\n",
       "      <td>-0.142100</td>\n",
       "      <td>-0.795980</td>\n",
       "      <td>-0.535633</td>\n",
       "      <td>-0.514657</td>\n",
       "      <td>1.676194</td>\n",
       "    </tr>\n",
       "    <tr>\n",
       "      <th>c</th>\n",
       "      <td>-0.355050</td>\n",
       "      <td>-1.405683</td>\n",
       "      <td>0.513260</td>\n",
       "      <td>-1.174357</td>\n",
       "      <td>0.685473</td>\n",
       "    </tr>\n",
       "    <tr>\n",
       "      <th>d</th>\n",
       "      <td>1.198081</td>\n",
       "      <td>-1.302164</td>\n",
       "      <td>1.360061</td>\n",
       "      <td>-0.919483</td>\n",
       "      <td>0.499918</td>\n",
       "    </tr>\n",
       "    <tr>\n",
       "      <th>e</th>\n",
       "      <td>0.555625</td>\n",
       "      <td>-0.233049</td>\n",
       "      <td>1.442561</td>\n",
       "      <td>1.156419</td>\n",
       "      <td>-0.511595</td>\n",
       "    </tr>\n",
       "  </tbody>\n",
       "</table>\n",
       "</div>"
      ],
      "text/plain": [
       "          4         3         2         1         0\n",
       "a -0.719104  8.870000  0.778566  0.655396 -1.413760\n",
       "b -0.142100 -0.795980 -0.535633 -0.514657  1.676194\n",
       "c -0.355050 -1.405683  0.513260 -1.174357  0.685473\n",
       "d  1.198081 -1.302164  1.360061 -0.919483  0.499918\n",
       "e  0.555625 -0.233049  1.442561  1.156419 -0.511595"
      ]
     },
     "execution_count": 39,
     "metadata": {},
     "output_type": "execute_result"
    }
   ],
   "source": [
    "df1.sort_index(axis=1,ascending=False)"
   ]
  },
  {
   "cell_type": "code",
   "execution_count": 40,
   "id": "de6e60b4",
   "metadata": {},
   "outputs": [
    {
     "data": {
      "text/html": [
       "<div>\n",
       "<style scoped>\n",
       "    .dataframe tbody tr th:only-of-type {\n",
       "        vertical-align: middle;\n",
       "    }\n",
       "\n",
       "    .dataframe tbody tr th {\n",
       "        vertical-align: top;\n",
       "    }\n",
       "\n",
       "    .dataframe thead th {\n",
       "        text-align: right;\n",
       "    }\n",
       "</style>\n",
       "<table border=\"1\" class=\"dataframe\">\n",
       "  <thead>\n",
       "    <tr style=\"text-align: right;\">\n",
       "      <th></th>\n",
       "      <th>0</th>\n",
       "      <th>1</th>\n",
       "      <th>2</th>\n",
       "      <th>3</th>\n",
       "      <th>4</th>\n",
       "    </tr>\n",
       "  </thead>\n",
       "  <tbody>\n",
       "    <tr>\n",
       "      <th>a</th>\n",
       "      <td>False</td>\n",
       "      <td>True</td>\n",
       "      <td>True</td>\n",
       "      <td>True</td>\n",
       "      <td>False</td>\n",
       "    </tr>\n",
       "    <tr>\n",
       "      <th>b</th>\n",
       "      <td>True</td>\n",
       "      <td>False</td>\n",
       "      <td>False</td>\n",
       "      <td>False</td>\n",
       "      <td>False</td>\n",
       "    </tr>\n",
       "    <tr>\n",
       "      <th>c</th>\n",
       "      <td>True</td>\n",
       "      <td>False</td>\n",
       "      <td>True</td>\n",
       "      <td>False</td>\n",
       "      <td>False</td>\n",
       "    </tr>\n",
       "    <tr>\n",
       "      <th>d</th>\n",
       "      <td>True</td>\n",
       "      <td>False</td>\n",
       "      <td>True</td>\n",
       "      <td>False</td>\n",
       "      <td>True</td>\n",
       "    </tr>\n",
       "    <tr>\n",
       "      <th>e</th>\n",
       "      <td>False</td>\n",
       "      <td>True</td>\n",
       "      <td>True</td>\n",
       "      <td>False</td>\n",
       "      <td>True</td>\n",
       "    </tr>\n",
       "  </tbody>\n",
       "</table>\n",
       "</div>"
      ],
      "text/plain": [
       "       0      1      2      3      4\n",
       "a  False   True   True   True  False\n",
       "b   True  False  False  False  False\n",
       "c   True  False   True  False  False\n",
       "d   True  False   True  False   True\n",
       "e  False   True   True  False   True"
      ]
     },
     "execution_count": 40,
     "metadata": {},
     "output_type": "execute_result"
    }
   ],
   "source": [
    "df1>0"
   ]
  },
  {
   "cell_type": "code",
   "execution_count": 41,
   "id": "a31faf30",
   "metadata": {},
   "outputs": [
    {
     "data": {
      "text/html": [
       "<div>\n",
       "<style scoped>\n",
       "    .dataframe tbody tr th:only-of-type {\n",
       "        vertical-align: middle;\n",
       "    }\n",
       "\n",
       "    .dataframe tbody tr th {\n",
       "        vertical-align: top;\n",
       "    }\n",
       "\n",
       "    .dataframe thead th {\n",
       "        text-align: right;\n",
       "    }\n",
       "</style>\n",
       "<table border=\"1\" class=\"dataframe\">\n",
       "  <thead>\n",
       "    <tr style=\"text-align: right;\">\n",
       "      <th></th>\n",
       "      <th>0</th>\n",
       "      <th>1</th>\n",
       "      <th>2</th>\n",
       "      <th>3</th>\n",
       "      <th>4</th>\n",
       "    </tr>\n",
       "  </thead>\n",
       "  <tbody>\n",
       "    <tr>\n",
       "      <th>a</th>\n",
       "      <td>NaN</td>\n",
       "      <td>0.655396</td>\n",
       "      <td>0.778566</td>\n",
       "      <td>8.87</td>\n",
       "      <td>NaN</td>\n",
       "    </tr>\n",
       "    <tr>\n",
       "      <th>b</th>\n",
       "      <td>1.676194</td>\n",
       "      <td>NaN</td>\n",
       "      <td>NaN</td>\n",
       "      <td>NaN</td>\n",
       "      <td>NaN</td>\n",
       "    </tr>\n",
       "    <tr>\n",
       "      <th>c</th>\n",
       "      <td>0.685473</td>\n",
       "      <td>NaN</td>\n",
       "      <td>0.513260</td>\n",
       "      <td>NaN</td>\n",
       "      <td>NaN</td>\n",
       "    </tr>\n",
       "    <tr>\n",
       "      <th>d</th>\n",
       "      <td>0.499918</td>\n",
       "      <td>NaN</td>\n",
       "      <td>1.360061</td>\n",
       "      <td>NaN</td>\n",
       "      <td>1.198081</td>\n",
       "    </tr>\n",
       "    <tr>\n",
       "      <th>e</th>\n",
       "      <td>NaN</td>\n",
       "      <td>1.156419</td>\n",
       "      <td>1.442561</td>\n",
       "      <td>NaN</td>\n",
       "      <td>0.555625</td>\n",
       "    </tr>\n",
       "  </tbody>\n",
       "</table>\n",
       "</div>"
      ],
      "text/plain": [
       "          0         1         2     3         4\n",
       "a       NaN  0.655396  0.778566  8.87       NaN\n",
       "b  1.676194       NaN       NaN   NaN       NaN\n",
       "c  0.685473       NaN  0.513260   NaN       NaN\n",
       "d  0.499918       NaN  1.360061   NaN  1.198081\n",
       "e       NaN  1.156419  1.442561   NaN  0.555625"
      ]
     },
     "execution_count": 41,
     "metadata": {},
     "output_type": "execute_result"
    }
   ],
   "source": [
    "df1[df1>0]"
   ]
  },
  {
   "cell_type": "code",
   "execution_count": 42,
   "id": "f00026fb",
   "metadata": {},
   "outputs": [
    {
     "data": {
      "text/html": [
       "<div>\n",
       "<style scoped>\n",
       "    .dataframe tbody tr th:only-of-type {\n",
       "        vertical-align: middle;\n",
       "    }\n",
       "\n",
       "    .dataframe tbody tr th {\n",
       "        vertical-align: top;\n",
       "    }\n",
       "\n",
       "    .dataframe thead th {\n",
       "        text-align: right;\n",
       "    }\n",
       "</style>\n",
       "<table border=\"1\" class=\"dataframe\">\n",
       "  <thead>\n",
       "    <tr style=\"text-align: right;\">\n",
       "      <th></th>\n",
       "      <th>0</th>\n",
       "      <th>1</th>\n",
       "      <th>2</th>\n",
       "      <th>3</th>\n",
       "      <th>4</th>\n",
       "      <th>5</th>\n",
       "    </tr>\n",
       "  </thead>\n",
       "  <tbody>\n",
       "    <tr>\n",
       "      <th>a</th>\n",
       "      <td>-1.413760</td>\n",
       "      <td>0.655396</td>\n",
       "      <td>0.778566</td>\n",
       "      <td>8.870000</td>\n",
       "      <td>-0.719104</td>\n",
       "      <td>-1.901392</td>\n",
       "    </tr>\n",
       "    <tr>\n",
       "      <th>b</th>\n",
       "      <td>1.676194</td>\n",
       "      <td>-0.514657</td>\n",
       "      <td>-0.535633</td>\n",
       "      <td>-0.795980</td>\n",
       "      <td>-0.142100</td>\n",
       "      <td>0.032151</td>\n",
       "    </tr>\n",
       "    <tr>\n",
       "      <th>c</th>\n",
       "      <td>0.685473</td>\n",
       "      <td>-1.174357</td>\n",
       "      <td>0.513260</td>\n",
       "      <td>-1.405683</td>\n",
       "      <td>-0.355050</td>\n",
       "      <td>1.238157</td>\n",
       "    </tr>\n",
       "    <tr>\n",
       "      <th>d</th>\n",
       "      <td>0.499918</td>\n",
       "      <td>-0.919483</td>\n",
       "      <td>1.360061</td>\n",
       "      <td>-1.302164</td>\n",
       "      <td>1.198081</td>\n",
       "      <td>0.787715</td>\n",
       "    </tr>\n",
       "    <tr>\n",
       "      <th>e</th>\n",
       "      <td>-0.511595</td>\n",
       "      <td>1.156419</td>\n",
       "      <td>1.442561</td>\n",
       "      <td>-0.233049</td>\n",
       "      <td>0.555625</td>\n",
       "      <td>-1.091448</td>\n",
       "    </tr>\n",
       "  </tbody>\n",
       "</table>\n",
       "</div>"
      ],
      "text/plain": [
       "          0         1         2         3         4         5\n",
       "a -1.413760  0.655396  0.778566  8.870000 -0.719104 -1.901392\n",
       "b  1.676194 -0.514657 -0.535633 -0.795980 -0.142100  0.032151\n",
       "c  0.685473 -1.174357  0.513260 -1.405683 -0.355050  1.238157\n",
       "d  0.499918 -0.919483  1.360061 -1.302164  1.198081  0.787715\n",
       "e -0.511595  1.156419  1.442561 -0.233049  0.555625 -1.091448"
      ]
     },
     "execution_count": 42,
     "metadata": {},
     "output_type": "execute_result"
    }
   ],
   "source": [
    "df1[5]=np.random.randn(5,1)\n",
    "df1"
   ]
  },
  {
   "cell_type": "code",
   "execution_count": 43,
   "id": "74fd602e",
   "metadata": {},
   "outputs": [
    {
     "data": {
      "text/html": [
       "<div>\n",
       "<style scoped>\n",
       "    .dataframe tbody tr th:only-of-type {\n",
       "        vertical-align: middle;\n",
       "    }\n",
       "\n",
       "    .dataframe tbody tr th {\n",
       "        vertical-align: top;\n",
       "    }\n",
       "\n",
       "    .dataframe thead th {\n",
       "        text-align: right;\n",
       "    }\n",
       "</style>\n",
       "<table border=\"1\" class=\"dataframe\">\n",
       "  <thead>\n",
       "    <tr style=\"text-align: right;\">\n",
       "      <th></th>\n",
       "      <th>0</th>\n",
       "      <th>1</th>\n",
       "      <th>2</th>\n",
       "      <th>3</th>\n",
       "      <th>4</th>\n",
       "    </tr>\n",
       "  </thead>\n",
       "  <tbody>\n",
       "    <tr>\n",
       "      <th>a</th>\n",
       "      <td>-1.413760</td>\n",
       "      <td>0.655396</td>\n",
       "      <td>0.778566</td>\n",
       "      <td>8.870000</td>\n",
       "      <td>-0.719104</td>\n",
       "    </tr>\n",
       "    <tr>\n",
       "      <th>b</th>\n",
       "      <td>1.676194</td>\n",
       "      <td>-0.514657</td>\n",
       "      <td>-0.535633</td>\n",
       "      <td>-0.795980</td>\n",
       "      <td>-0.142100</td>\n",
       "    </tr>\n",
       "    <tr>\n",
       "      <th>c</th>\n",
       "      <td>0.685473</td>\n",
       "      <td>-1.174357</td>\n",
       "      <td>0.513260</td>\n",
       "      <td>-1.405683</td>\n",
       "      <td>-0.355050</td>\n",
       "    </tr>\n",
       "    <tr>\n",
       "      <th>d</th>\n",
       "      <td>0.499918</td>\n",
       "      <td>-0.919483</td>\n",
       "      <td>1.360061</td>\n",
       "      <td>-1.302164</td>\n",
       "      <td>1.198081</td>\n",
       "    </tr>\n",
       "    <tr>\n",
       "      <th>e</th>\n",
       "      <td>-0.511595</td>\n",
       "      <td>1.156419</td>\n",
       "      <td>1.442561</td>\n",
       "      <td>-0.233049</td>\n",
       "      <td>0.555625</td>\n",
       "    </tr>\n",
       "  </tbody>\n",
       "</table>\n",
       "</div>"
      ],
      "text/plain": [
       "          0         1         2         3         4\n",
       "a -1.413760  0.655396  0.778566  8.870000 -0.719104\n",
       "b  1.676194 -0.514657 -0.535633 -0.795980 -0.142100\n",
       "c  0.685473 -1.174357  0.513260 -1.405683 -0.355050\n",
       "d  0.499918 -0.919483  1.360061 -1.302164  1.198081\n",
       "e -0.511595  1.156419  1.442561 -0.233049  0.555625"
      ]
     },
     "execution_count": 43,
     "metadata": {},
     "output_type": "execute_result"
    }
   ],
   "source": [
    "df1.drop([5],axis=1)"
   ]
  },
  {
   "cell_type": "code",
   "execution_count": 44,
   "id": "816efea0",
   "metadata": {
    "scrolled": true
   },
   "outputs": [
    {
     "data": {
      "text/html": [
       "<div>\n",
       "<style scoped>\n",
       "    .dataframe tbody tr th:only-of-type {\n",
       "        vertical-align: middle;\n",
       "    }\n",
       "\n",
       "    .dataframe tbody tr th {\n",
       "        vertical-align: top;\n",
       "    }\n",
       "\n",
       "    .dataframe thead th {\n",
       "        text-align: right;\n",
       "    }\n",
       "</style>\n",
       "<table border=\"1\" class=\"dataframe\">\n",
       "  <thead>\n",
       "    <tr style=\"text-align: right;\">\n",
       "      <th></th>\n",
       "      <th>0</th>\n",
       "      <th>1</th>\n",
       "      <th>2</th>\n",
       "      <th>3</th>\n",
       "      <th>4</th>\n",
       "      <th>5</th>\n",
       "    </tr>\n",
       "  </thead>\n",
       "  <tbody>\n",
       "    <tr>\n",
       "      <th>a</th>\n",
       "      <td>-1.413760</td>\n",
       "      <td>0.655396</td>\n",
       "      <td>0.778566</td>\n",
       "      <td>8.870000</td>\n",
       "      <td>-0.719104</td>\n",
       "      <td>-1.901392</td>\n",
       "    </tr>\n",
       "    <tr>\n",
       "      <th>b</th>\n",
       "      <td>1.676194</td>\n",
       "      <td>-0.514657</td>\n",
       "      <td>-0.535633</td>\n",
       "      <td>-0.795980</td>\n",
       "      <td>-0.142100</td>\n",
       "      <td>0.032151</td>\n",
       "    </tr>\n",
       "    <tr>\n",
       "      <th>c</th>\n",
       "      <td>0.685473</td>\n",
       "      <td>-1.174357</td>\n",
       "      <td>0.513260</td>\n",
       "      <td>-1.405683</td>\n",
       "      <td>-0.355050</td>\n",
       "      <td>1.238157</td>\n",
       "    </tr>\n",
       "    <tr>\n",
       "      <th>d</th>\n",
       "      <td>0.499918</td>\n",
       "      <td>-0.919483</td>\n",
       "      <td>1.360061</td>\n",
       "      <td>-1.302164</td>\n",
       "      <td>1.198081</td>\n",
       "      <td>0.787715</td>\n",
       "    </tr>\n",
       "  </tbody>\n",
       "</table>\n",
       "</div>"
      ],
      "text/plain": [
       "          0         1         2         3         4         5\n",
       "a -1.413760  0.655396  0.778566  8.870000 -0.719104 -1.901392\n",
       "b  1.676194 -0.514657 -0.535633 -0.795980 -0.142100  0.032151\n",
       "c  0.685473 -1.174357  0.513260 -1.405683 -0.355050  1.238157\n",
       "d  0.499918 -0.919483  1.360061 -1.302164  1.198081  0.787715"
      ]
     },
     "execution_count": 44,
     "metadata": {},
     "output_type": "execute_result"
    }
   ],
   "source": [
    "df1.drop(['e'],axis=0)\n"
   ]
  },
  {
   "cell_type": "code",
   "execution_count": 45,
   "id": "4b3610b5",
   "metadata": {},
   "outputs": [],
   "source": [
    "df1.drop([3],axis=1,inplace=True)"
   ]
  },
  {
   "cell_type": "code",
   "execution_count": 46,
   "id": "f93af473",
   "metadata": {},
   "outputs": [
    {
     "data": {
      "text/html": [
       "<div>\n",
       "<style scoped>\n",
       "    .dataframe tbody tr th:only-of-type {\n",
       "        vertical-align: middle;\n",
       "    }\n",
       "\n",
       "    .dataframe tbody tr th {\n",
       "        vertical-align: top;\n",
       "    }\n",
       "\n",
       "    .dataframe thead th {\n",
       "        text-align: right;\n",
       "    }\n",
       "</style>\n",
       "<table border=\"1\" class=\"dataframe\">\n",
       "  <thead>\n",
       "    <tr style=\"text-align: right;\">\n",
       "      <th></th>\n",
       "      <th>0</th>\n",
       "      <th>1</th>\n",
       "      <th>2</th>\n",
       "      <th>4</th>\n",
       "      <th>5</th>\n",
       "    </tr>\n",
       "  </thead>\n",
       "  <tbody>\n",
       "    <tr>\n",
       "      <th>a</th>\n",
       "      <td>-1.413760</td>\n",
       "      <td>0.655396</td>\n",
       "      <td>0.778566</td>\n",
       "      <td>-0.719104</td>\n",
       "      <td>-1.901392</td>\n",
       "    </tr>\n",
       "    <tr>\n",
       "      <th>b</th>\n",
       "      <td>1.676194</td>\n",
       "      <td>-0.514657</td>\n",
       "      <td>-0.535633</td>\n",
       "      <td>-0.142100</td>\n",
       "      <td>0.032151</td>\n",
       "    </tr>\n",
       "    <tr>\n",
       "      <th>c</th>\n",
       "      <td>0.685473</td>\n",
       "      <td>-1.174357</td>\n",
       "      <td>0.513260</td>\n",
       "      <td>-0.355050</td>\n",
       "      <td>1.238157</td>\n",
       "    </tr>\n",
       "    <tr>\n",
       "      <th>d</th>\n",
       "      <td>0.499918</td>\n",
       "      <td>-0.919483</td>\n",
       "      <td>1.360061</td>\n",
       "      <td>1.198081</td>\n",
       "      <td>0.787715</td>\n",
       "    </tr>\n",
       "    <tr>\n",
       "      <th>e</th>\n",
       "      <td>-0.511595</td>\n",
       "      <td>1.156419</td>\n",
       "      <td>1.442561</td>\n",
       "      <td>0.555625</td>\n",
       "      <td>-1.091448</td>\n",
       "    </tr>\n",
       "  </tbody>\n",
       "</table>\n",
       "</div>"
      ],
      "text/plain": [
       "          0         1         2         4         5\n",
       "a -1.413760  0.655396  0.778566 -0.719104 -1.901392\n",
       "b  1.676194 -0.514657 -0.535633 -0.142100  0.032151\n",
       "c  0.685473 -1.174357  0.513260 -0.355050  1.238157\n",
       "d  0.499918 -0.919483  1.360061  1.198081  0.787715\n",
       "e -0.511595  1.156419  1.442561  0.555625 -1.091448"
      ]
     },
     "execution_count": 46,
     "metadata": {},
     "output_type": "execute_result"
    }
   ],
   "source": [
    "df1"
   ]
  },
  {
   "cell_type": "code",
   "execution_count": 47,
   "id": "7bdf2759",
   "metadata": {},
   "outputs": [
    {
     "data": {
      "text/html": [
       "<div>\n",
       "<style scoped>\n",
       "    .dataframe tbody tr th:only-of-type {\n",
       "        vertical-align: middle;\n",
       "    }\n",
       "\n",
       "    .dataframe tbody tr th {\n",
       "        vertical-align: top;\n",
       "    }\n",
       "\n",
       "    .dataframe thead th {\n",
       "        text-align: right;\n",
       "    }\n",
       "</style>\n",
       "<table border=\"1\" class=\"dataframe\">\n",
       "  <thead>\n",
       "    <tr style=\"text-align: right;\">\n",
       "      <th></th>\n",
       "      <th>0</th>\n",
       "      <th>1</th>\n",
       "      <th>2</th>\n",
       "      <th>4</th>\n",
       "      <th>5</th>\n",
       "    </tr>\n",
       "  </thead>\n",
       "  <tbody>\n",
       "    <tr>\n",
       "      <th>a</th>\n",
       "      <td>-1.413760</td>\n",
       "      <td>0.655396</td>\n",
       "      <td>0.778566</td>\n",
       "      <td>-0.719104</td>\n",
       "      <td>-1.901392</td>\n",
       "    </tr>\n",
       "    <tr>\n",
       "      <th>b</th>\n",
       "      <td>1.676194</td>\n",
       "      <td>-0.514657</td>\n",
       "      <td>-0.535633</td>\n",
       "      <td>-0.142100</td>\n",
       "      <td>0.032151</td>\n",
       "    </tr>\n",
       "    <tr>\n",
       "      <th>c</th>\n",
       "      <td>0.685473</td>\n",
       "      <td>-1.174357</td>\n",
       "      <td>0.513260</td>\n",
       "      <td>-0.355050</td>\n",
       "      <td>1.238157</td>\n",
       "    </tr>\n",
       "    <tr>\n",
       "      <th>d</th>\n",
       "      <td>0.499918</td>\n",
       "      <td>-0.919483</td>\n",
       "      <td>1.360061</td>\n",
       "      <td>1.198081</td>\n",
       "      <td>0.787715</td>\n",
       "    </tr>\n",
       "    <tr>\n",
       "      <th>e</th>\n",
       "      <td>-0.511595</td>\n",
       "      <td>1.156419</td>\n",
       "      <td>1.442561</td>\n",
       "      <td>0.555625</td>\n",
       "      <td>-1.091448</td>\n",
       "    </tr>\n",
       "  </tbody>\n",
       "</table>\n",
       "</div>"
      ],
      "text/plain": [
       "          0         1         2         4         5\n",
       "a -1.413760  0.655396  0.778566 -0.719104 -1.901392\n",
       "b  1.676194 -0.514657 -0.535633 -0.142100  0.032151\n",
       "c  0.685473 -1.174357  0.513260 -0.355050  1.238157\n",
       "d  0.499918 -0.919483  1.360061  1.198081  0.787715\n",
       "e -0.511595  1.156419  1.442561  0.555625 -1.091448"
      ]
     },
     "execution_count": 47,
     "metadata": {},
     "output_type": "execute_result"
    }
   ],
   "source": [
    "df1"
   ]
  },
  {
   "cell_type": "code",
   "execution_count": 48,
   "id": "cb48604b",
   "metadata": {},
   "outputs": [],
   "source": [
    "df1.drop([2],axis=1,inplace=True)"
   ]
  },
  {
   "cell_type": "code",
   "execution_count": 49,
   "id": "6fbe3414",
   "metadata": {},
   "outputs": [
    {
     "data": {
      "text/html": [
       "<div>\n",
       "<style scoped>\n",
       "    .dataframe tbody tr th:only-of-type {\n",
       "        vertical-align: middle;\n",
       "    }\n",
       "\n",
       "    .dataframe tbody tr th {\n",
       "        vertical-align: top;\n",
       "    }\n",
       "\n",
       "    .dataframe thead th {\n",
       "        text-align: right;\n",
       "    }\n",
       "</style>\n",
       "<table border=\"1\" class=\"dataframe\">\n",
       "  <thead>\n",
       "    <tr style=\"text-align: right;\">\n",
       "      <th></th>\n",
       "      <th>0</th>\n",
       "      <th>1</th>\n",
       "      <th>4</th>\n",
       "      <th>5</th>\n",
       "    </tr>\n",
       "  </thead>\n",
       "  <tbody>\n",
       "    <tr>\n",
       "      <th>a</th>\n",
       "      <td>-1.413760</td>\n",
       "      <td>0.655396</td>\n",
       "      <td>-0.719104</td>\n",
       "      <td>-1.901392</td>\n",
       "    </tr>\n",
       "    <tr>\n",
       "      <th>b</th>\n",
       "      <td>1.676194</td>\n",
       "      <td>-0.514657</td>\n",
       "      <td>-0.142100</td>\n",
       "      <td>0.032151</td>\n",
       "    </tr>\n",
       "    <tr>\n",
       "      <th>c</th>\n",
       "      <td>0.685473</td>\n",
       "      <td>-1.174357</td>\n",
       "      <td>-0.355050</td>\n",
       "      <td>1.238157</td>\n",
       "    </tr>\n",
       "    <tr>\n",
       "      <th>d</th>\n",
       "      <td>0.499918</td>\n",
       "      <td>-0.919483</td>\n",
       "      <td>1.198081</td>\n",
       "      <td>0.787715</td>\n",
       "    </tr>\n",
       "    <tr>\n",
       "      <th>e</th>\n",
       "      <td>-0.511595</td>\n",
       "      <td>1.156419</td>\n",
       "      <td>0.555625</td>\n",
       "      <td>-1.091448</td>\n",
       "    </tr>\n",
       "  </tbody>\n",
       "</table>\n",
       "</div>"
      ],
      "text/plain": [
       "          0         1         4         5\n",
       "a -1.413760  0.655396 -0.719104 -1.901392\n",
       "b  1.676194 -0.514657 -0.142100  0.032151\n",
       "c  0.685473 -1.174357 -0.355050  1.238157\n",
       "d  0.499918 -0.919483  1.198081  0.787715\n",
       "e -0.511595  1.156419  0.555625 -1.091448"
      ]
     },
     "execution_count": 49,
     "metadata": {},
     "output_type": "execute_result"
    }
   ],
   "source": [
    "df1"
   ]
  },
  {
   "cell_type": "code",
   "execution_count": 50,
   "id": "cb9b591d",
   "metadata": {},
   "outputs": [
    {
     "data": {
      "text/html": [
       "<div>\n",
       "<style scoped>\n",
       "    .dataframe tbody tr th:only-of-type {\n",
       "        vertical-align: middle;\n",
       "    }\n",
       "\n",
       "    .dataframe tbody tr th {\n",
       "        vertical-align: top;\n",
       "    }\n",
       "\n",
       "    .dataframe thead th {\n",
       "        text-align: right;\n",
       "    }\n",
       "</style>\n",
       "<table border=\"1\" class=\"dataframe\">\n",
       "  <thead>\n",
       "    <tr style=\"text-align: right;\">\n",
       "      <th></th>\n",
       "      <th>0</th>\n",
       "      <th>1</th>\n",
       "      <th>4</th>\n",
       "    </tr>\n",
       "  </thead>\n",
       "  <tbody>\n",
       "    <tr>\n",
       "      <th>a</th>\n",
       "      <td>-1.413760</td>\n",
       "      <td>0.655396</td>\n",
       "      <td>-0.719104</td>\n",
       "    </tr>\n",
       "    <tr>\n",
       "      <th>b</th>\n",
       "      <td>1.676194</td>\n",
       "      <td>-0.514657</td>\n",
       "      <td>-0.142100</td>\n",
       "    </tr>\n",
       "    <tr>\n",
       "      <th>c</th>\n",
       "      <td>0.685473</td>\n",
       "      <td>-1.174357</td>\n",
       "      <td>-0.355050</td>\n",
       "    </tr>\n",
       "    <tr>\n",
       "      <th>d</th>\n",
       "      <td>0.499918</td>\n",
       "      <td>-0.919483</td>\n",
       "      <td>1.198081</td>\n",
       "    </tr>\n",
       "    <tr>\n",
       "      <th>e</th>\n",
       "      <td>-0.511595</td>\n",
       "      <td>1.156419</td>\n",
       "      <td>0.555625</td>\n",
       "    </tr>\n",
       "  </tbody>\n",
       "</table>\n",
       "</div>"
      ],
      "text/plain": [
       "          0         1         4\n",
       "a -1.413760  0.655396 -0.719104\n",
       "b  1.676194 -0.514657 -0.142100\n",
       "c  0.685473 -1.174357 -0.355050\n",
       "d  0.499918 -0.919483  1.198081\n",
       "e -0.511595  1.156419  0.555625"
      ]
     },
     "execution_count": 50,
     "metadata": {},
     "output_type": "execute_result"
    }
   ],
   "source": [
    "df1.drop([5],axis=1)"
   ]
  },
  {
   "cell_type": "code",
   "execution_count": 51,
   "id": "ab1c42df",
   "metadata": {},
   "outputs": [
    {
     "data": {
      "text/html": [
       "<div>\n",
       "<style scoped>\n",
       "    .dataframe tbody tr th:only-of-type {\n",
       "        vertical-align: middle;\n",
       "    }\n",
       "\n",
       "    .dataframe tbody tr th {\n",
       "        vertical-align: top;\n",
       "    }\n",
       "\n",
       "    .dataframe thead th {\n",
       "        text-align: right;\n",
       "    }\n",
       "</style>\n",
       "<table border=\"1\" class=\"dataframe\">\n",
       "  <thead>\n",
       "    <tr style=\"text-align: right;\">\n",
       "      <th></th>\n",
       "      <th>0</th>\n",
       "      <th>1</th>\n",
       "      <th>4</th>\n",
       "      <th>5</th>\n",
       "    </tr>\n",
       "  </thead>\n",
       "  <tbody>\n",
       "    <tr>\n",
       "      <th>a</th>\n",
       "      <td>-1.413760</td>\n",
       "      <td>0.655396</td>\n",
       "      <td>-0.719104</td>\n",
       "      <td>-1.901392</td>\n",
       "    </tr>\n",
       "    <tr>\n",
       "      <th>b</th>\n",
       "      <td>1.676194</td>\n",
       "      <td>-0.514657</td>\n",
       "      <td>-0.142100</td>\n",
       "      <td>0.032151</td>\n",
       "    </tr>\n",
       "    <tr>\n",
       "      <th>c</th>\n",
       "      <td>0.685473</td>\n",
       "      <td>-1.174357</td>\n",
       "      <td>-0.355050</td>\n",
       "      <td>1.238157</td>\n",
       "    </tr>\n",
       "    <tr>\n",
       "      <th>d</th>\n",
       "      <td>0.499918</td>\n",
       "      <td>-0.919483</td>\n",
       "      <td>1.198081</td>\n",
       "      <td>0.787715</td>\n",
       "    </tr>\n",
       "    <tr>\n",
       "      <th>e</th>\n",
       "      <td>-0.511595</td>\n",
       "      <td>1.156419</td>\n",
       "      <td>0.555625</td>\n",
       "      <td>-1.091448</td>\n",
       "    </tr>\n",
       "  </tbody>\n",
       "</table>\n",
       "</div>"
      ],
      "text/plain": [
       "          0         1         4         5\n",
       "a -1.413760  0.655396 -0.719104 -1.901392\n",
       "b  1.676194 -0.514657 -0.142100  0.032151\n",
       "c  0.685473 -1.174357 -0.355050  1.238157\n",
       "d  0.499918 -0.919483  1.198081  0.787715\n",
       "e -0.511595  1.156419  0.555625 -1.091448"
      ]
     },
     "execution_count": 51,
     "metadata": {},
     "output_type": "execute_result"
    }
   ],
   "source": [
    "df1"
   ]
  },
  {
   "cell_type": "code",
   "execution_count": 52,
   "id": "09daf8db",
   "metadata": {},
   "outputs": [
    {
     "data": {
      "text/html": [
       "<div>\n",
       "<style scoped>\n",
       "    .dataframe tbody tr th:only-of-type {\n",
       "        vertical-align: middle;\n",
       "    }\n",
       "\n",
       "    .dataframe tbody tr th {\n",
       "        vertical-align: top;\n",
       "    }\n",
       "\n",
       "    .dataframe thead th {\n",
       "        text-align: right;\n",
       "    }\n",
       "</style>\n",
       "<table border=\"1\" class=\"dataframe\">\n",
       "  <thead>\n",
       "    <tr style=\"text-align: right;\">\n",
       "      <th></th>\n",
       "      <th>0</th>\n",
       "      <th>1</th>\n",
       "      <th>4</th>\n",
       "      <th>5</th>\n",
       "      <th>new name</th>\n",
       "    </tr>\n",
       "  </thead>\n",
       "  <tbody>\n",
       "    <tr>\n",
       "      <th>a</th>\n",
       "      <td>-1.413760</td>\n",
       "      <td>0.655396</td>\n",
       "      <td>-0.719104</td>\n",
       "      <td>-1.901392</td>\n",
       "      <td>f</td>\n",
       "    </tr>\n",
       "    <tr>\n",
       "      <th>b</th>\n",
       "      <td>1.676194</td>\n",
       "      <td>-0.514657</td>\n",
       "      <td>-0.142100</td>\n",
       "      <td>0.032151</td>\n",
       "      <td>u</td>\n",
       "    </tr>\n",
       "    <tr>\n",
       "      <th>c</th>\n",
       "      <td>0.685473</td>\n",
       "      <td>-1.174357</td>\n",
       "      <td>-0.355050</td>\n",
       "      <td>1.238157</td>\n",
       "      <td>c</td>\n",
       "    </tr>\n",
       "    <tr>\n",
       "      <th>d</th>\n",
       "      <td>0.499918</td>\n",
       "      <td>-0.919483</td>\n",
       "      <td>1.198081</td>\n",
       "      <td>0.787715</td>\n",
       "      <td>k</td>\n",
       "    </tr>\n",
       "    <tr>\n",
       "      <th>e</th>\n",
       "      <td>-0.511595</td>\n",
       "      <td>1.156419</td>\n",
       "      <td>0.555625</td>\n",
       "      <td>-1.091448</td>\n",
       "      <td>d</td>\n",
       "    </tr>\n",
       "  </tbody>\n",
       "</table>\n",
       "</div>"
      ],
      "text/plain": [
       "          0         1         4         5 new name\n",
       "a -1.413760  0.655396 -0.719104 -1.901392        f\n",
       "b  1.676194 -0.514657 -0.142100  0.032151        u\n",
       "c  0.685473 -1.174357 -0.355050  1.238157        c\n",
       "d  0.499918 -0.919483  1.198081  0.787715        k\n",
       "e -0.511595  1.156419  0.555625 -1.091448        d"
      ]
     },
     "execution_count": 52,
     "metadata": {},
     "output_type": "execute_result"
    }
   ],
   "source": [
    "df1['new name']=['f','u','c','k','d']\n",
    "df1"
   ]
  },
  {
   "cell_type": "code",
   "execution_count": 53,
   "id": "f25cfd60",
   "metadata": {},
   "outputs": [
    {
     "data": {
      "text/html": [
       "<div>\n",
       "<style scoped>\n",
       "    .dataframe tbody tr th:only-of-type {\n",
       "        vertical-align: middle;\n",
       "    }\n",
       "\n",
       "    .dataframe tbody tr th {\n",
       "        vertical-align: top;\n",
       "    }\n",
       "\n",
       "    .dataframe thead th {\n",
       "        text-align: right;\n",
       "    }\n",
       "</style>\n",
       "<table border=\"1\" class=\"dataframe\">\n",
       "  <thead>\n",
       "    <tr style=\"text-align: right;\">\n",
       "      <th></th>\n",
       "      <th>0</th>\n",
       "      <th>1</th>\n",
       "      <th>4</th>\n",
       "      <th>5</th>\n",
       "    </tr>\n",
       "    <tr>\n",
       "      <th>new name</th>\n",
       "      <th></th>\n",
       "      <th></th>\n",
       "      <th></th>\n",
       "      <th></th>\n",
       "    </tr>\n",
       "  </thead>\n",
       "  <tbody>\n",
       "    <tr>\n",
       "      <th>f</th>\n",
       "      <td>-1.413760</td>\n",
       "      <td>0.655396</td>\n",
       "      <td>-0.719104</td>\n",
       "      <td>-1.901392</td>\n",
       "    </tr>\n",
       "    <tr>\n",
       "      <th>u</th>\n",
       "      <td>1.676194</td>\n",
       "      <td>-0.514657</td>\n",
       "      <td>-0.142100</td>\n",
       "      <td>0.032151</td>\n",
       "    </tr>\n",
       "    <tr>\n",
       "      <th>c</th>\n",
       "      <td>0.685473</td>\n",
       "      <td>-1.174357</td>\n",
       "      <td>-0.355050</td>\n",
       "      <td>1.238157</td>\n",
       "    </tr>\n",
       "    <tr>\n",
       "      <th>k</th>\n",
       "      <td>0.499918</td>\n",
       "      <td>-0.919483</td>\n",
       "      <td>1.198081</td>\n",
       "      <td>0.787715</td>\n",
       "    </tr>\n",
       "    <tr>\n",
       "      <th>d</th>\n",
       "      <td>-0.511595</td>\n",
       "      <td>1.156419</td>\n",
       "      <td>0.555625</td>\n",
       "      <td>-1.091448</td>\n",
       "    </tr>\n",
       "  </tbody>\n",
       "</table>\n",
       "</div>"
      ],
      "text/plain": [
       "                 0         1         4         5\n",
       "new name                                        \n",
       "f        -1.413760  0.655396 -0.719104 -1.901392\n",
       "u         1.676194 -0.514657 -0.142100  0.032151\n",
       "c         0.685473 -1.174357 -0.355050  1.238157\n",
       "k         0.499918 -0.919483  1.198081  0.787715\n",
       "d        -0.511595  1.156419  0.555625 -1.091448"
      ]
     },
     "execution_count": 53,
     "metadata": {},
     "output_type": "execute_result"
    }
   ],
   "source": [
    "df1.set_index('new name')"
   ]
  },
  {
   "cell_type": "code",
   "execution_count": 54,
   "id": "2998b1b2",
   "metadata": {},
   "outputs": [],
   "source": [
    "df1.drop(['new name'],axis=1,inplace=True)"
   ]
  },
  {
   "cell_type": "code",
   "execution_count": 55,
   "id": "4d5c894a",
   "metadata": {},
   "outputs": [
    {
     "data": {
      "text/html": [
       "<div>\n",
       "<style scoped>\n",
       "    .dataframe tbody tr th:only-of-type {\n",
       "        vertical-align: middle;\n",
       "    }\n",
       "\n",
       "    .dataframe tbody tr th {\n",
       "        vertical-align: top;\n",
       "    }\n",
       "\n",
       "    .dataframe thead th {\n",
       "        text-align: right;\n",
       "    }\n",
       "</style>\n",
       "<table border=\"1\" class=\"dataframe\">\n",
       "  <thead>\n",
       "    <tr style=\"text-align: right;\">\n",
       "      <th></th>\n",
       "      <th>0</th>\n",
       "      <th>1</th>\n",
       "      <th>4</th>\n",
       "      <th>5</th>\n",
       "    </tr>\n",
       "  </thead>\n",
       "  <tbody>\n",
       "    <tr>\n",
       "      <th>a</th>\n",
       "      <td>-1.413760</td>\n",
       "      <td>0.655396</td>\n",
       "      <td>-0.719104</td>\n",
       "      <td>-1.901392</td>\n",
       "    </tr>\n",
       "    <tr>\n",
       "      <th>b</th>\n",
       "      <td>1.676194</td>\n",
       "      <td>-0.514657</td>\n",
       "      <td>-0.142100</td>\n",
       "      <td>0.032151</td>\n",
       "    </tr>\n",
       "    <tr>\n",
       "      <th>c</th>\n",
       "      <td>0.685473</td>\n",
       "      <td>-1.174357</td>\n",
       "      <td>-0.355050</td>\n",
       "      <td>1.238157</td>\n",
       "    </tr>\n",
       "    <tr>\n",
       "      <th>d</th>\n",
       "      <td>0.499918</td>\n",
       "      <td>-0.919483</td>\n",
       "      <td>1.198081</td>\n",
       "      <td>0.787715</td>\n",
       "    </tr>\n",
       "    <tr>\n",
       "      <th>e</th>\n",
       "      <td>-0.511595</td>\n",
       "      <td>1.156419</td>\n",
       "      <td>0.555625</td>\n",
       "      <td>-1.091448</td>\n",
       "    </tr>\n",
       "  </tbody>\n",
       "</table>\n",
       "</div>"
      ],
      "text/plain": [
       "          0         1         4         5\n",
       "a -1.413760  0.655396 -0.719104 -1.901392\n",
       "b  1.676194 -0.514657 -0.142100  0.032151\n",
       "c  0.685473 -1.174357 -0.355050  1.238157\n",
       "d  0.499918 -0.919483  1.198081  0.787715\n",
       "e -0.511595  1.156419  0.555625 -1.091448"
      ]
     },
     "execution_count": 55,
     "metadata": {},
     "output_type": "execute_result"
    }
   ],
   "source": [
    "df1"
   ]
  },
  {
   "cell_type": "code",
   "execution_count": 56,
   "id": "d9feffdf",
   "metadata": {},
   "outputs": [
    {
     "data": {
      "text/plain": [
       "a    False\n",
       "b    False\n",
       "c    False\n",
       "d    False\n",
       "e    False\n",
       "Name: 1, dtype: bool"
      ]
     },
     "execution_count": 56,
     "metadata": {},
     "output_type": "execute_result"
    }
   ],
   "source": [
    "df1[1].isnull()"
   ]
  },
  {
   "cell_type": "code",
   "execution_count": 57,
   "id": "025ad012",
   "metadata": {},
   "outputs": [],
   "source": [
    "df1[1]=None"
   ]
  },
  {
   "cell_type": "code",
   "execution_count": 58,
   "id": "04d9381f",
   "metadata": {},
   "outputs": [
    {
     "data": {
      "text/html": [
       "<div>\n",
       "<style scoped>\n",
       "    .dataframe tbody tr th:only-of-type {\n",
       "        vertical-align: middle;\n",
       "    }\n",
       "\n",
       "    .dataframe tbody tr th {\n",
       "        vertical-align: top;\n",
       "    }\n",
       "\n",
       "    .dataframe thead th {\n",
       "        text-align: right;\n",
       "    }\n",
       "</style>\n",
       "<table border=\"1\" class=\"dataframe\">\n",
       "  <thead>\n",
       "    <tr style=\"text-align: right;\">\n",
       "      <th></th>\n",
       "      <th>0</th>\n",
       "      <th>1</th>\n",
       "      <th>4</th>\n",
       "      <th>5</th>\n",
       "    </tr>\n",
       "  </thead>\n",
       "  <tbody>\n",
       "    <tr>\n",
       "      <th>a</th>\n",
       "      <td>-1.413760</td>\n",
       "      <td>None</td>\n",
       "      <td>-0.719104</td>\n",
       "      <td>-1.901392</td>\n",
       "    </tr>\n",
       "    <tr>\n",
       "      <th>b</th>\n",
       "      <td>1.676194</td>\n",
       "      <td>None</td>\n",
       "      <td>-0.142100</td>\n",
       "      <td>0.032151</td>\n",
       "    </tr>\n",
       "    <tr>\n",
       "      <th>c</th>\n",
       "      <td>0.685473</td>\n",
       "      <td>None</td>\n",
       "      <td>-0.355050</td>\n",
       "      <td>1.238157</td>\n",
       "    </tr>\n",
       "    <tr>\n",
       "      <th>d</th>\n",
       "      <td>0.499918</td>\n",
       "      <td>None</td>\n",
       "      <td>1.198081</td>\n",
       "      <td>0.787715</td>\n",
       "    </tr>\n",
       "    <tr>\n",
       "      <th>e</th>\n",
       "      <td>-0.511595</td>\n",
       "      <td>None</td>\n",
       "      <td>0.555625</td>\n",
       "      <td>-1.091448</td>\n",
       "    </tr>\n",
       "  </tbody>\n",
       "</table>\n",
       "</div>"
      ],
      "text/plain": [
       "          0     1         4         5\n",
       "a -1.413760  None -0.719104 -1.901392\n",
       "b  1.676194  None -0.142100  0.032151\n",
       "c  0.685473  None -0.355050  1.238157\n",
       "d  0.499918  None  1.198081  0.787715\n",
       "e -0.511595  None  0.555625 -1.091448"
      ]
     },
     "execution_count": 58,
     "metadata": {},
     "output_type": "execute_result"
    }
   ],
   "source": [
    "df1"
   ]
  },
  {
   "cell_type": "code",
   "execution_count": 59,
   "id": "3afc86eb",
   "metadata": {},
   "outputs": [
    {
     "data": {
      "text/plain": [
       "a    True\n",
       "b    True\n",
       "c    True\n",
       "d    True\n",
       "e    True\n",
       "Name: 1, dtype: bool"
      ]
     },
     "execution_count": 59,
     "metadata": {},
     "output_type": "execute_result"
    }
   ],
   "source": [
    "df1[1].isnull()"
   ]
  },
  {
   "cell_type": "code",
   "execution_count": 60,
   "id": "48dae639",
   "metadata": {},
   "outputs": [],
   "source": [
    "newdf = pd.DataFrame(np.random.rand(334,5), index= np.arange(334))"
   ]
  },
  {
   "cell_type": "code",
   "execution_count": 61,
   "id": "7f16d5c9",
   "metadata": {},
   "outputs": [
    {
     "data": {
      "text/html": [
       "<div>\n",
       "<style scoped>\n",
       "    .dataframe tbody tr th:only-of-type {\n",
       "        vertical-align: middle;\n",
       "    }\n",
       "\n",
       "    .dataframe tbody tr th {\n",
       "        vertical-align: top;\n",
       "    }\n",
       "\n",
       "    .dataframe thead th {\n",
       "        text-align: right;\n",
       "    }\n",
       "</style>\n",
       "<table border=\"1\" class=\"dataframe\">\n",
       "  <thead>\n",
       "    <tr style=\"text-align: right;\">\n",
       "      <th></th>\n",
       "      <th>0</th>\n",
       "      <th>1</th>\n",
       "      <th>2</th>\n",
       "      <th>3</th>\n",
       "      <th>4</th>\n",
       "    </tr>\n",
       "  </thead>\n",
       "  <tbody>\n",
       "    <tr>\n",
       "      <th>0</th>\n",
       "      <td>0.047412</td>\n",
       "      <td>0.042080</td>\n",
       "      <td>0.444732</td>\n",
       "      <td>0.385266</td>\n",
       "      <td>0.309086</td>\n",
       "    </tr>\n",
       "    <tr>\n",
       "      <th>1</th>\n",
       "      <td>0.578228</td>\n",
       "      <td>0.294116</td>\n",
       "      <td>0.446793</td>\n",
       "      <td>0.398599</td>\n",
       "      <td>0.556503</td>\n",
       "    </tr>\n",
       "    <tr>\n",
       "      <th>2</th>\n",
       "      <td>0.408294</td>\n",
       "      <td>0.158106</td>\n",
       "      <td>0.160020</td>\n",
       "      <td>0.209460</td>\n",
       "      <td>0.396158</td>\n",
       "    </tr>\n",
       "    <tr>\n",
       "      <th>3</th>\n",
       "      <td>0.139203</td>\n",
       "      <td>0.712305</td>\n",
       "      <td>0.689086</td>\n",
       "      <td>0.955482</td>\n",
       "      <td>0.957433</td>\n",
       "    </tr>\n",
       "    <tr>\n",
       "      <th>4</th>\n",
       "      <td>0.121348</td>\n",
       "      <td>0.625283</td>\n",
       "      <td>0.325383</td>\n",
       "      <td>0.178638</td>\n",
       "      <td>0.753133</td>\n",
       "    </tr>\n",
       "  </tbody>\n",
       "</table>\n",
       "</div>"
      ],
      "text/plain": [
       "          0         1         2         3         4\n",
       "0  0.047412  0.042080  0.444732  0.385266  0.309086\n",
       "1  0.578228  0.294116  0.446793  0.398599  0.556503\n",
       "2  0.408294  0.158106  0.160020  0.209460  0.396158\n",
       "3  0.139203  0.712305  0.689086  0.955482  0.957433\n",
       "4  0.121348  0.625283  0.325383  0.178638  0.753133"
      ]
     },
     "execution_count": 61,
     "metadata": {},
     "output_type": "execute_result"
    }
   ],
   "source": [
    "newdf.head()"
   ]
  },
  {
   "cell_type": "code",
   "execution_count": 62,
   "id": "3650b631",
   "metadata": {},
   "outputs": [
    {
     "data": {
      "text/html": [
       "<div>\n",
       "<style scoped>\n",
       "    .dataframe tbody tr th:only-of-type {\n",
       "        vertical-align: middle;\n",
       "    }\n",
       "\n",
       "    .dataframe tbody tr th {\n",
       "        vertical-align: top;\n",
       "    }\n",
       "\n",
       "    .dataframe thead th {\n",
       "        text-align: right;\n",
       "    }\n",
       "</style>\n",
       "<table border=\"1\" class=\"dataframe\">\n",
       "  <thead>\n",
       "    <tr style=\"text-align: right;\">\n",
       "      <th></th>\n",
       "      <th>0</th>\n",
       "      <th>1</th>\n",
       "      <th>2</th>\n",
       "      <th>3</th>\n",
       "      <th>4</th>\n",
       "    </tr>\n",
       "  </thead>\n",
       "  <tbody>\n",
       "    <tr>\n",
       "      <th>0</th>\n",
       "      <td>0.047412</td>\n",
       "      <td>0.042080</td>\n",
       "      <td>0.444732</td>\n",
       "      <td>0.385266</td>\n",
       "      <td>0.309086</td>\n",
       "    </tr>\n",
       "    <tr>\n",
       "      <th>1</th>\n",
       "      <td>0.578228</td>\n",
       "      <td>0.294116</td>\n",
       "      <td>0.446793</td>\n",
       "      <td>0.398599</td>\n",
       "      <td>0.556503</td>\n",
       "    </tr>\n",
       "    <tr>\n",
       "      <th>2</th>\n",
       "      <td>0.408294</td>\n",
       "      <td>0.158106</td>\n",
       "      <td>0.160020</td>\n",
       "      <td>0.209460</td>\n",
       "      <td>0.396158</td>\n",
       "    </tr>\n",
       "    <tr>\n",
       "      <th>3</th>\n",
       "      <td>0.139203</td>\n",
       "      <td>0.712305</td>\n",
       "      <td>0.689086</td>\n",
       "      <td>0.955482</td>\n",
       "      <td>0.957433</td>\n",
       "    </tr>\n",
       "    <tr>\n",
       "      <th>4</th>\n",
       "      <td>0.121348</td>\n",
       "      <td>0.625283</td>\n",
       "      <td>0.325383</td>\n",
       "      <td>0.178638</td>\n",
       "      <td>0.753133</td>\n",
       "    </tr>\n",
       "    <tr>\n",
       "      <th>...</th>\n",
       "      <td>...</td>\n",
       "      <td>...</td>\n",
       "      <td>...</td>\n",
       "      <td>...</td>\n",
       "      <td>...</td>\n",
       "    </tr>\n",
       "    <tr>\n",
       "      <th>329</th>\n",
       "      <td>0.991446</td>\n",
       "      <td>0.387833</td>\n",
       "      <td>0.612497</td>\n",
       "      <td>0.655558</td>\n",
       "      <td>0.441475</td>\n",
       "    </tr>\n",
       "    <tr>\n",
       "      <th>330</th>\n",
       "      <td>0.804842</td>\n",
       "      <td>0.292788</td>\n",
       "      <td>0.255788</td>\n",
       "      <td>0.209517</td>\n",
       "      <td>0.428905</td>\n",
       "    </tr>\n",
       "    <tr>\n",
       "      <th>331</th>\n",
       "      <td>0.814328</td>\n",
       "      <td>0.197922</td>\n",
       "      <td>0.009912</td>\n",
       "      <td>0.468225</td>\n",
       "      <td>0.660376</td>\n",
       "    </tr>\n",
       "    <tr>\n",
       "      <th>332</th>\n",
       "      <td>0.018689</td>\n",
       "      <td>0.988615</td>\n",
       "      <td>0.818009</td>\n",
       "      <td>0.071101</td>\n",
       "      <td>0.534218</td>\n",
       "    </tr>\n",
       "    <tr>\n",
       "      <th>333</th>\n",
       "      <td>0.619869</td>\n",
       "      <td>0.665627</td>\n",
       "      <td>0.233857</td>\n",
       "      <td>0.009739</td>\n",
       "      <td>0.919575</td>\n",
       "    </tr>\n",
       "  </tbody>\n",
       "</table>\n",
       "<p>334 rows × 5 columns</p>\n",
       "</div>"
      ],
      "text/plain": [
       "            0         1         2         3         4\n",
       "0    0.047412  0.042080  0.444732  0.385266  0.309086\n",
       "1    0.578228  0.294116  0.446793  0.398599  0.556503\n",
       "2    0.408294  0.158106  0.160020  0.209460  0.396158\n",
       "3    0.139203  0.712305  0.689086  0.955482  0.957433\n",
       "4    0.121348  0.625283  0.325383  0.178638  0.753133\n",
       "..        ...       ...       ...       ...       ...\n",
       "329  0.991446  0.387833  0.612497  0.655558  0.441475\n",
       "330  0.804842  0.292788  0.255788  0.209517  0.428905\n",
       "331  0.814328  0.197922  0.009912  0.468225  0.660376\n",
       "332  0.018689  0.988615  0.818009  0.071101  0.534218\n",
       "333  0.619869  0.665627  0.233857  0.009739  0.919575\n",
       "\n",
       "[334 rows x 5 columns]"
      ]
     },
     "execution_count": 62,
     "metadata": {},
     "output_type": "execute_result"
    }
   ],
   "source": [
    "newdf"
   ]
  },
  {
   "cell_type": "code",
   "execution_count": 63,
   "id": "d7248355",
   "metadata": {},
   "outputs": [
    {
     "data": {
      "text/plain": [
       "pandas.core.frame.DataFrame"
      ]
     },
     "execution_count": 63,
     "metadata": {},
     "output_type": "execute_result"
    }
   ],
   "source": [
    "type(newdf)"
   ]
  },
  {
   "cell_type": "code",
   "execution_count": 64,
   "id": "6eb0ca96",
   "metadata": {},
   "outputs": [
    {
     "data": {
      "text/html": [
       "<div>\n",
       "<style scoped>\n",
       "    .dataframe tbody tr th:only-of-type {\n",
       "        vertical-align: middle;\n",
       "    }\n",
       "\n",
       "    .dataframe tbody tr th {\n",
       "        vertical-align: top;\n",
       "    }\n",
       "\n",
       "    .dataframe thead th {\n",
       "        text-align: right;\n",
       "    }\n",
       "</style>\n",
       "<table border=\"1\" class=\"dataframe\">\n",
       "  <thead>\n",
       "    <tr style=\"text-align: right;\">\n",
       "      <th></th>\n",
       "      <th>0</th>\n",
       "      <th>1</th>\n",
       "      <th>2</th>\n",
       "      <th>3</th>\n",
       "      <th>4</th>\n",
       "    </tr>\n",
       "  </thead>\n",
       "  <tbody>\n",
       "    <tr>\n",
       "      <th>count</th>\n",
       "      <td>334.000000</td>\n",
       "      <td>334.000000</td>\n",
       "      <td>334.000000</td>\n",
       "      <td>334.000000</td>\n",
       "      <td>334.000000</td>\n",
       "    </tr>\n",
       "    <tr>\n",
       "      <th>mean</th>\n",
       "      <td>0.489978</td>\n",
       "      <td>0.466831</td>\n",
       "      <td>0.518662</td>\n",
       "      <td>0.504561</td>\n",
       "      <td>0.505803</td>\n",
       "    </tr>\n",
       "    <tr>\n",
       "      <th>std</th>\n",
       "      <td>0.285798</td>\n",
       "      <td>0.297393</td>\n",
       "      <td>0.278417</td>\n",
       "      <td>0.290094</td>\n",
       "      <td>0.294248</td>\n",
       "    </tr>\n",
       "    <tr>\n",
       "      <th>min</th>\n",
       "      <td>0.000448</td>\n",
       "      <td>0.002011</td>\n",
       "      <td>0.003422</td>\n",
       "      <td>0.003653</td>\n",
       "      <td>0.002737</td>\n",
       "    </tr>\n",
       "    <tr>\n",
       "      <th>25%</th>\n",
       "      <td>0.239132</td>\n",
       "      <td>0.199274</td>\n",
       "      <td>0.290639</td>\n",
       "      <td>0.246970</td>\n",
       "      <td>0.230311</td>\n",
       "    </tr>\n",
       "    <tr>\n",
       "      <th>50%</th>\n",
       "      <td>0.496242</td>\n",
       "      <td>0.433712</td>\n",
       "      <td>0.525563</td>\n",
       "      <td>0.494085</td>\n",
       "      <td>0.531514</td>\n",
       "    </tr>\n",
       "    <tr>\n",
       "      <th>75%</th>\n",
       "      <td>0.732084</td>\n",
       "      <td>0.729172</td>\n",
       "      <td>0.734273</td>\n",
       "      <td>0.741746</td>\n",
       "      <td>0.753001</td>\n",
       "    </tr>\n",
       "    <tr>\n",
       "      <th>max</th>\n",
       "      <td>0.999993</td>\n",
       "      <td>0.995634</td>\n",
       "      <td>0.999326</td>\n",
       "      <td>0.999910</td>\n",
       "      <td>0.994758</td>\n",
       "    </tr>\n",
       "  </tbody>\n",
       "</table>\n",
       "</div>"
      ],
      "text/plain": [
       "                0           1           2           3           4\n",
       "count  334.000000  334.000000  334.000000  334.000000  334.000000\n",
       "mean     0.489978    0.466831    0.518662    0.504561    0.505803\n",
       "std      0.285798    0.297393    0.278417    0.290094    0.294248\n",
       "min      0.000448    0.002011    0.003422    0.003653    0.002737\n",
       "25%      0.239132    0.199274    0.290639    0.246970    0.230311\n",
       "50%      0.496242    0.433712    0.525563    0.494085    0.531514\n",
       "75%      0.732084    0.729172    0.734273    0.741746    0.753001\n",
       "max      0.999993    0.995634    0.999326    0.999910    0.994758"
      ]
     },
     "execution_count": 64,
     "metadata": {},
     "output_type": "execute_result"
    }
   ],
   "source": [
    "newdf.describe()"
   ]
  },
  {
   "cell_type": "code",
   "execution_count": 65,
   "id": "3c9f345e",
   "metadata": {},
   "outputs": [
    {
     "data": {
      "text/plain": [
       "0    float64\n",
       "1    float64\n",
       "2    float64\n",
       "3    float64\n",
       "4    float64\n",
       "dtype: object"
      ]
     },
     "execution_count": 65,
     "metadata": {},
     "output_type": "execute_result"
    }
   ],
   "source": [
    "newdf.dtypes"
   ]
  },
  {
   "cell_type": "code",
   "execution_count": 66,
   "id": "f29ad001",
   "metadata": {},
   "outputs": [],
   "source": [
    "newdf[0][0]=\"D\""
   ]
  },
  {
   "cell_type": "code",
   "execution_count": 67,
   "id": "a99cd0e4",
   "metadata": {},
   "outputs": [
    {
     "data": {
      "text/plain": [
       "0             D\n",
       "1      0.578228\n",
       "2      0.408294\n",
       "3      0.139203\n",
       "4      0.121348\n",
       "         ...   \n",
       "329    0.991446\n",
       "330    0.804842\n",
       "331    0.814328\n",
       "332    0.018689\n",
       "333    0.619869\n",
       "Name: 0, Length: 334, dtype: object"
      ]
     },
     "execution_count": 67,
     "metadata": {},
     "output_type": "execute_result"
    }
   ],
   "source": [
    "newdf[0]"
   ]
  },
  {
   "cell_type": "code",
   "execution_count": 68,
   "id": "8b492bce",
   "metadata": {},
   "outputs": [
    {
     "data": {
      "text/plain": [
       "0     object\n",
       "1    float64\n",
       "2    float64\n",
       "3    float64\n",
       "4    float64\n",
       "dtype: object"
      ]
     },
     "execution_count": 68,
     "metadata": {},
     "output_type": "execute_result"
    }
   ],
   "source": [
    "newdf.dtypes"
   ]
  },
  {
   "cell_type": "code",
   "execution_count": 69,
   "id": "128fbd62",
   "metadata": {},
   "outputs": [
    {
     "data": {
      "text/plain": [
       "Int64Index([  0,   1,   2,   3,   4,   5,   6,   7,   8,   9,\n",
       "            ...\n",
       "            324, 325, 326, 327, 328, 329, 330, 331, 332, 333],\n",
       "           dtype='int64', length=334)"
      ]
     },
     "execution_count": 69,
     "metadata": {},
     "output_type": "execute_result"
    }
   ],
   "source": [
    "newdf.index"
   ]
  },
  {
   "cell_type": "code",
   "execution_count": 70,
   "id": "44daa966",
   "metadata": {},
   "outputs": [
    {
     "data": {
      "text/plain": [
       "RangeIndex(start=0, stop=5, step=1)"
      ]
     },
     "execution_count": 70,
     "metadata": {},
     "output_type": "execute_result"
    }
   ],
   "source": [
    "newdf.columns"
   ]
  },
  {
   "cell_type": "code",
   "execution_count": 71,
   "id": "d04e2388",
   "metadata": {},
   "outputs": [
    {
     "data": {
      "text/plain": [
       "<bound method DataFrame.to_numpy of             0         1         2         3         4\n",
       "0           D  0.042080  0.444732  0.385266  0.309086\n",
       "1    0.578228  0.294116  0.446793  0.398599  0.556503\n",
       "2    0.408294  0.158106  0.160020  0.209460  0.396158\n",
       "3    0.139203  0.712305  0.689086  0.955482  0.957433\n",
       "4    0.121348  0.625283  0.325383  0.178638  0.753133\n",
       "..        ...       ...       ...       ...       ...\n",
       "329  0.991446  0.387833  0.612497  0.655558  0.441475\n",
       "330  0.804842  0.292788  0.255788  0.209517  0.428905\n",
       "331  0.814328  0.197922  0.009912  0.468225  0.660376\n",
       "332  0.018689  0.988615  0.818009  0.071101  0.534218\n",
       "333  0.619869  0.665627  0.233857  0.009739  0.919575\n",
       "\n",
       "[334 rows x 5 columns]>"
      ]
     },
     "execution_count": 71,
     "metadata": {},
     "output_type": "execute_result"
    }
   ],
   "source": [
    "newdf.to_numpy"
   ]
  },
  {
   "cell_type": "code",
   "execution_count": 72,
   "id": "932de724",
   "metadata": {},
   "outputs": [],
   "source": [
    "newdf[0][0]=0.46"
   ]
  },
  {
   "cell_type": "code",
   "execution_count": 73,
   "id": "4386830e",
   "metadata": {},
   "outputs": [
    {
     "data": {
      "text/html": [
       "<div>\n",
       "<style scoped>\n",
       "    .dataframe tbody tr th:only-of-type {\n",
       "        vertical-align: middle;\n",
       "    }\n",
       "\n",
       "    .dataframe tbody tr th {\n",
       "        vertical-align: top;\n",
       "    }\n",
       "\n",
       "    .dataframe thead th {\n",
       "        text-align: right;\n",
       "    }\n",
       "</style>\n",
       "<table border=\"1\" class=\"dataframe\">\n",
       "  <thead>\n",
       "    <tr style=\"text-align: right;\">\n",
       "      <th></th>\n",
       "      <th>0</th>\n",
       "      <th>1</th>\n",
       "      <th>2</th>\n",
       "      <th>3</th>\n",
       "      <th>4</th>\n",
       "    </tr>\n",
       "  </thead>\n",
       "  <tbody>\n",
       "    <tr>\n",
       "      <th>0</th>\n",
       "      <td>0.46</td>\n",
       "      <td>0.042080</td>\n",
       "      <td>0.444732</td>\n",
       "      <td>0.385266</td>\n",
       "      <td>0.309086</td>\n",
       "    </tr>\n",
       "    <tr>\n",
       "      <th>1</th>\n",
       "      <td>0.578228</td>\n",
       "      <td>0.294116</td>\n",
       "      <td>0.446793</td>\n",
       "      <td>0.398599</td>\n",
       "      <td>0.556503</td>\n",
       "    </tr>\n",
       "    <tr>\n",
       "      <th>2</th>\n",
       "      <td>0.408294</td>\n",
       "      <td>0.158106</td>\n",
       "      <td>0.160020</td>\n",
       "      <td>0.209460</td>\n",
       "      <td>0.396158</td>\n",
       "    </tr>\n",
       "    <tr>\n",
       "      <th>3</th>\n",
       "      <td>0.139203</td>\n",
       "      <td>0.712305</td>\n",
       "      <td>0.689086</td>\n",
       "      <td>0.955482</td>\n",
       "      <td>0.957433</td>\n",
       "    </tr>\n",
       "    <tr>\n",
       "      <th>4</th>\n",
       "      <td>0.121348</td>\n",
       "      <td>0.625283</td>\n",
       "      <td>0.325383</td>\n",
       "      <td>0.178638</td>\n",
       "      <td>0.753133</td>\n",
       "    </tr>\n",
       "  </tbody>\n",
       "</table>\n",
       "</div>"
      ],
      "text/plain": [
       "          0         1         2         3         4\n",
       "0      0.46  0.042080  0.444732  0.385266  0.309086\n",
       "1  0.578228  0.294116  0.446793  0.398599  0.556503\n",
       "2  0.408294  0.158106  0.160020  0.209460  0.396158\n",
       "3  0.139203  0.712305  0.689086  0.955482  0.957433\n",
       "4  0.121348  0.625283  0.325383  0.178638  0.753133"
      ]
     },
     "execution_count": 73,
     "metadata": {},
     "output_type": "execute_result"
    }
   ],
   "source": [
    "newdf.head()"
   ]
  },
  {
   "cell_type": "code",
   "execution_count": 74,
   "id": "fa576ae9",
   "metadata": {},
   "outputs": [
    {
     "data": {
      "text/html": [
       "<div>\n",
       "<style scoped>\n",
       "    .dataframe tbody tr th:only-of-type {\n",
       "        vertical-align: middle;\n",
       "    }\n",
       "\n",
       "    .dataframe tbody tr th {\n",
       "        vertical-align: top;\n",
       "    }\n",
       "\n",
       "    .dataframe thead th {\n",
       "        text-align: right;\n",
       "    }\n",
       "</style>\n",
       "<table border=\"1\" class=\"dataframe\">\n",
       "  <thead>\n",
       "    <tr style=\"text-align: right;\">\n",
       "      <th></th>\n",
       "      <th>0</th>\n",
       "      <th>1</th>\n",
       "      <th>2</th>\n",
       "      <th>3</th>\n",
       "      <th>4</th>\n",
       "    </tr>\n",
       "  </thead>\n",
       "  <tbody>\n",
       "    <tr>\n",
       "      <th>333</th>\n",
       "      <td>0.619869</td>\n",
       "      <td>0.665627</td>\n",
       "      <td>0.233857</td>\n",
       "      <td>0.009739</td>\n",
       "      <td>0.919575</td>\n",
       "    </tr>\n",
       "    <tr>\n",
       "      <th>332</th>\n",
       "      <td>0.018689</td>\n",
       "      <td>0.988615</td>\n",
       "      <td>0.818009</td>\n",
       "      <td>0.071101</td>\n",
       "      <td>0.534218</td>\n",
       "    </tr>\n",
       "    <tr>\n",
       "      <th>331</th>\n",
       "      <td>0.814328</td>\n",
       "      <td>0.197922</td>\n",
       "      <td>0.009912</td>\n",
       "      <td>0.468225</td>\n",
       "      <td>0.660376</td>\n",
       "    </tr>\n",
       "    <tr>\n",
       "      <th>330</th>\n",
       "      <td>0.804842</td>\n",
       "      <td>0.292788</td>\n",
       "      <td>0.255788</td>\n",
       "      <td>0.209517</td>\n",
       "      <td>0.428905</td>\n",
       "    </tr>\n",
       "    <tr>\n",
       "      <th>329</th>\n",
       "      <td>0.991446</td>\n",
       "      <td>0.387833</td>\n",
       "      <td>0.612497</td>\n",
       "      <td>0.655558</td>\n",
       "      <td>0.441475</td>\n",
       "    </tr>\n",
       "    <tr>\n",
       "      <th>...</th>\n",
       "      <td>...</td>\n",
       "      <td>...</td>\n",
       "      <td>...</td>\n",
       "      <td>...</td>\n",
       "      <td>...</td>\n",
       "    </tr>\n",
       "    <tr>\n",
       "      <th>4</th>\n",
       "      <td>0.121348</td>\n",
       "      <td>0.625283</td>\n",
       "      <td>0.325383</td>\n",
       "      <td>0.178638</td>\n",
       "      <td>0.753133</td>\n",
       "    </tr>\n",
       "    <tr>\n",
       "      <th>3</th>\n",
       "      <td>0.139203</td>\n",
       "      <td>0.712305</td>\n",
       "      <td>0.689086</td>\n",
       "      <td>0.955482</td>\n",
       "      <td>0.957433</td>\n",
       "    </tr>\n",
       "    <tr>\n",
       "      <th>2</th>\n",
       "      <td>0.408294</td>\n",
       "      <td>0.158106</td>\n",
       "      <td>0.160020</td>\n",
       "      <td>0.209460</td>\n",
       "      <td>0.396158</td>\n",
       "    </tr>\n",
       "    <tr>\n",
       "      <th>1</th>\n",
       "      <td>0.578228</td>\n",
       "      <td>0.294116</td>\n",
       "      <td>0.446793</td>\n",
       "      <td>0.398599</td>\n",
       "      <td>0.556503</td>\n",
       "    </tr>\n",
       "    <tr>\n",
       "      <th>0</th>\n",
       "      <td>0.46</td>\n",
       "      <td>0.042080</td>\n",
       "      <td>0.444732</td>\n",
       "      <td>0.385266</td>\n",
       "      <td>0.309086</td>\n",
       "    </tr>\n",
       "  </tbody>\n",
       "</table>\n",
       "<p>334 rows × 5 columns</p>\n",
       "</div>"
      ],
      "text/plain": [
       "            0         1         2         3         4\n",
       "333  0.619869  0.665627  0.233857  0.009739  0.919575\n",
       "332  0.018689  0.988615  0.818009  0.071101  0.534218\n",
       "331  0.814328  0.197922  0.009912  0.468225  0.660376\n",
       "330  0.804842  0.292788  0.255788  0.209517  0.428905\n",
       "329  0.991446  0.387833  0.612497  0.655558  0.441475\n",
       "..        ...       ...       ...       ...       ...\n",
       "4    0.121348  0.625283  0.325383  0.178638  0.753133\n",
       "3    0.139203  0.712305  0.689086  0.955482  0.957433\n",
       "2    0.408294  0.158106  0.160020  0.209460  0.396158\n",
       "1    0.578228  0.294116  0.446793  0.398599  0.556503\n",
       "0        0.46  0.042080  0.444732  0.385266  0.309086\n",
       "\n",
       "[334 rows x 5 columns]"
      ]
     },
     "execution_count": 74,
     "metadata": {},
     "output_type": "execute_result"
    }
   ],
   "source": [
    "newdf.sort_index(axis=0, ascending=False)"
   ]
  },
  {
   "cell_type": "code",
   "execution_count": 75,
   "id": "de0a3d2a",
   "metadata": {},
   "outputs": [
    {
     "data": {
      "text/html": [
       "<div>\n",
       "<style scoped>\n",
       "    .dataframe tbody tr th:only-of-type {\n",
       "        vertical-align: middle;\n",
       "    }\n",
       "\n",
       "    .dataframe tbody tr th {\n",
       "        vertical-align: top;\n",
       "    }\n",
       "\n",
       "    .dataframe thead th {\n",
       "        text-align: right;\n",
       "    }\n",
       "</style>\n",
       "<table border=\"1\" class=\"dataframe\">\n",
       "  <thead>\n",
       "    <tr style=\"text-align: right;\">\n",
       "      <th></th>\n",
       "      <th>4</th>\n",
       "      <th>3</th>\n",
       "      <th>2</th>\n",
       "      <th>1</th>\n",
       "      <th>0</th>\n",
       "    </tr>\n",
       "  </thead>\n",
       "  <tbody>\n",
       "    <tr>\n",
       "      <th>0</th>\n",
       "      <td>0.309086</td>\n",
       "      <td>0.385266</td>\n",
       "      <td>0.444732</td>\n",
       "      <td>0.042080</td>\n",
       "      <td>0.46</td>\n",
       "    </tr>\n",
       "    <tr>\n",
       "      <th>1</th>\n",
       "      <td>0.556503</td>\n",
       "      <td>0.398599</td>\n",
       "      <td>0.446793</td>\n",
       "      <td>0.294116</td>\n",
       "      <td>0.578228</td>\n",
       "    </tr>\n",
       "    <tr>\n",
       "      <th>2</th>\n",
       "      <td>0.396158</td>\n",
       "      <td>0.209460</td>\n",
       "      <td>0.160020</td>\n",
       "      <td>0.158106</td>\n",
       "      <td>0.408294</td>\n",
       "    </tr>\n",
       "    <tr>\n",
       "      <th>3</th>\n",
       "      <td>0.957433</td>\n",
       "      <td>0.955482</td>\n",
       "      <td>0.689086</td>\n",
       "      <td>0.712305</td>\n",
       "      <td>0.139203</td>\n",
       "    </tr>\n",
       "    <tr>\n",
       "      <th>4</th>\n",
       "      <td>0.753133</td>\n",
       "      <td>0.178638</td>\n",
       "      <td>0.325383</td>\n",
       "      <td>0.625283</td>\n",
       "      <td>0.121348</td>\n",
       "    </tr>\n",
       "    <tr>\n",
       "      <th>...</th>\n",
       "      <td>...</td>\n",
       "      <td>...</td>\n",
       "      <td>...</td>\n",
       "      <td>...</td>\n",
       "      <td>...</td>\n",
       "    </tr>\n",
       "    <tr>\n",
       "      <th>329</th>\n",
       "      <td>0.441475</td>\n",
       "      <td>0.655558</td>\n",
       "      <td>0.612497</td>\n",
       "      <td>0.387833</td>\n",
       "      <td>0.991446</td>\n",
       "    </tr>\n",
       "    <tr>\n",
       "      <th>330</th>\n",
       "      <td>0.428905</td>\n",
       "      <td>0.209517</td>\n",
       "      <td>0.255788</td>\n",
       "      <td>0.292788</td>\n",
       "      <td>0.804842</td>\n",
       "    </tr>\n",
       "    <tr>\n",
       "      <th>331</th>\n",
       "      <td>0.660376</td>\n",
       "      <td>0.468225</td>\n",
       "      <td>0.009912</td>\n",
       "      <td>0.197922</td>\n",
       "      <td>0.814328</td>\n",
       "    </tr>\n",
       "    <tr>\n",
       "      <th>332</th>\n",
       "      <td>0.534218</td>\n",
       "      <td>0.071101</td>\n",
       "      <td>0.818009</td>\n",
       "      <td>0.988615</td>\n",
       "      <td>0.018689</td>\n",
       "    </tr>\n",
       "    <tr>\n",
       "      <th>333</th>\n",
       "      <td>0.919575</td>\n",
       "      <td>0.009739</td>\n",
       "      <td>0.233857</td>\n",
       "      <td>0.665627</td>\n",
       "      <td>0.619869</td>\n",
       "    </tr>\n",
       "  </tbody>\n",
       "</table>\n",
       "<p>334 rows × 5 columns</p>\n",
       "</div>"
      ],
      "text/plain": [
       "            4         3         2         1         0\n",
       "0    0.309086  0.385266  0.444732  0.042080      0.46\n",
       "1    0.556503  0.398599  0.446793  0.294116  0.578228\n",
       "2    0.396158  0.209460  0.160020  0.158106  0.408294\n",
       "3    0.957433  0.955482  0.689086  0.712305  0.139203\n",
       "4    0.753133  0.178638  0.325383  0.625283  0.121348\n",
       "..        ...       ...       ...       ...       ...\n",
       "329  0.441475  0.655558  0.612497  0.387833  0.991446\n",
       "330  0.428905  0.209517  0.255788  0.292788  0.804842\n",
       "331  0.660376  0.468225  0.009912  0.197922  0.814328\n",
       "332  0.534218  0.071101  0.818009  0.988615  0.018689\n",
       "333  0.919575  0.009739  0.233857  0.665627  0.619869\n",
       "\n",
       "[334 rows x 5 columns]"
      ]
     },
     "execution_count": 75,
     "metadata": {},
     "output_type": "execute_result"
    }
   ],
   "source": [
    "newdf.sort_index(axis=1, ascending=False)"
   ]
  },
  {
   "cell_type": "code",
   "execution_count": 76,
   "id": "870b6042",
   "metadata": {},
   "outputs": [
    {
     "data": {
      "text/html": [
       "<div>\n",
       "<style scoped>\n",
       "    .dataframe tbody tr th:only-of-type {\n",
       "        vertical-align: middle;\n",
       "    }\n",
       "\n",
       "    .dataframe tbody tr th {\n",
       "        vertical-align: top;\n",
       "    }\n",
       "\n",
       "    .dataframe thead th {\n",
       "        text-align: right;\n",
       "    }\n",
       "</style>\n",
       "<table border=\"1\" class=\"dataframe\">\n",
       "  <thead>\n",
       "    <tr style=\"text-align: right;\">\n",
       "      <th></th>\n",
       "      <th>0</th>\n",
       "      <th>1</th>\n",
       "      <th>2</th>\n",
       "      <th>3</th>\n",
       "      <th>4</th>\n",
       "    </tr>\n",
       "  </thead>\n",
       "  <tbody>\n",
       "    <tr>\n",
       "      <th>0</th>\n",
       "      <td>0.46</td>\n",
       "      <td>0.042080</td>\n",
       "      <td>0.444732</td>\n",
       "      <td>0.385266</td>\n",
       "      <td>0.309086</td>\n",
       "    </tr>\n",
       "    <tr>\n",
       "      <th>1</th>\n",
       "      <td>0.578228</td>\n",
       "      <td>0.294116</td>\n",
       "      <td>0.446793</td>\n",
       "      <td>0.398599</td>\n",
       "      <td>0.556503</td>\n",
       "    </tr>\n",
       "    <tr>\n",
       "      <th>2</th>\n",
       "      <td>0.408294</td>\n",
       "      <td>0.158106</td>\n",
       "      <td>0.160020</td>\n",
       "      <td>0.209460</td>\n",
       "      <td>0.396158</td>\n",
       "    </tr>\n",
       "    <tr>\n",
       "      <th>3</th>\n",
       "      <td>0.139203</td>\n",
       "      <td>0.712305</td>\n",
       "      <td>0.689086</td>\n",
       "      <td>0.955482</td>\n",
       "      <td>0.957433</td>\n",
       "    </tr>\n",
       "    <tr>\n",
       "      <th>4</th>\n",
       "      <td>0.121348</td>\n",
       "      <td>0.625283</td>\n",
       "      <td>0.325383</td>\n",
       "      <td>0.178638</td>\n",
       "      <td>0.753133</td>\n",
       "    </tr>\n",
       "  </tbody>\n",
       "</table>\n",
       "</div>"
      ],
      "text/plain": [
       "          0         1         2         3         4\n",
       "0      0.46  0.042080  0.444732  0.385266  0.309086\n",
       "1  0.578228  0.294116  0.446793  0.398599  0.556503\n",
       "2  0.408294  0.158106  0.160020  0.209460  0.396158\n",
       "3  0.139203  0.712305  0.689086  0.955482  0.957433\n",
       "4  0.121348  0.625283  0.325383  0.178638  0.753133"
      ]
     },
     "execution_count": 76,
     "metadata": {},
     "output_type": "execute_result"
    }
   ],
   "source": [
    "newdf.head()"
   ]
  },
  {
   "cell_type": "code",
   "execution_count": 77,
   "id": "ab51cf4e",
   "metadata": {},
   "outputs": [
    {
     "data": {
      "text/plain": [
       "pandas.core.series.Series"
      ]
     },
     "execution_count": 77,
     "metadata": {},
     "output_type": "execute_result"
    }
   ],
   "source": [
    "type(newdf[0])"
   ]
  },
  {
   "cell_type": "code",
   "execution_count": 78,
   "id": "9228a879",
   "metadata": {},
   "outputs": [],
   "source": [
    "newdf2 = newdf"
   ]
  },
  {
   "cell_type": "code",
   "execution_count": 79,
   "id": "7d443be9",
   "metadata": {},
   "outputs": [
    {
     "data": {
      "text/html": [
       "<div>\n",
       "<style scoped>\n",
       "    .dataframe tbody tr th:only-of-type {\n",
       "        vertical-align: middle;\n",
       "    }\n",
       "\n",
       "    .dataframe tbody tr th {\n",
       "        vertical-align: top;\n",
       "    }\n",
       "\n",
       "    .dataframe thead th {\n",
       "        text-align: right;\n",
       "    }\n",
       "</style>\n",
       "<table border=\"1\" class=\"dataframe\">\n",
       "  <thead>\n",
       "    <tr style=\"text-align: right;\">\n",
       "      <th></th>\n",
       "      <th>2</th>\n",
       "      <th>2</th>\n",
       "    </tr>\n",
       "  </thead>\n",
       "  <tbody>\n",
       "    <tr>\n",
       "      <th>1</th>\n",
       "      <td>0.446793</td>\n",
       "      <td>0.446793</td>\n",
       "    </tr>\n",
       "    <tr>\n",
       "      <th>1</th>\n",
       "      <td>0.446793</td>\n",
       "      <td>0.446793</td>\n",
       "    </tr>\n",
       "  </tbody>\n",
       "</table>\n",
       "</div>"
      ],
      "text/plain": [
       "          2         2\n",
       "1  0.446793  0.446793\n",
       "1  0.446793  0.446793"
      ]
     },
     "execution_count": 79,
     "metadata": {},
     "output_type": "execute_result"
    }
   ],
   "source": [
    "newdf.loc[[1,1],[2,2]]"
   ]
  },
  {
   "cell_type": "code",
   "execution_count": 80,
   "id": "25326d65",
   "metadata": {},
   "outputs": [
    {
     "data": {
      "text/plain": [
       "0.29411597784283183"
      ]
     },
     "execution_count": 80,
     "metadata": {},
     "output_type": "execute_result"
    }
   ],
   "source": [
    "newdf.iloc[1,1]"
   ]
  },
  {
   "cell_type": "code",
   "execution_count": 81,
   "id": "54a39ebd",
   "metadata": {},
   "outputs": [
    {
     "data": {
      "text/html": [
       "<div>\n",
       "<style scoped>\n",
       "    .dataframe tbody tr th:only-of-type {\n",
       "        vertical-align: middle;\n",
       "    }\n",
       "\n",
       "    .dataframe tbody tr th {\n",
       "        vertical-align: top;\n",
       "    }\n",
       "\n",
       "    .dataframe thead th {\n",
       "        text-align: right;\n",
       "    }\n",
       "</style>\n",
       "<table border=\"1\" class=\"dataframe\">\n",
       "  <thead>\n",
       "    <tr style=\"text-align: right;\">\n",
       "      <th></th>\n",
       "      <th>2</th>\n",
       "      <th>2</th>\n",
       "    </tr>\n",
       "  </thead>\n",
       "  <tbody>\n",
       "    <tr>\n",
       "      <th>1</th>\n",
       "      <td>0.446793</td>\n",
       "      <td>0.446793</td>\n",
       "    </tr>\n",
       "    <tr>\n",
       "      <th>1</th>\n",
       "      <td>0.446793</td>\n",
       "      <td>0.446793</td>\n",
       "    </tr>\n",
       "  </tbody>\n",
       "</table>\n",
       "</div>"
      ],
      "text/plain": [
       "          2         2\n",
       "1  0.446793  0.446793\n",
       "1  0.446793  0.446793"
      ]
     },
     "execution_count": 81,
     "metadata": {},
     "output_type": "execute_result"
    }
   ],
   "source": [
    "newdf.loc[[1,1],[2,2]]"
   ]
  },
  {
   "cell_type": "code",
   "execution_count": 82,
   "id": "2700242f",
   "metadata": {},
   "outputs": [
    {
     "data": {
      "text/html": [
       "<div>\n",
       "<style scoped>\n",
       "    .dataframe tbody tr th:only-of-type {\n",
       "        vertical-align: middle;\n",
       "    }\n",
       "\n",
       "    .dataframe tbody tr th {\n",
       "        vertical-align: top;\n",
       "    }\n",
       "\n",
       "    .dataframe thead th {\n",
       "        text-align: right;\n",
       "    }\n",
       "</style>\n",
       "<table border=\"1\" class=\"dataframe\">\n",
       "  <thead>\n",
       "    <tr style=\"text-align: right;\">\n",
       "      <th></th>\n",
       "      <th>2</th>\n",
       "      <th>2</th>\n",
       "    </tr>\n",
       "  </thead>\n",
       "  <tbody>\n",
       "    <tr>\n",
       "      <th>1</th>\n",
       "      <td>0.446793</td>\n",
       "      <td>0.446793</td>\n",
       "    </tr>\n",
       "    <tr>\n",
       "      <th>1</th>\n",
       "      <td>0.446793</td>\n",
       "      <td>0.446793</td>\n",
       "    </tr>\n",
       "  </tbody>\n",
       "</table>\n",
       "</div>"
      ],
      "text/plain": [
       "          2         2\n",
       "1  0.446793  0.446793\n",
       "1  0.446793  0.446793"
      ]
     },
     "execution_count": 82,
     "metadata": {},
     "output_type": "execute_result"
    }
   ],
   "source": [
    "newdf.iloc[[1,1],[2,2]]"
   ]
  },
  {
   "cell_type": "code",
   "execution_count": 83,
   "id": "9e457f18",
   "metadata": {},
   "outputs": [
    {
     "data": {
      "text/html": [
       "<div>\n",
       "<style scoped>\n",
       "    .dataframe tbody tr th:only-of-type {\n",
       "        vertical-align: middle;\n",
       "    }\n",
       "\n",
       "    .dataframe tbody tr th {\n",
       "        vertical-align: top;\n",
       "    }\n",
       "\n",
       "    .dataframe thead th {\n",
       "        text-align: right;\n",
       "    }\n",
       "</style>\n",
       "<table border=\"1\" class=\"dataframe\">\n",
       "  <thead>\n",
       "    <tr style=\"text-align: right;\">\n",
       "      <th></th>\n",
       "      <th>0</th>\n",
       "      <th>1</th>\n",
       "      <th>2</th>\n",
       "      <th>3</th>\n",
       "      <th>4</th>\n",
       "    </tr>\n",
       "  </thead>\n",
       "  <tbody>\n",
       "    <tr>\n",
       "      <th>0</th>\n",
       "      <td>0.46</td>\n",
       "      <td>0.042080</td>\n",
       "      <td>0.444732</td>\n",
       "      <td>0.385266</td>\n",
       "      <td>0.309086</td>\n",
       "    </tr>\n",
       "    <tr>\n",
       "      <th>1</th>\n",
       "      <td>0.578228</td>\n",
       "      <td>0.294116</td>\n",
       "      <td>0.446793</td>\n",
       "      <td>0.398599</td>\n",
       "      <td>0.556503</td>\n",
       "    </tr>\n",
       "    <tr>\n",
       "      <th>2</th>\n",
       "      <td>0.408294</td>\n",
       "      <td>0.158106</td>\n",
       "      <td>0.160020</td>\n",
       "      <td>0.209460</td>\n",
       "      <td>0.396158</td>\n",
       "    </tr>\n",
       "    <tr>\n",
       "      <th>3</th>\n",
       "      <td>0.139203</td>\n",
       "      <td>0.712305</td>\n",
       "      <td>0.689086</td>\n",
       "      <td>0.955482</td>\n",
       "      <td>0.957433</td>\n",
       "    </tr>\n",
       "    <tr>\n",
       "      <th>4</th>\n",
       "      <td>0.121348</td>\n",
       "      <td>0.625283</td>\n",
       "      <td>0.325383</td>\n",
       "      <td>0.178638</td>\n",
       "      <td>0.753133</td>\n",
       "    </tr>\n",
       "  </tbody>\n",
       "</table>\n",
       "</div>"
      ],
      "text/plain": [
       "          0         1         2         3         4\n",
       "0      0.46  0.042080  0.444732  0.385266  0.309086\n",
       "1  0.578228  0.294116  0.446793  0.398599  0.556503\n",
       "2  0.408294  0.158106  0.160020  0.209460  0.396158\n",
       "3  0.139203  0.712305  0.689086  0.955482  0.957433\n",
       "4  0.121348  0.625283  0.325383  0.178638  0.753133"
      ]
     },
     "execution_count": 83,
     "metadata": {},
     "output_type": "execute_result"
    }
   ],
   "source": [
    "newdf.head()"
   ]
  },
  {
   "cell_type": "code",
   "execution_count": 84,
   "id": "473db5cf",
   "metadata": {},
   "outputs": [
    {
     "data": {
      "text/html": [
       "<div>\n",
       "<style scoped>\n",
       "    .dataframe tbody tr th:only-of-type {\n",
       "        vertical-align: middle;\n",
       "    }\n",
       "\n",
       "    .dataframe tbody tr th {\n",
       "        vertical-align: top;\n",
       "    }\n",
       "\n",
       "    .dataframe thead th {\n",
       "        text-align: right;\n",
       "    }\n",
       "</style>\n",
       "<table border=\"1\" class=\"dataframe\">\n",
       "  <thead>\n",
       "    <tr style=\"text-align: right;\">\n",
       "      <th></th>\n",
       "      <th>0</th>\n",
       "      <th>1</th>\n",
       "      <th>2</th>\n",
       "      <th>3</th>\n",
       "      <th>4</th>\n",
       "    </tr>\n",
       "  </thead>\n",
       "  <tbody>\n",
       "    <tr>\n",
       "      <th>0</th>\n",
       "      <td>0.46</td>\n",
       "      <td>0.042080</td>\n",
       "      <td>0.444732</td>\n",
       "      <td>0.385266</td>\n",
       "      <td>0.309086</td>\n",
       "    </tr>\n",
       "    <tr>\n",
       "      <th>2</th>\n",
       "      <td>0.408294</td>\n",
       "      <td>0.158106</td>\n",
       "      <td>0.160020</td>\n",
       "      <td>0.209460</td>\n",
       "      <td>0.396158</td>\n",
       "    </tr>\n",
       "    <tr>\n",
       "      <th>3</th>\n",
       "      <td>0.139203</td>\n",
       "      <td>0.712305</td>\n",
       "      <td>0.689086</td>\n",
       "      <td>0.955482</td>\n",
       "      <td>0.957433</td>\n",
       "    </tr>\n",
       "    <tr>\n",
       "      <th>4</th>\n",
       "      <td>0.121348</td>\n",
       "      <td>0.625283</td>\n",
       "      <td>0.325383</td>\n",
       "      <td>0.178638</td>\n",
       "      <td>0.753133</td>\n",
       "    </tr>\n",
       "    <tr>\n",
       "      <th>5</th>\n",
       "      <td>0.286382</td>\n",
       "      <td>0.380735</td>\n",
       "      <td>0.331099</td>\n",
       "      <td>0.290671</td>\n",
       "      <td>0.160142</td>\n",
       "    </tr>\n",
       "    <tr>\n",
       "      <th>...</th>\n",
       "      <td>...</td>\n",
       "      <td>...</td>\n",
       "      <td>...</td>\n",
       "      <td>...</td>\n",
       "      <td>...</td>\n",
       "    </tr>\n",
       "    <tr>\n",
       "      <th>329</th>\n",
       "      <td>0.991446</td>\n",
       "      <td>0.387833</td>\n",
       "      <td>0.612497</td>\n",
       "      <td>0.655558</td>\n",
       "      <td>0.441475</td>\n",
       "    </tr>\n",
       "    <tr>\n",
       "      <th>330</th>\n",
       "      <td>0.804842</td>\n",
       "      <td>0.292788</td>\n",
       "      <td>0.255788</td>\n",
       "      <td>0.209517</td>\n",
       "      <td>0.428905</td>\n",
       "    </tr>\n",
       "    <tr>\n",
       "      <th>331</th>\n",
       "      <td>0.814328</td>\n",
       "      <td>0.197922</td>\n",
       "      <td>0.009912</td>\n",
       "      <td>0.468225</td>\n",
       "      <td>0.660376</td>\n",
       "    </tr>\n",
       "    <tr>\n",
       "      <th>332</th>\n",
       "      <td>0.018689</td>\n",
       "      <td>0.988615</td>\n",
       "      <td>0.818009</td>\n",
       "      <td>0.071101</td>\n",
       "      <td>0.534218</td>\n",
       "    </tr>\n",
       "    <tr>\n",
       "      <th>333</th>\n",
       "      <td>0.619869</td>\n",
       "      <td>0.665627</td>\n",
       "      <td>0.233857</td>\n",
       "      <td>0.009739</td>\n",
       "      <td>0.919575</td>\n",
       "    </tr>\n",
       "  </tbody>\n",
       "</table>\n",
       "<p>333 rows × 5 columns</p>\n",
       "</div>"
      ],
      "text/plain": [
       "            0         1         2         3         4\n",
       "0        0.46  0.042080  0.444732  0.385266  0.309086\n",
       "2    0.408294  0.158106  0.160020  0.209460  0.396158\n",
       "3    0.139203  0.712305  0.689086  0.955482  0.957433\n",
       "4    0.121348  0.625283  0.325383  0.178638  0.753133\n",
       "5    0.286382  0.380735  0.331099  0.290671  0.160142\n",
       "..        ...       ...       ...       ...       ...\n",
       "329  0.991446  0.387833  0.612497  0.655558  0.441475\n",
       "330  0.804842  0.292788  0.255788  0.209517  0.428905\n",
       "331  0.814328  0.197922  0.009912  0.468225  0.660376\n",
       "332  0.018689  0.988615  0.818009  0.071101  0.534218\n",
       "333  0.619869  0.665627  0.233857  0.009739  0.919575\n",
       "\n",
       "[333 rows x 5 columns]"
      ]
     },
     "execution_count": 84,
     "metadata": {},
     "output_type": "execute_result"
    }
   ],
   "source": [
    "newdf.drop(1)"
   ]
  },
  {
   "cell_type": "code",
   "execution_count": 85,
   "id": "741bfaa8",
   "metadata": {},
   "outputs": [],
   "source": [
    "newdf.reset_index(drop=True, inplace=True)"
   ]
  },
  {
   "cell_type": "code",
   "execution_count": 86,
   "id": "83ab4323",
   "metadata": {},
   "outputs": [
    {
     "data": {
      "text/html": [
       "<div>\n",
       "<style scoped>\n",
       "    .dataframe tbody tr th:only-of-type {\n",
       "        vertical-align: middle;\n",
       "    }\n",
       "\n",
       "    .dataframe tbody tr th {\n",
       "        vertical-align: top;\n",
       "    }\n",
       "\n",
       "    .dataframe thead th {\n",
       "        text-align: right;\n",
       "    }\n",
       "</style>\n",
       "<table border=\"1\" class=\"dataframe\">\n",
       "  <thead>\n",
       "    <tr style=\"text-align: right;\">\n",
       "      <th></th>\n",
       "      <th>0</th>\n",
       "      <th>1</th>\n",
       "      <th>2</th>\n",
       "      <th>3</th>\n",
       "      <th>4</th>\n",
       "    </tr>\n",
       "  </thead>\n",
       "  <tbody>\n",
       "    <tr>\n",
       "      <th>0</th>\n",
       "      <td>0.46</td>\n",
       "      <td>0.042080</td>\n",
       "      <td>0.444732</td>\n",
       "      <td>0.385266</td>\n",
       "      <td>0.309086</td>\n",
       "    </tr>\n",
       "    <tr>\n",
       "      <th>1</th>\n",
       "      <td>0.578228</td>\n",
       "      <td>0.294116</td>\n",
       "      <td>0.446793</td>\n",
       "      <td>0.398599</td>\n",
       "      <td>0.556503</td>\n",
       "    </tr>\n",
       "    <tr>\n",
       "      <th>2</th>\n",
       "      <td>0.408294</td>\n",
       "      <td>0.158106</td>\n",
       "      <td>0.160020</td>\n",
       "      <td>0.209460</td>\n",
       "      <td>0.396158</td>\n",
       "    </tr>\n",
       "    <tr>\n",
       "      <th>3</th>\n",
       "      <td>0.139203</td>\n",
       "      <td>0.712305</td>\n",
       "      <td>0.689086</td>\n",
       "      <td>0.955482</td>\n",
       "      <td>0.957433</td>\n",
       "    </tr>\n",
       "    <tr>\n",
       "      <th>4</th>\n",
       "      <td>0.121348</td>\n",
       "      <td>0.625283</td>\n",
       "      <td>0.325383</td>\n",
       "      <td>0.178638</td>\n",
       "      <td>0.753133</td>\n",
       "    </tr>\n",
       "  </tbody>\n",
       "</table>\n",
       "</div>"
      ],
      "text/plain": [
       "          0         1         2         3         4\n",
       "0      0.46  0.042080  0.444732  0.385266  0.309086\n",
       "1  0.578228  0.294116  0.446793  0.398599  0.556503\n",
       "2  0.408294  0.158106  0.160020  0.209460  0.396158\n",
       "3  0.139203  0.712305  0.689086  0.955482  0.957433\n",
       "4  0.121348  0.625283  0.325383  0.178638  0.753133"
      ]
     },
     "execution_count": 86,
     "metadata": {},
     "output_type": "execute_result"
    }
   ],
   "source": [
    "newdf.head()"
   ]
  },
  {
   "cell_type": "code",
   "execution_count": 87,
   "id": "bfe4a8c7",
   "metadata": {},
   "outputs": [
    {
     "data": {
      "text/plain": [
       "0      False\n",
       "1      False\n",
       "2      False\n",
       "3      False\n",
       "4      False\n",
       "       ...  \n",
       "329    False\n",
       "330    False\n",
       "331    False\n",
       "332    False\n",
       "333    False\n",
       "Name: 2, Length: 334, dtype: bool"
      ]
     },
     "execution_count": 87,
     "metadata": {},
     "output_type": "execute_result"
    }
   ],
   "source": [
    "newdf[2].isnull()"
   ]
  },
  {
   "cell_type": "code",
   "execution_count": 88,
   "id": "06d1d93c",
   "metadata": {},
   "outputs": [],
   "source": [
    "newdf[2]=None"
   ]
  },
  {
   "cell_type": "code",
   "execution_count": 89,
   "id": "14525734",
   "metadata": {},
   "outputs": [
    {
     "data": {
      "text/plain": [
       "0      True\n",
       "1      True\n",
       "2      True\n",
       "3      True\n",
       "4      True\n",
       "       ... \n",
       "329    True\n",
       "330    True\n",
       "331    True\n",
       "332    True\n",
       "333    True\n",
       "Name: 2, Length: 334, dtype: bool"
      ]
     },
     "execution_count": 89,
     "metadata": {},
     "output_type": "execute_result"
    }
   ],
   "source": [
    "newdf[2].isnull()"
   ]
  },
  {
   "cell_type": "code",
   "execution_count": 90,
   "id": "65c0478d",
   "metadata": {},
   "outputs": [],
   "source": [
    "newdf.loc[:,[2]]=45"
   ]
  },
  {
   "cell_type": "code",
   "execution_count": 91,
   "id": "3a875ff7",
   "metadata": {},
   "outputs": [
    {
     "data": {
      "text/html": [
       "<div>\n",
       "<style scoped>\n",
       "    .dataframe tbody tr th:only-of-type {\n",
       "        vertical-align: middle;\n",
       "    }\n",
       "\n",
       "    .dataframe tbody tr th {\n",
       "        vertical-align: top;\n",
       "    }\n",
       "\n",
       "    .dataframe thead th {\n",
       "        text-align: right;\n",
       "    }\n",
       "</style>\n",
       "<table border=\"1\" class=\"dataframe\">\n",
       "  <thead>\n",
       "    <tr style=\"text-align: right;\">\n",
       "      <th></th>\n",
       "      <th>0</th>\n",
       "      <th>1</th>\n",
       "      <th>2</th>\n",
       "      <th>3</th>\n",
       "      <th>4</th>\n",
       "    </tr>\n",
       "  </thead>\n",
       "  <tbody>\n",
       "    <tr>\n",
       "      <th>0</th>\n",
       "      <td>0.46</td>\n",
       "      <td>0.042080</td>\n",
       "      <td>45</td>\n",
       "      <td>0.385266</td>\n",
       "      <td>0.309086</td>\n",
       "    </tr>\n",
       "    <tr>\n",
       "      <th>1</th>\n",
       "      <td>0.578228</td>\n",
       "      <td>0.294116</td>\n",
       "      <td>45</td>\n",
       "      <td>0.398599</td>\n",
       "      <td>0.556503</td>\n",
       "    </tr>\n",
       "    <tr>\n",
       "      <th>2</th>\n",
       "      <td>0.408294</td>\n",
       "      <td>0.158106</td>\n",
       "      <td>45</td>\n",
       "      <td>0.209460</td>\n",
       "      <td>0.396158</td>\n",
       "    </tr>\n",
       "    <tr>\n",
       "      <th>3</th>\n",
       "      <td>0.139203</td>\n",
       "      <td>0.712305</td>\n",
       "      <td>45</td>\n",
       "      <td>0.955482</td>\n",
       "      <td>0.957433</td>\n",
       "    </tr>\n",
       "    <tr>\n",
       "      <th>4</th>\n",
       "      <td>0.121348</td>\n",
       "      <td>0.625283</td>\n",
       "      <td>45</td>\n",
       "      <td>0.178638</td>\n",
       "      <td>0.753133</td>\n",
       "    </tr>\n",
       "    <tr>\n",
       "      <th>...</th>\n",
       "      <td>...</td>\n",
       "      <td>...</td>\n",
       "      <td>...</td>\n",
       "      <td>...</td>\n",
       "      <td>...</td>\n",
       "    </tr>\n",
       "    <tr>\n",
       "      <th>329</th>\n",
       "      <td>0.991446</td>\n",
       "      <td>0.387833</td>\n",
       "      <td>45</td>\n",
       "      <td>0.655558</td>\n",
       "      <td>0.441475</td>\n",
       "    </tr>\n",
       "    <tr>\n",
       "      <th>330</th>\n",
       "      <td>0.804842</td>\n",
       "      <td>0.292788</td>\n",
       "      <td>45</td>\n",
       "      <td>0.209517</td>\n",
       "      <td>0.428905</td>\n",
       "    </tr>\n",
       "    <tr>\n",
       "      <th>331</th>\n",
       "      <td>0.814328</td>\n",
       "      <td>0.197922</td>\n",
       "      <td>45</td>\n",
       "      <td>0.468225</td>\n",
       "      <td>0.660376</td>\n",
       "    </tr>\n",
       "    <tr>\n",
       "      <th>332</th>\n",
       "      <td>0.018689</td>\n",
       "      <td>0.988615</td>\n",
       "      <td>45</td>\n",
       "      <td>0.071101</td>\n",
       "      <td>0.534218</td>\n",
       "    </tr>\n",
       "    <tr>\n",
       "      <th>333</th>\n",
       "      <td>0.619869</td>\n",
       "      <td>0.665627</td>\n",
       "      <td>45</td>\n",
       "      <td>0.009739</td>\n",
       "      <td>0.919575</td>\n",
       "    </tr>\n",
       "  </tbody>\n",
       "</table>\n",
       "<p>334 rows × 5 columns</p>\n",
       "</div>"
      ],
      "text/plain": [
       "            0         1   2         3         4\n",
       "0        0.46  0.042080  45  0.385266  0.309086\n",
       "1    0.578228  0.294116  45  0.398599  0.556503\n",
       "2    0.408294  0.158106  45  0.209460  0.396158\n",
       "3    0.139203  0.712305  45  0.955482  0.957433\n",
       "4    0.121348  0.625283  45  0.178638  0.753133\n",
       "..        ...       ...  ..       ...       ...\n",
       "329  0.991446  0.387833  45  0.655558  0.441475\n",
       "330  0.804842  0.292788  45  0.209517  0.428905\n",
       "331  0.814328  0.197922  45  0.468225  0.660376\n",
       "332  0.018689  0.988615  45  0.071101  0.534218\n",
       "333  0.619869  0.665627  45  0.009739  0.919575\n",
       "\n",
       "[334 rows x 5 columns]"
      ]
     },
     "execution_count": 91,
     "metadata": {},
     "output_type": "execute_result"
    }
   ],
   "source": [
    "newdf"
   ]
  },
  {
   "cell_type": "code",
   "execution_count": 92,
   "id": "e86c9d11",
   "metadata": {},
   "outputs": [
    {
     "data": {
      "text/plain": [
       "'dcbdcw\\ndcvgudd\\n\\\\wdcbidd\\nvusdndc\\ncvshbcjkdc\\n'"
      ]
     },
     "execution_count": 92,
     "metadata": {},
     "output_type": "execute_result"
    }
   ],
   "source": [
    "\"\"\"dcbdcw\n",
    "dcvgudd\n",
    "\\wdcbidd\n",
    "vusdndc\n",
    "cvshbcjkdc\n",
    "\"\"\""
   ]
  },
  {
   "cell_type": "code",
   "execution_count": 93,
   "id": "0c01d9d2",
   "metadata": {},
   "outputs": [],
   "source": [
    "#ytghjwughj"
   ]
  },
  {
   "cell_type": "code",
   "execution_count": 94,
   "id": "45e4c502",
   "metadata": {},
   "outputs": [
    {
     "name": "stdout",
     "output_type": "stream",
     "text": [
      "14\n"
     ]
    }
   ],
   "source": [
    "a=10\n",
    "b=4\n",
    "print(a+b)"
   ]
  },
  {
   "cell_type": "code",
   "execution_count": null,
   "id": "eb4b003d",
   "metadata": {},
   "outputs": [],
   "source": []
  }
 ],
 "metadata": {
  "kernelspec": {
   "display_name": "Python 3 (ipykernel)",
   "language": "python",
   "name": "python3"
  },
  "language_info": {
   "codemirror_mode": {
    "name": "ipython",
    "version": 3
   },
   "file_extension": ".py",
   "mimetype": "text/x-python",
   "name": "python",
   "nbconvert_exporter": "python",
   "pygments_lexer": "ipython3",
   "version": "3.9.7"
  }
 },
 "nbformat": 4,
 "nbformat_minor": 5
}
